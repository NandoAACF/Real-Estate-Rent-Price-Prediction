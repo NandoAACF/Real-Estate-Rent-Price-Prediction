{
  "cells": [
    {
      "cell_type": "markdown",
      "source": [
        "# **Real Estate Price Prediction using Linear Regression**\n",
        "## Nama Anggota:\n",
        "## 1. Agustinus Angelo Christian Fernando - 21/473804/TK/52235\n",
        "## 2. Aufa Nasywa Rahman - 21/475255/TK/52454\n",
        "## 3. Ahmad Zaki Akmal - 21/480179/TK/52981"
      ],
      "metadata": {
        "id": "fAI7Cpp3NN3w"
      },
      "id": "fAI7Cpp3NN3w"
    },
    {
      "cell_type": "markdown",
      "source": [
        "# **Deskripsi Data**\n",
        "#### Sumber Dataset: https://github.com/Codecademy/datasets/tree/master/streeteasy\n",
        "#### Dataset ini berisi tentang data bangunan di wilayah Queens, New York.\n",
        "#### Dataset ini diambil oleh StreetEasy yang merupakan salah satu marketplace Real Estate terbesar di New York. \n",
        "#### Bangunan yang ada di sini beragam, mulai dari yang tipe studio sampai bangunan besar bertingkat.\n",
        "#### Ada 448 data bangunan di dataset ini\n"
      ],
      "metadata": {
        "id": "TOvqHMk3w9Aj"
      },
      "id": "TOvqHMk3w9Aj"
    },
    {
      "cell_type": "markdown",
      "source": [
        "# **Deskripsi setiap feature:**\n",
        "#### `rental_id` | Id setiap penyewaan\n",
        "#### `rent` | Harga sewa bangunan dalam mata uang Dollar Amerika.\n",
        "#### `bedrooms` | Jumlah kamar tidur di bangunan tersebut.\n",
        "#### `bathrooms` | Jumlah kamar mandi di bangunan tersebut.\n",
        "#### `size_sqft` | Luas bangunan dalam satuan square feet.\n",
        "#### `min_to_subway` | Waktu yang dibutuhkan untuk ke subway (dalam satuan menit)\n",
        "#### `floor` | lantai yang disewakan\n",
        "#### `building_age_yrs` | Umur bangunan tersebut\n",
        "#### `no_fee` | Apakah ada fee untuk broker? (0 jika ada, 1 jika tidak ada)\n",
        "#### `has_roofdeck` | Apakah ada roof deck? (0 jika tidak ada, 1 jika ada)\n",
        "#### `has_washer_dryer` | Apakah ada washer atau dryer? (0 jika tidak ada, 1 jika ada)\n",
        "#### `has_doorman` | Apakah ada doorman? (0 jika tidak ada, 1 jika ada)\n",
        "#### `has_elevator` | Apakah ada elevator? (0 jika tidak ada, 1 jika ada)\n",
        "#### `has_dishwasher` | Apakah ada pencuci piring? (0 jika tidak ada, 1 jika ada)\n",
        "#### `has_patio` | Apakah ada teras? (0 jika tidak ada, 1 jika ada)\n",
        "#### `has_gym` | Apakah ada gym? (0 jika tidak ada, 1 jika ada)\n",
        "#### `neighborhood` | Nama daerah tempat bangunan berada\n",
        "#### `borough` | Nama borough tempat bangunan berada"
      ],
      "metadata": {
        "id": "EttCy1LlgUTt"
      },
      "id": "EttCy1LlgUTt"
    },
    {
      "cell_type": "code",
      "execution_count": null,
      "id": "0d609764",
      "metadata": {
        "id": "0d609764"
      },
      "outputs": [],
      "source": [
        "# Import Package yang dibutuhkan\n",
        "import numpy as np \n",
        "import pandas as pd \n",
        "import seaborn as sns\n",
        "import matplotlib.pyplot as plt\n",
        "import plotly.express as px\n",
        "\n",
        "# Import sklearn khusus untuk splitting data\n",
        "from sklearn.model_selection import train_test_split "
      ]
    },
    {
      "cell_type": "markdown",
      "source": [
        "# **Data PreProcessing, Data Cleaning, dan EDA**"
      ],
      "metadata": {
        "id": "wsPUmj6QYEpL"
      },
      "id": "wsPUmj6QYEpL"
    },
    {
      "cell_type": "code",
      "source": [
        "# Mendownload dataset dari sumber data\n",
        "!wget https://raw.githubusercontent.com/Codecademy/datasets/master/streeteasy/queens.csv -O data.csv"
      ],
      "metadata": {
        "colab": {
          "base_uri": "https://localhost:8080/"
        },
        "id": "k8luYida-to2",
        "outputId": "6da5557a-0321-497e-a3b8-5fd5e7e35832"
      },
      "id": "k8luYida-to2",
      "execution_count": null,
      "outputs": [
        {
          "output_type": "stream",
          "name": "stdout",
          "text": [
            "--2023-03-30 06:42:33--  https://raw.githubusercontent.com/Codecademy/datasets/master/streeteasy/queens.csv\n",
            "Resolving raw.githubusercontent.com (raw.githubusercontent.com)... 185.199.110.133, 185.199.109.133, 185.199.111.133, ...\n",
            "Connecting to raw.githubusercontent.com (raw.githubusercontent.com)|185.199.110.133|:443... connected.\n",
            "HTTP request sent, awaiting response... 200 OK\n",
            "Length: 28855 (28K) [text/plain]\n",
            "Saving to: ‘data.csv’\n",
            "\n",
            "\rdata.csv              0%[                    ]       0  --.-KB/s               \rdata.csv            100%[===================>]  28.18K  --.-KB/s    in 0.003s  \n",
            "\n",
            "2023-03-30 06:42:33 (10.7 MB/s) - ‘data.csv’ saved [28855/28855]\n",
            "\n"
          ]
        }
      ]
    },
    {
      "cell_type": "code",
      "execution_count": null,
      "id": "82d3304b",
      "metadata": {
        "colab": {
          "base_uri": "https://localhost:8080/",
          "height": 270
        },
        "id": "82d3304b",
        "outputId": "08d39cfe-e289-47ea-d2f3-a1be5235b86a"
      },
      "outputs": [
        {
          "output_type": "execute_result",
          "data": {
            "text/plain": [
              "   rental_id  rent  bedrooms  bathrooms  size_sqft  min_to_subway  floor  \\\n",
              "0      10234  3000       3.0          1       1000              4    1.0   \n",
              "1      10524  1950       1.0          1        950              1    3.0   \n",
              "2       5465  3500       1.0          1        996              9    7.0   \n",
              "3       5259  1725       1.0          1        800              1    2.0   \n",
              "4       9736  1700       1.0          1        730             10    3.0   \n",
              "\n",
              "   building_age_yrs  no_fee  has_roofdeck  has_washer_dryer  has_doorman  \\\n",
              "0               106       0             0                 0            0   \n",
              "1                83       0             0                 0            0   \n",
              "2                 3       1             0                 0            0   \n",
              "3                89       0             0                 0            0   \n",
              "4                 7       0             0                 0            0   \n",
              "\n",
              "   has_elevator  has_dishwasher  has_patio  has_gym  neighborhood borough  \n",
              "0             0               0          0        0       Astoria  Queens  \n",
              "1             0               0          0        0  Forest Hills  Queens  \n",
              "2             0               0          0        0       Astoria  Queens  \n",
              "3             0               0          0        0       Astoria  Queens  \n",
              "4             0               0          0        0     Briarwood  Queens  "
            ],
            "text/html": [
              "\n",
              "  <div id=\"df-36a782bd-35ed-4985-9124-747d075c391c\">\n",
              "    <div class=\"colab-df-container\">\n",
              "      <div>\n",
              "<style scoped>\n",
              "    .dataframe tbody tr th:only-of-type {\n",
              "        vertical-align: middle;\n",
              "    }\n",
              "\n",
              "    .dataframe tbody tr th {\n",
              "        vertical-align: top;\n",
              "    }\n",
              "\n",
              "    .dataframe thead th {\n",
              "        text-align: right;\n",
              "    }\n",
              "</style>\n",
              "<table border=\"1\" class=\"dataframe\">\n",
              "  <thead>\n",
              "    <tr style=\"text-align: right;\">\n",
              "      <th></th>\n",
              "      <th>rental_id</th>\n",
              "      <th>rent</th>\n",
              "      <th>bedrooms</th>\n",
              "      <th>bathrooms</th>\n",
              "      <th>size_sqft</th>\n",
              "      <th>min_to_subway</th>\n",
              "      <th>floor</th>\n",
              "      <th>building_age_yrs</th>\n",
              "      <th>no_fee</th>\n",
              "      <th>has_roofdeck</th>\n",
              "      <th>has_washer_dryer</th>\n",
              "      <th>has_doorman</th>\n",
              "      <th>has_elevator</th>\n",
              "      <th>has_dishwasher</th>\n",
              "      <th>has_patio</th>\n",
              "      <th>has_gym</th>\n",
              "      <th>neighborhood</th>\n",
              "      <th>borough</th>\n",
              "    </tr>\n",
              "  </thead>\n",
              "  <tbody>\n",
              "    <tr>\n",
              "      <th>0</th>\n",
              "      <td>10234</td>\n",
              "      <td>3000</td>\n",
              "      <td>3.0</td>\n",
              "      <td>1</td>\n",
              "      <td>1000</td>\n",
              "      <td>4</td>\n",
              "      <td>1.0</td>\n",
              "      <td>106</td>\n",
              "      <td>0</td>\n",
              "      <td>0</td>\n",
              "      <td>0</td>\n",
              "      <td>0</td>\n",
              "      <td>0</td>\n",
              "      <td>0</td>\n",
              "      <td>0</td>\n",
              "      <td>0</td>\n",
              "      <td>Astoria</td>\n",
              "      <td>Queens</td>\n",
              "    </tr>\n",
              "    <tr>\n",
              "      <th>1</th>\n",
              "      <td>10524</td>\n",
              "      <td>1950</td>\n",
              "      <td>1.0</td>\n",
              "      <td>1</td>\n",
              "      <td>950</td>\n",
              "      <td>1</td>\n",
              "      <td>3.0</td>\n",
              "      <td>83</td>\n",
              "      <td>0</td>\n",
              "      <td>0</td>\n",
              "      <td>0</td>\n",
              "      <td>0</td>\n",
              "      <td>0</td>\n",
              "      <td>0</td>\n",
              "      <td>0</td>\n",
              "      <td>0</td>\n",
              "      <td>Forest Hills</td>\n",
              "      <td>Queens</td>\n",
              "    </tr>\n",
              "    <tr>\n",
              "      <th>2</th>\n",
              "      <td>5465</td>\n",
              "      <td>3500</td>\n",
              "      <td>1.0</td>\n",
              "      <td>1</td>\n",
              "      <td>996</td>\n",
              "      <td>9</td>\n",
              "      <td>7.0</td>\n",
              "      <td>3</td>\n",
              "      <td>1</td>\n",
              "      <td>0</td>\n",
              "      <td>0</td>\n",
              "      <td>0</td>\n",
              "      <td>0</td>\n",
              "      <td>0</td>\n",
              "      <td>0</td>\n",
              "      <td>0</td>\n",
              "      <td>Astoria</td>\n",
              "      <td>Queens</td>\n",
              "    </tr>\n",
              "    <tr>\n",
              "      <th>3</th>\n",
              "      <td>5259</td>\n",
              "      <td>1725</td>\n",
              "      <td>1.0</td>\n",
              "      <td>1</td>\n",
              "      <td>800</td>\n",
              "      <td>1</td>\n",
              "      <td>2.0</td>\n",
              "      <td>89</td>\n",
              "      <td>0</td>\n",
              "      <td>0</td>\n",
              "      <td>0</td>\n",
              "      <td>0</td>\n",
              "      <td>0</td>\n",
              "      <td>0</td>\n",
              "      <td>0</td>\n",
              "      <td>0</td>\n",
              "      <td>Astoria</td>\n",
              "      <td>Queens</td>\n",
              "    </tr>\n",
              "    <tr>\n",
              "      <th>4</th>\n",
              "      <td>9736</td>\n",
              "      <td>1700</td>\n",
              "      <td>1.0</td>\n",
              "      <td>1</td>\n",
              "      <td>730</td>\n",
              "      <td>10</td>\n",
              "      <td>3.0</td>\n",
              "      <td>7</td>\n",
              "      <td>0</td>\n",
              "      <td>0</td>\n",
              "      <td>0</td>\n",
              "      <td>0</td>\n",
              "      <td>0</td>\n",
              "      <td>0</td>\n",
              "      <td>0</td>\n",
              "      <td>0</td>\n",
              "      <td>Briarwood</td>\n",
              "      <td>Queens</td>\n",
              "    </tr>\n",
              "  </tbody>\n",
              "</table>\n",
              "</div>\n",
              "      <button class=\"colab-df-convert\" onclick=\"convertToInteractive('df-36a782bd-35ed-4985-9124-747d075c391c')\"\n",
              "              title=\"Convert this dataframe to an interactive table.\"\n",
              "              style=\"display:none;\">\n",
              "        \n",
              "  <svg xmlns=\"http://www.w3.org/2000/svg\" height=\"24px\"viewBox=\"0 0 24 24\"\n",
              "       width=\"24px\">\n",
              "    <path d=\"M0 0h24v24H0V0z\" fill=\"none\"/>\n",
              "    <path d=\"M18.56 5.44l.94 2.06.94-2.06 2.06-.94-2.06-.94-.94-2.06-.94 2.06-2.06.94zm-11 1L8.5 8.5l.94-2.06 2.06-.94-2.06-.94L8.5 2.5l-.94 2.06-2.06.94zm10 10l.94 2.06.94-2.06 2.06-.94-2.06-.94-.94-2.06-.94 2.06-2.06.94z\"/><path d=\"M17.41 7.96l-1.37-1.37c-.4-.4-.92-.59-1.43-.59-.52 0-1.04.2-1.43.59L10.3 9.45l-7.72 7.72c-.78.78-.78 2.05 0 2.83L4 21.41c.39.39.9.59 1.41.59.51 0 1.02-.2 1.41-.59l7.78-7.78 2.81-2.81c.8-.78.8-2.07 0-2.86zM5.41 20L4 18.59l7.72-7.72 1.47 1.35L5.41 20z\"/>\n",
              "  </svg>\n",
              "      </button>\n",
              "      \n",
              "  <style>\n",
              "    .colab-df-container {\n",
              "      display:flex;\n",
              "      flex-wrap:wrap;\n",
              "      gap: 12px;\n",
              "    }\n",
              "\n",
              "    .colab-df-convert {\n",
              "      background-color: #E8F0FE;\n",
              "      border: none;\n",
              "      border-radius: 50%;\n",
              "      cursor: pointer;\n",
              "      display: none;\n",
              "      fill: #1967D2;\n",
              "      height: 32px;\n",
              "      padding: 0 0 0 0;\n",
              "      width: 32px;\n",
              "    }\n",
              "\n",
              "    .colab-df-convert:hover {\n",
              "      background-color: #E2EBFA;\n",
              "      box-shadow: 0px 1px 2px rgba(60, 64, 67, 0.3), 0px 1px 3px 1px rgba(60, 64, 67, 0.15);\n",
              "      fill: #174EA6;\n",
              "    }\n",
              "\n",
              "    [theme=dark] .colab-df-convert {\n",
              "      background-color: #3B4455;\n",
              "      fill: #D2E3FC;\n",
              "    }\n",
              "\n",
              "    [theme=dark] .colab-df-convert:hover {\n",
              "      background-color: #434B5C;\n",
              "      box-shadow: 0px 1px 3px 1px rgba(0, 0, 0, 0.15);\n",
              "      filter: drop-shadow(0px 1px 2px rgba(0, 0, 0, 0.3));\n",
              "      fill: #FFFFFF;\n",
              "    }\n",
              "  </style>\n",
              "\n",
              "      <script>\n",
              "        const buttonEl =\n",
              "          document.querySelector('#df-36a782bd-35ed-4985-9124-747d075c391c button.colab-df-convert');\n",
              "        buttonEl.style.display =\n",
              "          google.colab.kernel.accessAllowed ? 'block' : 'none';\n",
              "\n",
              "        async function convertToInteractive(key) {\n",
              "          const element = document.querySelector('#df-36a782bd-35ed-4985-9124-747d075c391c');\n",
              "          const dataTable =\n",
              "            await google.colab.kernel.invokeFunction('convertToInteractive',\n",
              "                                                     [key], {});\n",
              "          if (!dataTable) return;\n",
              "\n",
              "          const docLinkHtml = 'Like what you see? Visit the ' +\n",
              "            '<a target=\"_blank\" href=https://colab.research.google.com/notebooks/data_table.ipynb>data table notebook</a>'\n",
              "            + ' to learn more about interactive tables.';\n",
              "          element.innerHTML = '';\n",
              "          dataTable['output_type'] = 'display_data';\n",
              "          await google.colab.output.renderOutput(dataTable, element);\n",
              "          const docLink = document.createElement('div');\n",
              "          docLink.innerHTML = docLinkHtml;\n",
              "          element.appendChild(docLink);\n",
              "        }\n",
              "      </script>\n",
              "    </div>\n",
              "  </div>\n",
              "  "
            ]
          },
          "metadata": {},
          "execution_count": 37
        }
      ],
      "source": [
        "# Membaca dan menampilkan dataset\n",
        "df = pd.read_csv('data.csv')\n",
        "df.head(5)"
      ]
    },
    {
      "cell_type": "code",
      "execution_count": null,
      "id": "b8504422",
      "metadata": {
        "id": "b8504422",
        "colab": {
          "base_uri": "https://localhost:8080/"
        },
        "outputId": "734c22ec-529a-42e4-d998-3596af67b8a4"
      },
      "outputs": [
        {
          "output_type": "execute_result",
          "data": {
            "text/plain": [
              "rental_id           0\n",
              "rent                0\n",
              "bedrooms            0\n",
              "bathrooms           0\n",
              "size_sqft           0\n",
              "min_to_subway       0\n",
              "floor               0\n",
              "building_age_yrs    0\n",
              "no_fee              0\n",
              "has_roofdeck        0\n",
              "has_washer_dryer    0\n",
              "has_doorman         0\n",
              "has_elevator        0\n",
              "has_dishwasher      0\n",
              "has_patio           0\n",
              "has_gym             0\n",
              "neighborhood        0\n",
              "borough             0\n",
              "dtype: int64"
            ]
          },
          "metadata": {},
          "execution_count": 38
        }
      ],
      "source": [
        "# Mengecek apakah ada value yang null\n",
        "df.isnull().sum()"
      ]
    },
    {
      "cell_type": "markdown",
      "source": [
        "Tampak bahwa tidak ada value yang null"
      ],
      "metadata": {
        "id": "LOtLX_izon3m"
      },
      "id": "LOtLX_izon3m"
    },
    {
      "cell_type": "code",
      "source": [
        "# Melihat deskripsi data\n",
        "df.describe()"
      ],
      "metadata": {
        "id": "iY3MWCOW-uu5",
        "colab": {
          "base_uri": "https://localhost:8080/",
          "height": 364
        },
        "outputId": "ad66a85f-4b78-4ffa-e39e-c21815f9ba4b"
      },
      "id": "iY3MWCOW-uu5",
      "execution_count": null,
      "outputs": [
        {
          "output_type": "execute_result",
          "data": {
            "text/plain": [
              "          rental_id         rent    bedrooms   bathrooms    size_sqft  \\\n",
              "count    448.000000   448.000000  448.000000  448.000000   448.000000   \n",
              "mean    6107.640625  2516.147321    1.327009    1.160714   811.841518   \n",
              "std     2977.197967   854.612400    0.822425    0.402533   239.367987   \n",
              "min       70.000000  1250.000000    0.000000    0.000000   340.000000   \n",
              "25%     3635.250000  1900.000000    1.000000    1.000000   650.000000   \n",
              "50%     6211.000000  2350.000000    1.000000    1.000000   787.000000   \n",
              "75%     8523.500000  2950.000000    2.000000    1.000000   965.250000   \n",
              "max    11320.000000  8000.000000    4.000000    3.000000  2000.000000   \n",
              "\n",
              "       min_to_subway       floor  building_age_yrs      no_fee  has_roofdeck  \\\n",
              "count     448.000000  448.000000        448.000000  448.000000    448.000000   \n",
              "mean        6.743304    5.626116         44.645089    0.441964      0.062500   \n",
              "std         6.500986    5.635582         35.852375    0.497176      0.242332   \n",
              "min         0.000000    1.000000          0.000000    0.000000      0.000000   \n",
              "25%         3.000000    2.000000          7.000000    0.000000      0.000000   \n",
              "50%         5.000000    3.500000         53.500000    0.000000      0.000000   \n",
              "75%         9.000000    6.000000         85.000000    1.000000      0.000000   \n",
              "max        51.000000   29.000000        126.000000    1.000000      1.000000   \n",
              "\n",
              "       has_washer_dryer  has_doorman  has_elevator  has_dishwasher  \\\n",
              "count        448.000000   448.000000    448.000000      448.000000   \n",
              "mean           0.055804     0.089286      0.078125        0.066964   \n",
              "std            0.229799     0.285474      0.268668        0.250240   \n",
              "min            0.000000     0.000000      0.000000        0.000000   \n",
              "25%            0.000000     0.000000      0.000000        0.000000   \n",
              "50%            0.000000     0.000000      0.000000        0.000000   \n",
              "75%            0.000000     0.000000      0.000000        0.000000   \n",
              "max            1.000000     1.000000      1.000000        1.000000   \n",
              "\n",
              "        has_patio     has_gym  \n",
              "count  448.000000  448.000000  \n",
              "mean     0.024554    0.051339  \n",
              "std      0.154933    0.220936  \n",
              "min      0.000000    0.000000  \n",
              "25%      0.000000    0.000000  \n",
              "50%      0.000000    0.000000  \n",
              "75%      0.000000    0.000000  \n",
              "max      1.000000    1.000000  "
            ],
            "text/html": [
              "\n",
              "  <div id=\"df-bfa435e4-4c7e-4a06-a339-04c54d582e02\">\n",
              "    <div class=\"colab-df-container\">\n",
              "      <div>\n",
              "<style scoped>\n",
              "    .dataframe tbody tr th:only-of-type {\n",
              "        vertical-align: middle;\n",
              "    }\n",
              "\n",
              "    .dataframe tbody tr th {\n",
              "        vertical-align: top;\n",
              "    }\n",
              "\n",
              "    .dataframe thead th {\n",
              "        text-align: right;\n",
              "    }\n",
              "</style>\n",
              "<table border=\"1\" class=\"dataframe\">\n",
              "  <thead>\n",
              "    <tr style=\"text-align: right;\">\n",
              "      <th></th>\n",
              "      <th>rental_id</th>\n",
              "      <th>rent</th>\n",
              "      <th>bedrooms</th>\n",
              "      <th>bathrooms</th>\n",
              "      <th>size_sqft</th>\n",
              "      <th>min_to_subway</th>\n",
              "      <th>floor</th>\n",
              "      <th>building_age_yrs</th>\n",
              "      <th>no_fee</th>\n",
              "      <th>has_roofdeck</th>\n",
              "      <th>has_washer_dryer</th>\n",
              "      <th>has_doorman</th>\n",
              "      <th>has_elevator</th>\n",
              "      <th>has_dishwasher</th>\n",
              "      <th>has_patio</th>\n",
              "      <th>has_gym</th>\n",
              "    </tr>\n",
              "  </thead>\n",
              "  <tbody>\n",
              "    <tr>\n",
              "      <th>count</th>\n",
              "      <td>448.000000</td>\n",
              "      <td>448.000000</td>\n",
              "      <td>448.000000</td>\n",
              "      <td>448.000000</td>\n",
              "      <td>448.000000</td>\n",
              "      <td>448.000000</td>\n",
              "      <td>448.000000</td>\n",
              "      <td>448.000000</td>\n",
              "      <td>448.000000</td>\n",
              "      <td>448.000000</td>\n",
              "      <td>448.000000</td>\n",
              "      <td>448.000000</td>\n",
              "      <td>448.000000</td>\n",
              "      <td>448.000000</td>\n",
              "      <td>448.000000</td>\n",
              "      <td>448.000000</td>\n",
              "    </tr>\n",
              "    <tr>\n",
              "      <th>mean</th>\n",
              "      <td>6107.640625</td>\n",
              "      <td>2516.147321</td>\n",
              "      <td>1.327009</td>\n",
              "      <td>1.160714</td>\n",
              "      <td>811.841518</td>\n",
              "      <td>6.743304</td>\n",
              "      <td>5.626116</td>\n",
              "      <td>44.645089</td>\n",
              "      <td>0.441964</td>\n",
              "      <td>0.062500</td>\n",
              "      <td>0.055804</td>\n",
              "      <td>0.089286</td>\n",
              "      <td>0.078125</td>\n",
              "      <td>0.066964</td>\n",
              "      <td>0.024554</td>\n",
              "      <td>0.051339</td>\n",
              "    </tr>\n",
              "    <tr>\n",
              "      <th>std</th>\n",
              "      <td>2977.197967</td>\n",
              "      <td>854.612400</td>\n",
              "      <td>0.822425</td>\n",
              "      <td>0.402533</td>\n",
              "      <td>239.367987</td>\n",
              "      <td>6.500986</td>\n",
              "      <td>5.635582</td>\n",
              "      <td>35.852375</td>\n",
              "      <td>0.497176</td>\n",
              "      <td>0.242332</td>\n",
              "      <td>0.229799</td>\n",
              "      <td>0.285474</td>\n",
              "      <td>0.268668</td>\n",
              "      <td>0.250240</td>\n",
              "      <td>0.154933</td>\n",
              "      <td>0.220936</td>\n",
              "    </tr>\n",
              "    <tr>\n",
              "      <th>min</th>\n",
              "      <td>70.000000</td>\n",
              "      <td>1250.000000</td>\n",
              "      <td>0.000000</td>\n",
              "      <td>0.000000</td>\n",
              "      <td>340.000000</td>\n",
              "      <td>0.000000</td>\n",
              "      <td>1.000000</td>\n",
              "      <td>0.000000</td>\n",
              "      <td>0.000000</td>\n",
              "      <td>0.000000</td>\n",
              "      <td>0.000000</td>\n",
              "      <td>0.000000</td>\n",
              "      <td>0.000000</td>\n",
              "      <td>0.000000</td>\n",
              "      <td>0.000000</td>\n",
              "      <td>0.000000</td>\n",
              "    </tr>\n",
              "    <tr>\n",
              "      <th>25%</th>\n",
              "      <td>3635.250000</td>\n",
              "      <td>1900.000000</td>\n",
              "      <td>1.000000</td>\n",
              "      <td>1.000000</td>\n",
              "      <td>650.000000</td>\n",
              "      <td>3.000000</td>\n",
              "      <td>2.000000</td>\n",
              "      <td>7.000000</td>\n",
              "      <td>0.000000</td>\n",
              "      <td>0.000000</td>\n",
              "      <td>0.000000</td>\n",
              "      <td>0.000000</td>\n",
              "      <td>0.000000</td>\n",
              "      <td>0.000000</td>\n",
              "      <td>0.000000</td>\n",
              "      <td>0.000000</td>\n",
              "    </tr>\n",
              "    <tr>\n",
              "      <th>50%</th>\n",
              "      <td>6211.000000</td>\n",
              "      <td>2350.000000</td>\n",
              "      <td>1.000000</td>\n",
              "      <td>1.000000</td>\n",
              "      <td>787.000000</td>\n",
              "      <td>5.000000</td>\n",
              "      <td>3.500000</td>\n",
              "      <td>53.500000</td>\n",
              "      <td>0.000000</td>\n",
              "      <td>0.000000</td>\n",
              "      <td>0.000000</td>\n",
              "      <td>0.000000</td>\n",
              "      <td>0.000000</td>\n",
              "      <td>0.000000</td>\n",
              "      <td>0.000000</td>\n",
              "      <td>0.000000</td>\n",
              "    </tr>\n",
              "    <tr>\n",
              "      <th>75%</th>\n",
              "      <td>8523.500000</td>\n",
              "      <td>2950.000000</td>\n",
              "      <td>2.000000</td>\n",
              "      <td>1.000000</td>\n",
              "      <td>965.250000</td>\n",
              "      <td>9.000000</td>\n",
              "      <td>6.000000</td>\n",
              "      <td>85.000000</td>\n",
              "      <td>1.000000</td>\n",
              "      <td>0.000000</td>\n",
              "      <td>0.000000</td>\n",
              "      <td>0.000000</td>\n",
              "      <td>0.000000</td>\n",
              "      <td>0.000000</td>\n",
              "      <td>0.000000</td>\n",
              "      <td>0.000000</td>\n",
              "    </tr>\n",
              "    <tr>\n",
              "      <th>max</th>\n",
              "      <td>11320.000000</td>\n",
              "      <td>8000.000000</td>\n",
              "      <td>4.000000</td>\n",
              "      <td>3.000000</td>\n",
              "      <td>2000.000000</td>\n",
              "      <td>51.000000</td>\n",
              "      <td>29.000000</td>\n",
              "      <td>126.000000</td>\n",
              "      <td>1.000000</td>\n",
              "      <td>1.000000</td>\n",
              "      <td>1.000000</td>\n",
              "      <td>1.000000</td>\n",
              "      <td>1.000000</td>\n",
              "      <td>1.000000</td>\n",
              "      <td>1.000000</td>\n",
              "      <td>1.000000</td>\n",
              "    </tr>\n",
              "  </tbody>\n",
              "</table>\n",
              "</div>\n",
              "      <button class=\"colab-df-convert\" onclick=\"convertToInteractive('df-bfa435e4-4c7e-4a06-a339-04c54d582e02')\"\n",
              "              title=\"Convert this dataframe to an interactive table.\"\n",
              "              style=\"display:none;\">\n",
              "        \n",
              "  <svg xmlns=\"http://www.w3.org/2000/svg\" height=\"24px\"viewBox=\"0 0 24 24\"\n",
              "       width=\"24px\">\n",
              "    <path d=\"M0 0h24v24H0V0z\" fill=\"none\"/>\n",
              "    <path d=\"M18.56 5.44l.94 2.06.94-2.06 2.06-.94-2.06-.94-.94-2.06-.94 2.06-2.06.94zm-11 1L8.5 8.5l.94-2.06 2.06-.94-2.06-.94L8.5 2.5l-.94 2.06-2.06.94zm10 10l.94 2.06.94-2.06 2.06-.94-2.06-.94-.94-2.06-.94 2.06-2.06.94z\"/><path d=\"M17.41 7.96l-1.37-1.37c-.4-.4-.92-.59-1.43-.59-.52 0-1.04.2-1.43.59L10.3 9.45l-7.72 7.72c-.78.78-.78 2.05 0 2.83L4 21.41c.39.39.9.59 1.41.59.51 0 1.02-.2 1.41-.59l7.78-7.78 2.81-2.81c.8-.78.8-2.07 0-2.86zM5.41 20L4 18.59l7.72-7.72 1.47 1.35L5.41 20z\"/>\n",
              "  </svg>\n",
              "      </button>\n",
              "      \n",
              "  <style>\n",
              "    .colab-df-container {\n",
              "      display:flex;\n",
              "      flex-wrap:wrap;\n",
              "      gap: 12px;\n",
              "    }\n",
              "\n",
              "    .colab-df-convert {\n",
              "      background-color: #E8F0FE;\n",
              "      border: none;\n",
              "      border-radius: 50%;\n",
              "      cursor: pointer;\n",
              "      display: none;\n",
              "      fill: #1967D2;\n",
              "      height: 32px;\n",
              "      padding: 0 0 0 0;\n",
              "      width: 32px;\n",
              "    }\n",
              "\n",
              "    .colab-df-convert:hover {\n",
              "      background-color: #E2EBFA;\n",
              "      box-shadow: 0px 1px 2px rgba(60, 64, 67, 0.3), 0px 1px 3px 1px rgba(60, 64, 67, 0.15);\n",
              "      fill: #174EA6;\n",
              "    }\n",
              "\n",
              "    [theme=dark] .colab-df-convert {\n",
              "      background-color: #3B4455;\n",
              "      fill: #D2E3FC;\n",
              "    }\n",
              "\n",
              "    [theme=dark] .colab-df-convert:hover {\n",
              "      background-color: #434B5C;\n",
              "      box-shadow: 0px 1px 3px 1px rgba(0, 0, 0, 0.15);\n",
              "      filter: drop-shadow(0px 1px 2px rgba(0, 0, 0, 0.3));\n",
              "      fill: #FFFFFF;\n",
              "    }\n",
              "  </style>\n",
              "\n",
              "      <script>\n",
              "        const buttonEl =\n",
              "          document.querySelector('#df-bfa435e4-4c7e-4a06-a339-04c54d582e02 button.colab-df-convert');\n",
              "        buttonEl.style.display =\n",
              "          google.colab.kernel.accessAllowed ? 'block' : 'none';\n",
              "\n",
              "        async function convertToInteractive(key) {\n",
              "          const element = document.querySelector('#df-bfa435e4-4c7e-4a06-a339-04c54d582e02');\n",
              "          const dataTable =\n",
              "            await google.colab.kernel.invokeFunction('convertToInteractive',\n",
              "                                                     [key], {});\n",
              "          if (!dataTable) return;\n",
              "\n",
              "          const docLinkHtml = 'Like what you see? Visit the ' +\n",
              "            '<a target=\"_blank\" href=https://colab.research.google.com/notebooks/data_table.ipynb>data table notebook</a>'\n",
              "            + ' to learn more about interactive tables.';\n",
              "          element.innerHTML = '';\n",
              "          dataTable['output_type'] = 'display_data';\n",
              "          await google.colab.output.renderOutput(dataTable, element);\n",
              "          const docLink = document.createElement('div');\n",
              "          docLink.innerHTML = docLinkHtml;\n",
              "          element.appendChild(docLink);\n",
              "        }\n",
              "      </script>\n",
              "    </div>\n",
              "  </div>\n",
              "  "
            ]
          },
          "metadata": {},
          "execution_count": 39
        }
      ]
    },
    {
      "cell_type": "markdown",
      "source": [
        "Tampak bahwa harga sewa rumah ada di antara 1250 dollar sampai 8000 dollar"
      ],
      "metadata": {
        "id": "woD7NPhjpTRy"
      },
      "id": "woD7NPhjpTRy"
    },
    {
      "cell_type": "code",
      "source": [
        "# Melihat info dataset dan melihat jenis tipe data setiap featurenya\n",
        "df.info()"
      ],
      "metadata": {
        "id": "8p3Fh0Bt_iKn",
        "colab": {
          "base_uri": "https://localhost:8080/"
        },
        "outputId": "2c2969c1-4162-4906-b081-2f053397bf87"
      },
      "id": "8p3Fh0Bt_iKn",
      "execution_count": null,
      "outputs": [
        {
          "output_type": "stream",
          "name": "stdout",
          "text": [
            "<class 'pandas.core.frame.DataFrame'>\n",
            "RangeIndex: 448 entries, 0 to 447\n",
            "Data columns (total 18 columns):\n",
            " #   Column            Non-Null Count  Dtype  \n",
            "---  ------            --------------  -----  \n",
            " 0   rental_id         448 non-null    int64  \n",
            " 1   rent              448 non-null    int64  \n",
            " 2   bedrooms          448 non-null    float64\n",
            " 3   bathrooms         448 non-null    int64  \n",
            " 4   size_sqft         448 non-null    int64  \n",
            " 5   min_to_subway     448 non-null    int64  \n",
            " 6   floor             448 non-null    float64\n",
            " 7   building_age_yrs  448 non-null    int64  \n",
            " 8   no_fee            448 non-null    int64  \n",
            " 9   has_roofdeck      448 non-null    int64  \n",
            " 10  has_washer_dryer  448 non-null    int64  \n",
            " 11  has_doorman       448 non-null    int64  \n",
            " 12  has_elevator      448 non-null    int64  \n",
            " 13  has_dishwasher    448 non-null    int64  \n",
            " 14  has_patio         448 non-null    int64  \n",
            " 15  has_gym           448 non-null    int64  \n",
            " 16  neighborhood      448 non-null    object \n",
            " 17  borough           448 non-null    object \n",
            "dtypes: float64(2), int64(14), object(2)\n",
            "memory usage: 63.1+ KB\n"
          ]
        }
      ]
    },
    {
      "cell_type": "markdown",
      "source": [
        "Bedrooms dan Floor harusnya memiliki tipe data interger dan bukan float karena jumlah kamar tidur dan jumlah lantai tidak mungkin desimal. \n",
        "Oleh karena itu, kita akan ubah tipe data kedua kolom tersebut menjadi interger."
      ],
      "metadata": {
        "id": "4mFLVgBytm5w"
      },
      "id": "4mFLVgBytm5w"
    },
    {
      "cell_type": "code",
      "source": [
        "# Mengubah kolom bedrooms dan floor menjadi tipe data interger\n",
        "konversi = ['bedrooms', 'floor']\n",
        "\n",
        "for col in konversi:\n",
        "  df[col] = df[col].astype(int)"
      ],
      "metadata": {
        "id": "Uwqe4ISgtG2E"
      },
      "id": "Uwqe4ISgtG2E",
      "execution_count": null,
      "outputs": []
    },
    {
      "cell_type": "code",
      "execution_count": null,
      "id": "e017a155",
      "metadata": {
        "id": "e017a155",
        "colab": {
          "base_uri": "https://localhost:8080/"
        },
        "outputId": "cf40c8b7-47bb-4e22-d934-5068149ce2ce"
      },
      "outputs": [
        {
          "output_type": "execute_result",
          "data": {
            "text/plain": [
              "Astoria                132\n",
              "Long Island City       100\n",
              "Forest Hills            40\n",
              "Rego Park               40\n",
              "Sunnyside               29\n",
              "Kew Gardens             20\n",
              "Flushing                19\n",
              "Ridgewood               19\n",
              "Briarwood                8\n",
              "Jackson Heights          8\n",
              "Elmhurst                 7\n",
              "Jamaica Estates          6\n",
              "Kew Gardens Hills        4\n",
              "Woodside                 4\n",
              "Queens Village           3\n",
              "Richmond Hill            1\n",
              "Woodhaven                1\n",
              "Corona                   1\n",
              "Glendale                 1\n",
              "South Richmond Hill      1\n",
              "Rockaway All             1\n",
              "Jamaica Hills            1\n",
              "North Corona             1\n",
              "Oakland Gardens          1\n",
              "Name: neighborhood, dtype: int64"
            ]
          },
          "metadata": {},
          "execution_count": 43
        }
      ],
      "source": [
        "# Melihat jumlah setiap value dari kolom neighborhood\n",
        "df['neighborhood'].value_counts()"
      ]
    },
    {
      "cell_type": "markdown",
      "source": [
        "## Histogram setiap feature NUMERIK"
      ],
      "metadata": {
        "id": "wna9o-e5wD72"
      },
      "id": "wna9o-e5wD72"
    },
    {
      "cell_type": "code",
      "source": [
        "numericColumns = ['bedrooms', 'bathrooms', 'size_sqft','min_to_subway','floor','building_age_yrs']\n",
        "\n",
        "fig, ax = plt.subplots(nrows=3, ncols=2, figsize=(15,15))\n",
        "\n",
        "df[numericColumns].hist(bins = 20, color = 'red', alpha = 0.5, ax = ax)\n",
        "\n",
        "plt.show()"
      ],
      "metadata": {
        "id": "NyJtOHpbvGxS",
        "colab": {
          "base_uri": "https://localhost:8080/",
          "height": 1000
        },
        "outputId": "1bad9dff-00de-4901-9be2-b967bb0e36bd"
      },
      "id": "NyJtOHpbvGxS",
      "execution_count": null,
      "outputs": [
        {
          "output_type": "display_data",
          "data": {
            "text/plain": [
              "<Figure size 1500x1500 with 6 Axes>"
            ],
            "image/png": "[encoded data removed]"
          },
          "metadata": {}
        }
      ]
    },
    {
      "cell_type": "markdown",
      "source": [
        "## Countplot setiap feature KATEGORIKAL"
      ],
      "metadata": {
        "id": "lwXstaBgv7Q6"
      },
      "id": "lwXstaBgv7Q6"
    },
    {
      "cell_type": "code",
      "source": [
        "# Membuat countplot setiap feature kategorikal\n",
        "\n",
        "kolomKategorikal = ['no_fee','has_roofdeck','has_washer_dryer','has_doorman','has_elevator','has_dishwasher','has_patio','has_gym']\n",
        "\n",
        "fig, axs = plt.subplots(nrows=4, ncols=2, figsize=(10,20))\n",
        "\n",
        "for i, column in enumerate(kolomKategorikal):\n",
        "    sns.countplot(data=df, x=column, ax=axs[i // 2, i % 2])\n",
        "\n",
        "plt.tight_layout()\n",
        "plt.show()"
      ],
      "metadata": {
        "id": "_0E5Mwww5MFR",
        "colab": {
          "base_uri": "https://localhost:8080/",
          "height": 1000
        },
        "outputId": "47689ad5-23dd-4556-b803-b73c4e67ee6a"
      },
      "id": "_0E5Mwww5MFR",
      "execution_count": null,
      "outputs": [
        {
          "output_type": "display_data",
          "data": {
            "text/plain": [
              "<Figure size 1000x2000 with 8 Axes>"
            ],
            "image/png": "[encoded data removed]"
          },
          "metadata": {}
        }
      ]
    },
    {
      "cell_type": "markdown",
      "source": [
        "## Visualisasi 5 Wilayah dengan Harga Sewa Termahal"
      ],
      "metadata": {
        "id": "kD7NorF-3q4n"
      },
      "id": "kD7NorF-3q4n"
    },
    {
      "cell_type": "code",
      "source": [
        "neighborhoodRent = df.groupby([\"neighborhood\"])[\"rent\"].mean().sort_values(ascending=False)[:5].reset_index()"
      ],
      "metadata": {
        "id": "rUc6qeh4yV4S"
      },
      "id": "rUc6qeh4yV4S",
      "execution_count": null,
      "outputs": []
    },
    {
      "cell_type": "code",
      "source": [
        "# Menampilkan 5 neighborhood yang memiliki harga sewa termahal\n",
        "plt.figure(figsize = (13,7))\n",
        "ax = sns.barplot(data = neighborhoodRent, x = 'neighborhood', y = 'rent', palette='YlOrRd')\n",
        "plt.title(\"Top 5 Wilayah dengan Harga Sewa Termahal\", fontsize=18)\n",
        "plt.xlabel('Neighborhood', fontsize=14)\n",
        "plt.ylabel('Rent Price', fontsize=14)\n",
        "\n",
        "# Untuk menampilkan nilai detail di atas bar\n",
        "for i in ax.containers:\n",
        "    ax.bar_label(i,)"
      ],
      "metadata": {
        "id": "rh5izi3H2o0Z",
        "colab": {
          "base_uri": "https://localhost:8080/",
          "height": 651
        },
        "outputId": "24e66c1f-dc81-4bf8-bb83-0154aee90cec"
      },
      "id": "rh5izi3H2o0Z",
      "execution_count": null,
      "outputs": [
        {
          "output_type": "display_data",
          "data": {
            "text/plain": [
              "<Figure size 1300x700 with 1 Axes>"
            ],
            "image/png": "[encoded data removed]"
          },
          "metadata": {}
        }
      ]
    },
    {
      "cell_type": "markdown",
      "source": [
        "## Drop kolom yang tidak diperlukan"
      ],
      "metadata": {
        "id": "Pj5ok6yP38_r"
      },
      "id": "Pj5ok6yP38_r"
    },
    {
      "cell_type": "code",
      "execution_count": null,
      "id": "a0f244ea",
      "metadata": {
        "id": "a0f244ea"
      },
      "outputs": [],
      "source": [
        "df.drop(columns='borough', inplace=True)\n",
        "df.drop(columns='rental_id', inplace=True)"
      ]
    },
    {
      "cell_type": "markdown",
      "source": [
        "Kolom borough tidak digunakan karena isinya sama semua, yaitu 'Queens'. <br>\n",
        "Kolom rental_id tidak digunakan karena isinya 100% unique sehingga akan mengganggu hasil prediksi."
      ],
      "metadata": {
        "id": "flzexvkTcmkK"
      },
      "id": "flzexvkTcmkK"
    },
    {
      "cell_type": "code",
      "source": [
        "df.head()"
      ],
      "metadata": {
        "id": "fuWex5KNSjxH",
        "colab": {
          "base_uri": "https://localhost:8080/",
          "height": 270
        },
        "outputId": "c29007ca-15d6-4d93-9e59-18bbaa7e6f50"
      },
      "id": "fuWex5KNSjxH",
      "execution_count": null,
      "outputs": [
        {
          "output_type": "execute_result",
          "data": {
            "text/plain": [
              "   rent  bedrooms  bathrooms  size_sqft  min_to_subway  floor  \\\n",
              "0  3000         3          1       1000              4      1   \n",
              "1  1950         1          1        950              1      3   \n",
              "2  3500         1          1        996              9      7   \n",
              "3  1725         1          1        800              1      2   \n",
              "4  1700         1          1        730             10      3   \n",
              "\n",
              "   building_age_yrs  no_fee  has_roofdeck  has_washer_dryer  has_doorman  \\\n",
              "0               106       0             0                 0            0   \n",
              "1                83       0             0                 0            0   \n",
              "2                 3       1             0                 0            0   \n",
              "3                89       0             0                 0            0   \n",
              "4                 7       0             0                 0            0   \n",
              "\n",
              "   has_elevator  has_dishwasher  has_patio  has_gym  neighborhood  \n",
              "0             0               0          0        0       Astoria  \n",
              "1             0               0          0        0  Forest Hills  \n",
              "2             0               0          0        0       Astoria  \n",
              "3             0               0          0        0       Astoria  \n",
              "4             0               0          0        0     Briarwood  "
            ],
            "text/html": [
              "\n",
              "  <div id=\"df-b8b0afa1-50a1-4a07-a5f1-1484853640f8\">\n",
              "    <div class=\"colab-df-container\">\n",
              "      <div>\n",
              "<style scoped>\n",
              "    .dataframe tbody tr th:only-of-type {\n",
              "        vertical-align: middle;\n",
              "    }\n",
              "\n",
              "    .dataframe tbody tr th {\n",
              "        vertical-align: top;\n",
              "    }\n",
              "\n",
              "    .dataframe thead th {\n",
              "        text-align: right;\n",
              "    }\n",
              "</style>\n",
              "<table border=\"1\" class=\"dataframe\">\n",
              "  <thead>\n",
              "    <tr style=\"text-align: right;\">\n",
              "      <th></th>\n",
              "      <th>rent</th>\n",
              "      <th>bedrooms</th>\n",
              "      <th>bathrooms</th>\n",
              "      <th>size_sqft</th>\n",
              "      <th>min_to_subway</th>\n",
              "      <th>floor</th>\n",
              "      <th>building_age_yrs</th>\n",
              "      <th>no_fee</th>\n",
              "      <th>has_roofdeck</th>\n",
              "      <th>has_washer_dryer</th>\n",
              "      <th>has_doorman</th>\n",
              "      <th>has_elevator</th>\n",
              "      <th>has_dishwasher</th>\n",
              "      <th>has_patio</th>\n",
              "      <th>has_gym</th>\n",
              "      <th>neighborhood</th>\n",
              "    </tr>\n",
              "  </thead>\n",
              "  <tbody>\n",
              "    <tr>\n",
              "      <th>0</th>\n",
              "      <td>3000</td>\n",
              "      <td>3</td>\n",
              "      <td>1</td>\n",
              "      <td>1000</td>\n",
              "      <td>4</td>\n",
              "      <td>1</td>\n",
              "      <td>106</td>\n",
              "      <td>0</td>\n",
              "      <td>0</td>\n",
              "      <td>0</td>\n",
              "      <td>0</td>\n",
              "      <td>0</td>\n",
              "      <td>0</td>\n",
              "      <td>0</td>\n",
              "      <td>0</td>\n",
              "      <td>Astoria</td>\n",
              "    </tr>\n",
              "    <tr>\n",
              "      <th>1</th>\n",
              "      <td>1950</td>\n",
              "      <td>1</td>\n",
              "      <td>1</td>\n",
              "      <td>950</td>\n",
              "      <td>1</td>\n",
              "      <td>3</td>\n",
              "      <td>83</td>\n",
              "      <td>0</td>\n",
              "      <td>0</td>\n",
              "      <td>0</td>\n",
              "      <td>0</td>\n",
              "      <td>0</td>\n",
              "      <td>0</td>\n",
              "      <td>0</td>\n",
              "      <td>0</td>\n",
              "      <td>Forest Hills</td>\n",
              "    </tr>\n",
              "    <tr>\n",
              "      <th>2</th>\n",
              "      <td>3500</td>\n",
              "      <td>1</td>\n",
              "      <td>1</td>\n",
              "      <td>996</td>\n",
              "      <td>9</td>\n",
              "      <td>7</td>\n",
              "      <td>3</td>\n",
              "      <td>1</td>\n",
              "      <td>0</td>\n",
              "      <td>0</td>\n",
              "      <td>0</td>\n",
              "      <td>0</td>\n",
              "      <td>0</td>\n",
              "      <td>0</td>\n",
              "      <td>0</td>\n",
              "      <td>Astoria</td>\n",
              "    </tr>\n",
              "    <tr>\n",
              "      <th>3</th>\n",
              "      <td>1725</td>\n",
              "      <td>1</td>\n",
              "      <td>1</td>\n",
              "      <td>800</td>\n",
              "      <td>1</td>\n",
              "      <td>2</td>\n",
              "      <td>89</td>\n",
              "      <td>0</td>\n",
              "      <td>0</td>\n",
              "      <td>0</td>\n",
              "      <td>0</td>\n",
              "      <td>0</td>\n",
              "      <td>0</td>\n",
              "      <td>0</td>\n",
              "      <td>0</td>\n",
              "      <td>Astoria</td>\n",
              "    </tr>\n",
              "    <tr>\n",
              "      <th>4</th>\n",
              "      <td>1700</td>\n",
              "      <td>1</td>\n",
              "      <td>1</td>\n",
              "      <td>730</td>\n",
              "      <td>10</td>\n",
              "      <td>3</td>\n",
              "      <td>7</td>\n",
              "      <td>0</td>\n",
              "      <td>0</td>\n",
              "      <td>0</td>\n",
              "      <td>0</td>\n",
              "      <td>0</td>\n",
              "      <td>0</td>\n",
              "      <td>0</td>\n",
              "      <td>0</td>\n",
              "      <td>Briarwood</td>\n",
              "    </tr>\n",
              "  </tbody>\n",
              "</table>\n",
              "</div>\n",
              "      <button class=\"colab-df-convert\" onclick=\"convertToInteractive('df-b8b0afa1-50a1-4a07-a5f1-1484853640f8')\"\n",
              "              title=\"Convert this dataframe to an interactive table.\"\n",
              "              style=\"display:none;\">\n",
              "        \n",
              "  <svg xmlns=\"http://www.w3.org/2000/svg\" height=\"24px\"viewBox=\"0 0 24 24\"\n",
              "       width=\"24px\">\n",
              "    <path d=\"M0 0h24v24H0V0z\" fill=\"none\"/>\n",
              "    <path d=\"M18.56 5.44l.94 2.06.94-2.06 2.06-.94-2.06-.94-.94-2.06-.94 2.06-2.06.94zm-11 1L8.5 8.5l.94-2.06 2.06-.94-2.06-.94L8.5 2.5l-.94 2.06-2.06.94zm10 10l.94 2.06.94-2.06 2.06-.94-2.06-.94-.94-2.06-.94 2.06-2.06.94z\"/><path d=\"M17.41 7.96l-1.37-1.37c-.4-.4-.92-.59-1.43-.59-.52 0-1.04.2-1.43.59L10.3 9.45l-7.72 7.72c-.78.78-.78 2.05 0 2.83L4 21.41c.39.39.9.59 1.41.59.51 0 1.02-.2 1.41-.59l7.78-7.78 2.81-2.81c.8-.78.8-2.07 0-2.86zM5.41 20L4 18.59l7.72-7.72 1.47 1.35L5.41 20z\"/>\n",
              "  </svg>\n",
              "      </button>\n",
              "      \n",
              "  <style>\n",
              "    .colab-df-container {\n",
              "      display:flex;\n",
              "      flex-wrap:wrap;\n",
              "      gap: 12px;\n",
              "    }\n",
              "\n",
              "    .colab-df-convert {\n",
              "      background-color: #E8F0FE;\n",
              "      border: none;\n",
              "      border-radius: 50%;\n",
              "      cursor: pointer;\n",
              "      display: none;\n",
              "      fill: #1967D2;\n",
              "      height: 32px;\n",
              "      padding: 0 0 0 0;\n",
              "      width: 32px;\n",
              "    }\n",
              "\n",
              "    .colab-df-convert:hover {\n",
              "      background-color: #E2EBFA;\n",
              "      box-shadow: 0px 1px 2px rgba(60, 64, 67, 0.3), 0px 1px 3px 1px rgba(60, 64, 67, 0.15);\n",
              "      fill: #174EA6;\n",
              "    }\n",
              "\n",
              "    [theme=dark] .colab-df-convert {\n",
              "      background-color: #3B4455;\n",
              "      fill: #D2E3FC;\n",
              "    }\n",
              "\n",
              "    [theme=dark] .colab-df-convert:hover {\n",
              "      background-color: #434B5C;\n",
              "      box-shadow: 0px 1px 3px 1px rgba(0, 0, 0, 0.15);\n",
              "      filter: drop-shadow(0px 1px 2px rgba(0, 0, 0, 0.3));\n",
              "      fill: #FFFFFF;\n",
              "    }\n",
              "  </style>\n",
              "\n",
              "      <script>\n",
              "        const buttonEl =\n",
              "          document.querySelector('#df-b8b0afa1-50a1-4a07-a5f1-1484853640f8 button.colab-df-convert');\n",
              "        buttonEl.style.display =\n",
              "          google.colab.kernel.accessAllowed ? 'block' : 'none';\n",
              "\n",
              "        async function convertToInteractive(key) {\n",
              "          const element = document.querySelector('#df-b8b0afa1-50a1-4a07-a5f1-1484853640f8');\n",
              "          const dataTable =\n",
              "            await google.colab.kernel.invokeFunction('convertToInteractive',\n",
              "                                                     [key], {});\n",
              "          if (!dataTable) return;\n",
              "\n",
              "          const docLinkHtml = 'Like what you see? Visit the ' +\n",
              "            '<a target=\"_blank\" href=https://colab.research.google.com/notebooks/data_table.ipynb>data table notebook</a>'\n",
              "            + ' to learn more about interactive tables.';\n",
              "          element.innerHTML = '';\n",
              "          dataTable['output_type'] = 'display_data';\n",
              "          await google.colab.output.renderOutput(dataTable, element);\n",
              "          const docLink = document.createElement('div');\n",
              "          docLink.innerHTML = docLinkHtml;\n",
              "          element.appendChild(docLink);\n",
              "        }\n",
              "      </script>\n",
              "    </div>\n",
              "  </div>\n",
              "  "
            ]
          },
          "metadata": {},
          "execution_count": 49
        }
      ]
    },
    {
      "cell_type": "markdown",
      "source": [
        "## Melakukan normalisasi pada kolom yang belum terdistribusi normal"
      ],
      "metadata": {
        "id": "orghs1rA4U7z"
      },
      "id": "orghs1rA4U7z"
    },
    {
      "cell_type": "code",
      "source": [
        "df['building_age_yrs'] = np.log1p(df['building_age_yrs'])"
      ],
      "metadata": {
        "id": "RGgI3-SC2qeh"
      },
      "id": "RGgI3-SC2qeh",
      "execution_count": null,
      "outputs": []
    },
    {
      "cell_type": "code",
      "source": [
        "df.head()"
      ],
      "metadata": {
        "id": "0bzrNTHJ3Ue6",
        "colab": {
          "base_uri": "https://localhost:8080/",
          "height": 270
        },
        "outputId": "d0b353a8-201f-4a79-d68f-f6dd9d2312e3"
      },
      "id": "0bzrNTHJ3Ue6",
      "execution_count": null,
      "outputs": [
        {
          "output_type": "execute_result",
          "data": {
            "text/plain": [
              "   rent  bedrooms  bathrooms  size_sqft  min_to_subway  floor  \\\n",
              "0  3000         3          1       1000              4      1   \n",
              "1  1950         1          1        950              1      3   \n",
              "2  3500         1          1        996              9      7   \n",
              "3  1725         1          1        800              1      2   \n",
              "4  1700         1          1        730             10      3   \n",
              "\n",
              "   building_age_yrs  no_fee  has_roofdeck  has_washer_dryer  has_doorman  \\\n",
              "0          4.672829       0             0                 0            0   \n",
              "1          4.430817       0             0                 0            0   \n",
              "2          1.386294       1             0                 0            0   \n",
              "3          4.499810       0             0                 0            0   \n",
              "4          2.079442       0             0                 0            0   \n",
              "\n",
              "   has_elevator  has_dishwasher  has_patio  has_gym  neighborhood  \n",
              "0             0               0          0        0       Astoria  \n",
              "1             0               0          0        0  Forest Hills  \n",
              "2             0               0          0        0       Astoria  \n",
              "3             0               0          0        0       Astoria  \n",
              "4             0               0          0        0     Briarwood  "
            ],
            "text/html": [
              "\n",
              "  <div id=\"df-e980d3ea-3f56-4133-adb6-35f79404aeae\">\n",
              "    <div class=\"colab-df-container\">\n",
              "      <div>\n",
              "<style scoped>\n",
              "    .dataframe tbody tr th:only-of-type {\n",
              "        vertical-align: middle;\n",
              "    }\n",
              "\n",
              "    .dataframe tbody tr th {\n",
              "        vertical-align: top;\n",
              "    }\n",
              "\n",
              "    .dataframe thead th {\n",
              "        text-align: right;\n",
              "    }\n",
              "</style>\n",
              "<table border=\"1\" class=\"dataframe\">\n",
              "  <thead>\n",
              "    <tr style=\"text-align: right;\">\n",
              "      <th></th>\n",
              "      <th>rent</th>\n",
              "      <th>bedrooms</th>\n",
              "      <th>bathrooms</th>\n",
              "      <th>size_sqft</th>\n",
              "      <th>min_to_subway</th>\n",
              "      <th>floor</th>\n",
              "      <th>building_age_yrs</th>\n",
              "      <th>no_fee</th>\n",
              "      <th>has_roofdeck</th>\n",
              "      <th>has_washer_dryer</th>\n",
              "      <th>has_doorman</th>\n",
              "      <th>has_elevator</th>\n",
              "      <th>has_dishwasher</th>\n",
              "      <th>has_patio</th>\n",
              "      <th>has_gym</th>\n",
              "      <th>neighborhood</th>\n",
              "    </tr>\n",
              "  </thead>\n",
              "  <tbody>\n",
              "    <tr>\n",
              "      <th>0</th>\n",
              "      <td>3000</td>\n",
              "      <td>3</td>\n",
              "      <td>1</td>\n",
              "      <td>1000</td>\n",
              "      <td>4</td>\n",
              "      <td>1</td>\n",
              "      <td>4.672829</td>\n",
              "      <td>0</td>\n",
              "      <td>0</td>\n",
              "      <td>0</td>\n",
              "      <td>0</td>\n",
              "      <td>0</td>\n",
              "      <td>0</td>\n",
              "      <td>0</td>\n",
              "      <td>0</td>\n",
              "      <td>Astoria</td>\n",
              "    </tr>\n",
              "    <tr>\n",
              "      <th>1</th>\n",
              "      <td>1950</td>\n",
              "      <td>1</td>\n",
              "      <td>1</td>\n",
              "      <td>950</td>\n",
              "      <td>1</td>\n",
              "      <td>3</td>\n",
              "      <td>4.430817</td>\n",
              "      <td>0</td>\n",
              "      <td>0</td>\n",
              "      <td>0</td>\n",
              "      <td>0</td>\n",
              "      <td>0</td>\n",
              "      <td>0</td>\n",
              "      <td>0</td>\n",
              "      <td>0</td>\n",
              "      <td>Forest Hills</td>\n",
              "    </tr>\n",
              "    <tr>\n",
              "      <th>2</th>\n",
              "      <td>3500</td>\n",
              "      <td>1</td>\n",
              "      <td>1</td>\n",
              "      <td>996</td>\n",
              "      <td>9</td>\n",
              "      <td>7</td>\n",
              "      <td>1.386294</td>\n",
              "      <td>1</td>\n",
              "      <td>0</td>\n",
              "      <td>0</td>\n",
              "      <td>0</td>\n",
              "      <td>0</td>\n",
              "      <td>0</td>\n",
              "      <td>0</td>\n",
              "      <td>0</td>\n",
              "      <td>Astoria</td>\n",
              "    </tr>\n",
              "    <tr>\n",
              "      <th>3</th>\n",
              "      <td>1725</td>\n",
              "      <td>1</td>\n",
              "      <td>1</td>\n",
              "      <td>800</td>\n",
              "      <td>1</td>\n",
              "      <td>2</td>\n",
              "      <td>4.499810</td>\n",
              "      <td>0</td>\n",
              "      <td>0</td>\n",
              "      <td>0</td>\n",
              "      <td>0</td>\n",
              "      <td>0</td>\n",
              "      <td>0</td>\n",
              "      <td>0</td>\n",
              "      <td>0</td>\n",
              "      <td>Astoria</td>\n",
              "    </tr>\n",
              "    <tr>\n",
              "      <th>4</th>\n",
              "      <td>1700</td>\n",
              "      <td>1</td>\n",
              "      <td>1</td>\n",
              "      <td>730</td>\n",
              "      <td>10</td>\n",
              "      <td>3</td>\n",
              "      <td>2.079442</td>\n",
              "      <td>0</td>\n",
              "      <td>0</td>\n",
              "      <td>0</td>\n",
              "      <td>0</td>\n",
              "      <td>0</td>\n",
              "      <td>0</td>\n",
              "      <td>0</td>\n",
              "      <td>0</td>\n",
              "      <td>Briarwood</td>\n",
              "    </tr>\n",
              "  </tbody>\n",
              "</table>\n",
              "</div>\n",
              "      <button class=\"colab-df-convert\" onclick=\"convertToInteractive('df-e980d3ea-3f56-4133-adb6-35f79404aeae')\"\n",
              "              title=\"Convert this dataframe to an interactive table.\"\n",
              "              style=\"display:none;\">\n",
              "        \n",
              "  <svg xmlns=\"http://www.w3.org/2000/svg\" height=\"24px\"viewBox=\"0 0 24 24\"\n",
              "       width=\"24px\">\n",
              "    <path d=\"M0 0h24v24H0V0z\" fill=\"none\"/>\n",
              "    <path d=\"M18.56 5.44l.94 2.06.94-2.06 2.06-.94-2.06-.94-.94-2.06-.94 2.06-2.06.94zm-11 1L8.5 8.5l.94-2.06 2.06-.94-2.06-.94L8.5 2.5l-.94 2.06-2.06.94zm10 10l.94 2.06.94-2.06 2.06-.94-2.06-.94-.94-2.06-.94 2.06-2.06.94z\"/><path d=\"M17.41 7.96l-1.37-1.37c-.4-.4-.92-.59-1.43-.59-.52 0-1.04.2-1.43.59L10.3 9.45l-7.72 7.72c-.78.78-.78 2.05 0 2.83L4 21.41c.39.39.9.59 1.41.59.51 0 1.02-.2 1.41-.59l7.78-7.78 2.81-2.81c.8-.78.8-2.07 0-2.86zM5.41 20L4 18.59l7.72-7.72 1.47 1.35L5.41 20z\"/>\n",
              "  </svg>\n",
              "      </button>\n",
              "      \n",
              "  <style>\n",
              "    .colab-df-container {\n",
              "      display:flex;\n",
              "      flex-wrap:wrap;\n",
              "      gap: 12px;\n",
              "    }\n",
              "\n",
              "    .colab-df-convert {\n",
              "      background-color: #E8F0FE;\n",
              "      border: none;\n",
              "      border-radius: 50%;\n",
              "      cursor: pointer;\n",
              "      display: none;\n",
              "      fill: #1967D2;\n",
              "      height: 32px;\n",
              "      padding: 0 0 0 0;\n",
              "      width: 32px;\n",
              "    }\n",
              "\n",
              "    .colab-df-convert:hover {\n",
              "      background-color: #E2EBFA;\n",
              "      box-shadow: 0px 1px 2px rgba(60, 64, 67, 0.3), 0px 1px 3px 1px rgba(60, 64, 67, 0.15);\n",
              "      fill: #174EA6;\n",
              "    }\n",
              "\n",
              "    [theme=dark] .colab-df-convert {\n",
              "      background-color: #3B4455;\n",
              "      fill: #D2E3FC;\n",
              "    }\n",
              "\n",
              "    [theme=dark] .colab-df-convert:hover {\n",
              "      background-color: #434B5C;\n",
              "      box-shadow: 0px 1px 3px 1px rgba(0, 0, 0, 0.15);\n",
              "      filter: drop-shadow(0px 1px 2px rgba(0, 0, 0, 0.3));\n",
              "      fill: #FFFFFF;\n",
              "    }\n",
              "  </style>\n",
              "\n",
              "      <script>\n",
              "        const buttonEl =\n",
              "          document.querySelector('#df-e980d3ea-3f56-4133-adb6-35f79404aeae button.colab-df-convert');\n",
              "        buttonEl.style.display =\n",
              "          google.colab.kernel.accessAllowed ? 'block' : 'none';\n",
              "\n",
              "        async function convertToInteractive(key) {\n",
              "          const element = document.querySelector('#df-e980d3ea-3f56-4133-adb6-35f79404aeae');\n",
              "          const dataTable =\n",
              "            await google.colab.kernel.invokeFunction('convertToInteractive',\n",
              "                                                     [key], {});\n",
              "          if (!dataTable) return;\n",
              "\n",
              "          const docLinkHtml = 'Like what you see? Visit the ' +\n",
              "            '<a target=\"_blank\" href=https://colab.research.google.com/notebooks/data_table.ipynb>data table notebook</a>'\n",
              "            + ' to learn more about interactive tables.';\n",
              "          element.innerHTML = '';\n",
              "          dataTable['output_type'] = 'display_data';\n",
              "          await google.colab.output.renderOutput(dataTable, element);\n",
              "          const docLink = document.createElement('div');\n",
              "          docLink.innerHTML = docLinkHtml;\n",
              "          element.appendChild(docLink);\n",
              "        }\n",
              "      </script>\n",
              "    </div>\n",
              "  </div>\n",
              "  "
            ]
          },
          "metadata": {},
          "execution_count": 55
        }
      ]
    },
    {
      "cell_type": "markdown",
      "source": [
        "## Melakukan encoding pada kolom non-numerik"
      ],
      "metadata": {
        "id": "qV_k2zK94b4t"
      },
      "id": "qV_k2zK94b4t"
    },
    {
      "cell_type": "code",
      "execution_count": null,
      "id": "d0779cf1",
      "metadata": {
        "id": "d0779cf1"
      },
      "outputs": [],
      "source": [
        "df = pd.get_dummies(df, columns=['neighborhood'], drop_first=True)"
      ]
    },
    {
      "cell_type": "markdown",
      "source": [
        "# **Proses Modeling**\n",
        "#### Membagi data menjadi X dan y\n",
        "#### X adalah feature-feature yang digunakan\n",
        "#### y adalah kolom yang akan kita prediksi, yaitu harga sewa"
      ],
      "metadata": {
        "id": "0_t5aLCI7qN3"
      },
      "id": "0_t5aLCI7qN3"
    },
    {
      "cell_type": "code",
      "execution_count": null,
      "id": "2e17e9e6",
      "metadata": {
        "id": "2e17e9e6",
        "colab": {
          "base_uri": "https://localhost:8080/"
        },
        "outputId": "0584cdef-882a-4d86-edf9-ab73e367b566"
      },
      "outputs": [
        {
          "output_type": "stream",
          "name": "stdout",
          "text": [
            "(448, 37)\n",
            "(448,)\n"
          ]
        }
      ],
      "source": [
        "X = df.drop(['rent'], axis = 1)\n",
        "y = df['rent']\n",
        "\n",
        "print(X.shape)\n",
        "print(y.shape)"
      ]
    },
    {
      "cell_type": "markdown",
      "source": [
        "#### Melakukan Standarisasi"
      ],
      "metadata": {
        "id": "22LfMHAT74Rm"
      },
      "id": "22LfMHAT74Rm"
    },
    {
      "cell_type": "markdown",
      "source": [
        "![image.png](data:image/png;base64,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)"
      ],
      "metadata": {
        "id": "rIGAciIatYv0"
      },
      "id": "rIGAciIatYv0"
    },
    {
      "cell_type": "code",
      "source": [
        "# Fungsi untuk melakukan standarisasi\n",
        "# Penjelasan parameter:\n",
        "# df: dataframe yang akan distandarisasi\n",
        "def standarisasi(df):\n",
        "    return (df - df.mean()) / df.std()"
      ],
      "metadata": {
        "id": "8SMZNgfr_Is8"
      },
      "id": "8SMZNgfr_Is8",
      "execution_count": null,
      "outputs": []
    },
    {
      "cell_type": "code",
      "source": [
        "df.head()"
      ],
      "metadata": {
        "colab": {
          "base_uri": "https://localhost:8080/",
          "height": 317
        },
        "id": "p5QRGqotP5Yp",
        "outputId": "29da6ecc-ae11-46ee-8b2d-2e32c814b497"
      },
      "id": "p5QRGqotP5Yp",
      "execution_count": null,
      "outputs": [
        {
          "output_type": "execute_result",
          "data": {
            "text/plain": [
              "   rent  bedrooms  bathrooms  size_sqft  min_to_subway  floor  \\\n",
              "0  3000         3          1       1000              4      1   \n",
              "1  1950         1          1        950              1      3   \n",
              "2  3500         1          1        996              9      7   \n",
              "3  1725         1          1        800              1      2   \n",
              "4  1700         1          1        730             10      3   \n",
              "\n",
              "   building_age_yrs  no_fee  has_roofdeck  has_washer_dryer  ...  \\\n",
              "0          4.672829       0             0                 0  ...   \n",
              "1          4.430817       0             0                 0  ...   \n",
              "2          1.386294       1             0                 0  ...   \n",
              "3          4.499810       0             0                 0  ...   \n",
              "4          2.079442       0             0                 0  ...   \n",
              "\n",
              "   neighborhood_Oakland Gardens  neighborhood_Queens Village  \\\n",
              "0                             0                            0   \n",
              "1                             0                            0   \n",
              "2                             0                            0   \n",
              "3                             0                            0   \n",
              "4                             0                            0   \n",
              "\n",
              "   neighborhood_Rego Park  neighborhood_Richmond Hill  neighborhood_Ridgewood  \\\n",
              "0                       0                           0                       0   \n",
              "1                       0                           0                       0   \n",
              "2                       0                           0                       0   \n",
              "3                       0                           0                       0   \n",
              "4                       0                           0                       0   \n",
              "\n",
              "   neighborhood_Rockaway All  neighborhood_South Richmond Hill  \\\n",
              "0                          0                                 0   \n",
              "1                          0                                 0   \n",
              "2                          0                                 0   \n",
              "3                          0                                 0   \n",
              "4                          0                                 0   \n",
              "\n",
              "   neighborhood_Sunnyside  neighborhood_Woodhaven  neighborhood_Woodside  \n",
              "0                       0                       0                      0  \n",
              "1                       0                       0                      0  \n",
              "2                       0                       0                      0  \n",
              "3                       0                       0                      0  \n",
              "4                       0                       0                      0  \n",
              "\n",
              "[5 rows x 38 columns]"
            ],
            "text/html": [
              "\n",
              "  <div id=\"df-c642292e-4b01-4959-bfa0-9d7c783838b9\">\n",
              "    <div class=\"colab-df-container\">\n",
              "      <div>\n",
              "<style scoped>\n",
              "    .dataframe tbody tr th:only-of-type {\n",
              "        vertical-align: middle;\n",
              "    }\n",
              "\n",
              "    .dataframe tbody tr th {\n",
              "        vertical-align: top;\n",
              "    }\n",
              "\n",
              "    .dataframe thead th {\n",
              "        text-align: right;\n",
              "    }\n",
              "</style>\n",
              "<table border=\"1\" class=\"dataframe\">\n",
              "  <thead>\n",
              "    <tr style=\"text-align: right;\">\n",
              "      <th></th>\n",
              "      <th>rent</th>\n",
              "      <th>bedrooms</th>\n",
              "      <th>bathrooms</th>\n",
              "      <th>size_sqft</th>\n",
              "      <th>min_to_subway</th>\n",
              "      <th>floor</th>\n",
              "      <th>building_age_yrs</th>\n",
              "      <th>no_fee</th>\n",
              "      <th>has_roofdeck</th>\n",
              "      <th>has_washer_dryer</th>\n",
              "      <th>...</th>\n",
              "      <th>neighborhood_Oakland Gardens</th>\n",
              "      <th>neighborhood_Queens Village</th>\n",
              "      <th>neighborhood_Rego Park</th>\n",
              "      <th>neighborhood_Richmond Hill</th>\n",
              "      <th>neighborhood_Ridgewood</th>\n",
              "      <th>neighborhood_Rockaway All</th>\n",
              "      <th>neighborhood_South Richmond Hill</th>\n",
              "      <th>neighborhood_Sunnyside</th>\n",
              "      <th>neighborhood_Woodhaven</th>\n",
              "      <th>neighborhood_Woodside</th>\n",
              "    </tr>\n",
              "  </thead>\n",
              "  <tbody>\n",
              "    <tr>\n",
              "      <th>0</th>\n",
              "      <td>3000</td>\n",
              "      <td>3</td>\n",
              "      <td>1</td>\n",
              "      <td>1000</td>\n",
              "      <td>4</td>\n",
              "      <td>1</td>\n",
              "      <td>4.672829</td>\n",
              "      <td>0</td>\n",
              "      <td>0</td>\n",
              "      <td>0</td>\n",
              "      <td>...</td>\n",
              "      <td>0</td>\n",
              "      <td>0</td>\n",
              "      <td>0</td>\n",
              "      <td>0</td>\n",
              "      <td>0</td>\n",
              "      <td>0</td>\n",
              "      <td>0</td>\n",
              "      <td>0</td>\n",
              "      <td>0</td>\n",
              "      <td>0</td>\n",
              "    </tr>\n",
              "    <tr>\n",
              "      <th>1</th>\n",
              "      <td>1950</td>\n",
              "      <td>1</td>\n",
              "      <td>1</td>\n",
              "      <td>950</td>\n",
              "      <td>1</td>\n",
              "      <td>3</td>\n",
              "      <td>4.430817</td>\n",
              "      <td>0</td>\n",
              "      <td>0</td>\n",
              "      <td>0</td>\n",
              "      <td>...</td>\n",
              "      <td>0</td>\n",
              "      <td>0</td>\n",
              "      <td>0</td>\n",
              "      <td>0</td>\n",
              "      <td>0</td>\n",
              "      <td>0</td>\n",
              "      <td>0</td>\n",
              "      <td>0</td>\n",
              "      <td>0</td>\n",
              "      <td>0</td>\n",
              "    </tr>\n",
              "    <tr>\n",
              "      <th>2</th>\n",
              "      <td>3500</td>\n",
              "      <td>1</td>\n",
              "      <td>1</td>\n",
              "      <td>996</td>\n",
              "      <td>9</td>\n",
              "      <td>7</td>\n",
              "      <td>1.386294</td>\n",
              "      <td>1</td>\n",
              "      <td>0</td>\n",
              "      <td>0</td>\n",
              "      <td>...</td>\n",
              "      <td>0</td>\n",
              "      <td>0</td>\n",
              "      <td>0</td>\n",
              "      <td>0</td>\n",
              "      <td>0</td>\n",
              "      <td>0</td>\n",
              "      <td>0</td>\n",
              "      <td>0</td>\n",
              "      <td>0</td>\n",
              "      <td>0</td>\n",
              "    </tr>\n",
              "    <tr>\n",
              "      <th>3</th>\n",
              "      <td>1725</td>\n",
              "      <td>1</td>\n",
              "      <td>1</td>\n",
              "      <td>800</td>\n",
              "      <td>1</td>\n",
              "      <td>2</td>\n",
              "      <td>4.499810</td>\n",
              "      <td>0</td>\n",
              "      <td>0</td>\n",
              "      <td>0</td>\n",
              "      <td>...</td>\n",
              "      <td>0</td>\n",
              "      <td>0</td>\n",
              "      <td>0</td>\n",
              "      <td>0</td>\n",
              "      <td>0</td>\n",
              "      <td>0</td>\n",
              "      <td>0</td>\n",
              "      <td>0</td>\n",
              "      <td>0</td>\n",
              "      <td>0</td>\n",
              "    </tr>\n",
              "    <tr>\n",
              "      <th>4</th>\n",
              "      <td>1700</td>\n",
              "      <td>1</td>\n",
              "      <td>1</td>\n",
              "      <td>730</td>\n",
              "      <td>10</td>\n",
              "      <td>3</td>\n",
              "      <td>2.079442</td>\n",
              "      <td>0</td>\n",
              "      <td>0</td>\n",
              "      <td>0</td>\n",
              "      <td>...</td>\n",
              "      <td>0</td>\n",
              "      <td>0</td>\n",
              "      <td>0</td>\n",
              "      <td>0</td>\n",
              "      <td>0</td>\n",
              "      <td>0</td>\n",
              "      <td>0</td>\n",
              "      <td>0</td>\n",
              "      <td>0</td>\n",
              "      <td>0</td>\n",
              "    </tr>\n",
              "  </tbody>\n",
              "</table>\n",
              "<p>5 rows × 38 columns</p>\n",
              "</div>\n",
              "      <button class=\"colab-df-convert\" onclick=\"convertToInteractive('df-c642292e-4b01-4959-bfa0-9d7c783838b9')\"\n",
              "              title=\"Convert this dataframe to an interactive table.\"\n",
              "              style=\"display:none;\">\n",
              "        \n",
              "  <svg xmlns=\"http://www.w3.org/2000/svg\" height=\"24px\"viewBox=\"0 0 24 24\"\n",
              "       width=\"24px\">\n",
              "    <path d=\"M0 0h24v24H0V0z\" fill=\"none\"/>\n",
              "    <path d=\"M18.56 5.44l.94 2.06.94-2.06 2.06-.94-2.06-.94-.94-2.06-.94 2.06-2.06.94zm-11 1L8.5 8.5l.94-2.06 2.06-.94-2.06-.94L8.5 2.5l-.94 2.06-2.06.94zm10 10l.94 2.06.94-2.06 2.06-.94-2.06-.94-.94-2.06-.94 2.06-2.06.94z\"/><path d=\"M17.41 7.96l-1.37-1.37c-.4-.4-.92-.59-1.43-.59-.52 0-1.04.2-1.43.59L10.3 9.45l-7.72 7.72c-.78.78-.78 2.05 0 2.83L4 21.41c.39.39.9.59 1.41.59.51 0 1.02-.2 1.41-.59l7.78-7.78 2.81-2.81c.8-.78.8-2.07 0-2.86zM5.41 20L4 18.59l7.72-7.72 1.47 1.35L5.41 20z\"/>\n",
              "  </svg>\n",
              "      </button>\n",
              "      \n",
              "  <style>\n",
              "    .colab-df-container {\n",
              "      display:flex;\n",
              "      flex-wrap:wrap;\n",
              "      gap: 12px;\n",
              "    }\n",
              "\n",
              "    .colab-df-convert {\n",
              "      background-color: #E8F0FE;\n",
              "      border: none;\n",
              "      border-radius: 50%;\n",
              "      cursor: pointer;\n",
              "      display: none;\n",
              "      fill: #1967D2;\n",
              "      height: 32px;\n",
              "      padding: 0 0 0 0;\n",
              "      width: 32px;\n",
              "    }\n",
              "\n",
              "    .colab-df-convert:hover {\n",
              "      background-color: #E2EBFA;\n",
              "      box-shadow: 0px 1px 2px rgba(60, 64, 67, 0.3), 0px 1px 3px 1px rgba(60, 64, 67, 0.15);\n",
              "      fill: #174EA6;\n",
              "    }\n",
              "\n",
              "    [theme=dark] .colab-df-convert {\n",
              "      background-color: #3B4455;\n",
              "      fill: #D2E3FC;\n",
              "    }\n",
              "\n",
              "    [theme=dark] .colab-df-convert:hover {\n",
              "      background-color: #434B5C;\n",
              "      box-shadow: 0px 1px 3px 1px rgba(0, 0, 0, 0.15);\n",
              "      filter: drop-shadow(0px 1px 2px rgba(0, 0, 0, 0.3));\n",
              "      fill: #FFFFFF;\n",
              "    }\n",
              "  </style>\n",
              "\n",
              "      <script>\n",
              "        const buttonEl =\n",
              "          document.querySelector('#df-c642292e-4b01-4959-bfa0-9d7c783838b9 button.colab-df-convert');\n",
              "        buttonEl.style.display =\n",
              "          google.colab.kernel.accessAllowed ? 'block' : 'none';\n",
              "\n",
              "        async function convertToInteractive(key) {\n",
              "          const element = document.querySelector('#df-c642292e-4b01-4959-bfa0-9d7c783838b9');\n",
              "          const dataTable =\n",
              "            await google.colab.kernel.invokeFunction('convertToInteractive',\n",
              "                                                     [key], {});\n",
              "          if (!dataTable) return;\n",
              "\n",
              "          const docLinkHtml = 'Like what you see? Visit the ' +\n",
              "            '<a target=\"_blank\" href=https://colab.research.google.com/notebooks/data_table.ipynb>data table notebook</a>'\n",
              "            + ' to learn more about interactive tables.';\n",
              "          element.innerHTML = '';\n",
              "          dataTable['output_type'] = 'display_data';\n",
              "          await google.colab.output.renderOutput(dataTable, element);\n",
              "          const docLink = document.createElement('div');\n",
              "          docLink.innerHTML = docLinkHtml;\n",
              "          element.appendChild(docLink);\n",
              "        }\n",
              "      </script>\n",
              "    </div>\n",
              "  </div>\n",
              "  "
            ]
          },
          "metadata": {},
          "execution_count": 59
        }
      ]
    },
    {
      "cell_type": "code",
      "source": [
        "# Melakukan standarisasi pada setiap feature di X\n",
        "X = standarisasi(X)"
      ],
      "metadata": {
        "id": "BIFlnQV-4tjf"
      },
      "id": "BIFlnQV-4tjf",
      "execution_count": null,
      "outputs": []
    },
    {
      "cell_type": "code",
      "source": [
        "X.head()"
      ],
      "metadata": {
        "id": "ATcz03yiWp2E",
        "colab": {
          "base_uri": "https://localhost:8080/",
          "height": 317
        },
        "outputId": "c607f5d4-9d82-4cca-bbe2-fb6235b0362e"
      },
      "id": "ATcz03yiWp2E",
      "execution_count": null,
      "outputs": [
        {
          "output_type": "execute_result",
          "data": {
            "text/plain": [
              "   bedrooms  bathrooms  size_sqft  min_to_subway     floor  building_age_yrs  \\\n",
              "0  2.035317  -0.399258   0.786064      -0.421983 -0.820552          1.051783   \n",
              "1 -0.396208  -0.399258   0.577180      -0.883451 -0.465719          0.882682   \n",
              "2 -0.396208  -0.399258   0.769353       0.347131  0.243948         -1.244609   \n",
              "3 -0.396208  -0.399258  -0.049470      -0.883451 -0.643135          0.930889   \n",
              "4 -0.396208  -0.399258  -0.341907       0.500954 -0.465719         -0.760288   \n",
              "\n",
              "     no_fee  has_roofdeck  has_washer_dryer  has_doorman  ...  \\\n",
              "0 -0.888950     -0.257911         -0.242837    -0.312762  ...   \n",
              "1 -0.888950     -0.257911         -0.242837    -0.312762  ...   \n",
              "2  1.122412     -0.257911         -0.242837    -0.312762  ...   \n",
              "3 -0.888950     -0.257911         -0.242837    -0.312762  ...   \n",
              "4 -0.888950     -0.257911         -0.242837    -0.312762  ...   \n",
              "\n",
              "   neighborhood_Oakland Gardens  neighborhood_Queens Village  \\\n",
              "0                     -0.047246                    -0.082015   \n",
              "1                     -0.047246                    -0.082015   \n",
              "2                     -0.047246                    -0.082015   \n",
              "3                     -0.047246                    -0.082015   \n",
              "4                     -0.047246                    -0.082015   \n",
              "\n",
              "   neighborhood_Rego Park  neighborhood_Richmond Hill  neighborhood_Ridgewood  \\\n",
              "0               -0.312762                   -0.047246               -0.210215   \n",
              "1               -0.312762                   -0.047246               -0.210215   \n",
              "2               -0.312762                   -0.047246               -0.210215   \n",
              "3               -0.312762                   -0.047246               -0.210215   \n",
              "4               -0.312762                   -0.047246               -0.210215   \n",
              "\n",
              "   neighborhood_Rockaway All  neighborhood_South Richmond Hill  \\\n",
              "0                  -0.047246                         -0.047246   \n",
              "1                  -0.047246                         -0.047246   \n",
              "2                  -0.047246                         -0.047246   \n",
              "3                  -0.047246                         -0.047246   \n",
              "4                  -0.047246                         -0.047246   \n",
              "\n",
              "   neighborhood_Sunnyside  neighborhood_Woodhaven  neighborhood_Woodside  \n",
              "0               -0.262789               -0.047246               -0.09481  \n",
              "1               -0.262789               -0.047246               -0.09481  \n",
              "2               -0.262789               -0.047246               -0.09481  \n",
              "3               -0.262789               -0.047246               -0.09481  \n",
              "4               -0.262789               -0.047246               -0.09481  \n",
              "\n",
              "[5 rows x 37 columns]"
            ],
            "text/html": [
              "\n",
              "  <div id=\"df-77032ee9-a917-4983-9e04-20e9e4003673\">\n",
              "    <div class=\"colab-df-container\">\n",
              "      <div>\n",
              "<style scoped>\n",
              "    .dataframe tbody tr th:only-of-type {\n",
              "        vertical-align: middle;\n",
              "    }\n",
              "\n",
              "    .dataframe tbody tr th {\n",
              "        vertical-align: top;\n",
              "    }\n",
              "\n",
              "    .dataframe thead th {\n",
              "        text-align: right;\n",
              "    }\n",
              "</style>\n",
              "<table border=\"1\" class=\"dataframe\">\n",
              "  <thead>\n",
              "    <tr style=\"text-align: right;\">\n",
              "      <th></th>\n",
              "      <th>bedrooms</th>\n",
              "      <th>bathrooms</th>\n",
              "      <th>size_sqft</th>\n",
              "      <th>min_to_subway</th>\n",
              "      <th>floor</th>\n",
              "      <th>building_age_yrs</th>\n",
              "      <th>no_fee</th>\n",
              "      <th>has_roofdeck</th>\n",
              "      <th>has_washer_dryer</th>\n",
              "      <th>has_doorman</th>\n",
              "      <th>...</th>\n",
              "      <th>neighborhood_Oakland Gardens</th>\n",
              "      <th>neighborhood_Queens Village</th>\n",
              "      <th>neighborhood_Rego Park</th>\n",
              "      <th>neighborhood_Richmond Hill</th>\n",
              "      <th>neighborhood_Ridgewood</th>\n",
              "      <th>neighborhood_Rockaway All</th>\n",
              "      <th>neighborhood_South Richmond Hill</th>\n",
              "      <th>neighborhood_Sunnyside</th>\n",
              "      <th>neighborhood_Woodhaven</th>\n",
              "      <th>neighborhood_Woodside</th>\n",
              "    </tr>\n",
              "  </thead>\n",
              "  <tbody>\n",
              "    <tr>\n",
              "      <th>0</th>\n",
              "      <td>2.035317</td>\n",
              "      <td>-0.399258</td>\n",
              "      <td>0.786064</td>\n",
              "      <td>-0.421983</td>\n",
              "      <td>-0.820552</td>\n",
              "      <td>1.051783</td>\n",
              "      <td>-0.888950</td>\n",
              "      <td>-0.257911</td>\n",
              "      <td>-0.242837</td>\n",
              "      <td>-0.312762</td>\n",
              "      <td>...</td>\n",
              "      <td>-0.047246</td>\n",
              "      <td>-0.082015</td>\n",
              "      <td>-0.312762</td>\n",
              "      <td>-0.047246</td>\n",
              "      <td>-0.210215</td>\n",
              "      <td>-0.047246</td>\n",
              "      <td>-0.047246</td>\n",
              "      <td>-0.262789</td>\n",
              "      <td>-0.047246</td>\n",
              "      <td>-0.09481</td>\n",
              "    </tr>\n",
              "    <tr>\n",
              "      <th>1</th>\n",
              "      <td>-0.396208</td>\n",
              "      <td>-0.399258</td>\n",
              "      <td>0.577180</td>\n",
              "      <td>-0.883451</td>\n",
              "      <td>-0.465719</td>\n",
              "      <td>0.882682</td>\n",
              "      <td>-0.888950</td>\n",
              "      <td>-0.257911</td>\n",
              "      <td>-0.242837</td>\n",
              "      <td>-0.312762</td>\n",
              "      <td>...</td>\n",
              "      <td>-0.047246</td>\n",
              "      <td>-0.082015</td>\n",
              "      <td>-0.312762</td>\n",
              "      <td>-0.047246</td>\n",
              "      <td>-0.210215</td>\n",
              "      <td>-0.047246</td>\n",
              "      <td>-0.047246</td>\n",
              "      <td>-0.262789</td>\n",
              "      <td>-0.047246</td>\n",
              "      <td>-0.09481</td>\n",
              "    </tr>\n",
              "    <tr>\n",
              "      <th>2</th>\n",
              "      <td>-0.396208</td>\n",
              "      <td>-0.399258</td>\n",
              "      <td>0.769353</td>\n",
              "      <td>0.347131</td>\n",
              "      <td>0.243948</td>\n",
              "      <td>-1.244609</td>\n",
              "      <td>1.122412</td>\n",
              "      <td>-0.257911</td>\n",
              "      <td>-0.242837</td>\n",
              "      <td>-0.312762</td>\n",
              "      <td>...</td>\n",
              "      <td>-0.047246</td>\n",
              "      <td>-0.082015</td>\n",
              "      <td>-0.312762</td>\n",
              "      <td>-0.047246</td>\n",
              "      <td>-0.210215</td>\n",
              "      <td>-0.047246</td>\n",
              "      <td>-0.047246</td>\n",
              "      <td>-0.262789</td>\n",
              "      <td>-0.047246</td>\n",
              "      <td>-0.09481</td>\n",
              "    </tr>\n",
              "    <tr>\n",
              "      <th>3</th>\n",
              "      <td>-0.396208</td>\n",
              "      <td>-0.399258</td>\n",
              "      <td>-0.049470</td>\n",
              "      <td>-0.883451</td>\n",
              "      <td>-0.643135</td>\n",
              "      <td>0.930889</td>\n",
              "      <td>-0.888950</td>\n",
              "      <td>-0.257911</td>\n",
              "      <td>-0.242837</td>\n",
              "      <td>-0.312762</td>\n",
              "      <td>...</td>\n",
              "      <td>-0.047246</td>\n",
              "      <td>-0.082015</td>\n",
              "      <td>-0.312762</td>\n",
              "      <td>-0.047246</td>\n",
              "      <td>-0.210215</td>\n",
              "      <td>-0.047246</td>\n",
              "      <td>-0.047246</td>\n",
              "      <td>-0.262789</td>\n",
              "      <td>-0.047246</td>\n",
              "      <td>-0.09481</td>\n",
              "    </tr>\n",
              "    <tr>\n",
              "      <th>4</th>\n",
              "      <td>-0.396208</td>\n",
              "      <td>-0.399258</td>\n",
              "      <td>-0.341907</td>\n",
              "      <td>0.500954</td>\n",
              "      <td>-0.465719</td>\n",
              "      <td>-0.760288</td>\n",
              "      <td>-0.888950</td>\n",
              "      <td>-0.257911</td>\n",
              "      <td>-0.242837</td>\n",
              "      <td>-0.312762</td>\n",
              "      <td>...</td>\n",
              "      <td>-0.047246</td>\n",
              "      <td>-0.082015</td>\n",
              "      <td>-0.312762</td>\n",
              "      <td>-0.047246</td>\n",
              "      <td>-0.210215</td>\n",
              "      <td>-0.047246</td>\n",
              "      <td>-0.047246</td>\n",
              "      <td>-0.262789</td>\n",
              "      <td>-0.047246</td>\n",
              "      <td>-0.09481</td>\n",
              "    </tr>\n",
              "  </tbody>\n",
              "</table>\n",
              "<p>5 rows × 37 columns</p>\n",
              "</div>\n",
              "      <button class=\"colab-df-convert\" onclick=\"convertToInteractive('df-77032ee9-a917-4983-9e04-20e9e4003673')\"\n",
              "              title=\"Convert this dataframe to an interactive table.\"\n",
              "              style=\"display:none;\">\n",
              "        \n",
              "  <svg xmlns=\"http://www.w3.org/2000/svg\" height=\"24px\"viewBox=\"0 0 24 24\"\n",
              "       width=\"24px\">\n",
              "    <path d=\"M0 0h24v24H0V0z\" fill=\"none\"/>\n",
              "    <path d=\"M18.56 5.44l.94 2.06.94-2.06 2.06-.94-2.06-.94-.94-2.06-.94 2.06-2.06.94zm-11 1L8.5 8.5l.94-2.06 2.06-.94-2.06-.94L8.5 2.5l-.94 2.06-2.06.94zm10 10l.94 2.06.94-2.06 2.06-.94-2.06-.94-.94-2.06-.94 2.06-2.06.94z\"/><path d=\"M17.41 7.96l-1.37-1.37c-.4-.4-.92-.59-1.43-.59-.52 0-1.04.2-1.43.59L10.3 9.45l-7.72 7.72c-.78.78-.78 2.05 0 2.83L4 21.41c.39.39.9.59 1.41.59.51 0 1.02-.2 1.41-.59l7.78-7.78 2.81-2.81c.8-.78.8-2.07 0-2.86zM5.41 20L4 18.59l7.72-7.72 1.47 1.35L5.41 20z\"/>\n",
              "  </svg>\n",
              "      </button>\n",
              "      \n",
              "  <style>\n",
              "    .colab-df-container {\n",
              "      display:flex;\n",
              "      flex-wrap:wrap;\n",
              "      gap: 12px;\n",
              "    }\n",
              "\n",
              "    .colab-df-convert {\n",
              "      background-color: #E8F0FE;\n",
              "      border: none;\n",
              "      border-radius: 50%;\n",
              "      cursor: pointer;\n",
              "      display: none;\n",
              "      fill: #1967D2;\n",
              "      height: 32px;\n",
              "      padding: 0 0 0 0;\n",
              "      width: 32px;\n",
              "    }\n",
              "\n",
              "    .colab-df-convert:hover {\n",
              "      background-color: #E2EBFA;\n",
              "      box-shadow: 0px 1px 2px rgba(60, 64, 67, 0.3), 0px 1px 3px 1px rgba(60, 64, 67, 0.15);\n",
              "      fill: #174EA6;\n",
              "    }\n",
              "\n",
              "    [theme=dark] .colab-df-convert {\n",
              "      background-color: #3B4455;\n",
              "      fill: #D2E3FC;\n",
              "    }\n",
              "\n",
              "    [theme=dark] .colab-df-convert:hover {\n",
              "      background-color: #434B5C;\n",
              "      box-shadow: 0px 1px 3px 1px rgba(0, 0, 0, 0.15);\n",
              "      filter: drop-shadow(0px 1px 2px rgba(0, 0, 0, 0.3));\n",
              "      fill: #FFFFFF;\n",
              "    }\n",
              "  </style>\n",
              "\n",
              "      <script>\n",
              "        const buttonEl =\n",
              "          document.querySelector('#df-77032ee9-a917-4983-9e04-20e9e4003673 button.colab-df-convert');\n",
              "        buttonEl.style.display =\n",
              "          google.colab.kernel.accessAllowed ? 'block' : 'none';\n",
              "\n",
              "        async function convertToInteractive(key) {\n",
              "          const element = document.querySelector('#df-77032ee9-a917-4983-9e04-20e9e4003673');\n",
              "          const dataTable =\n",
              "            await google.colab.kernel.invokeFunction('convertToInteractive',\n",
              "                                                     [key], {});\n",
              "          if (!dataTable) return;\n",
              "\n",
              "          const docLinkHtml = 'Like what you see? Visit the ' +\n",
              "            '<a target=\"_blank\" href=https://colab.research.google.com/notebooks/data_table.ipynb>data table notebook</a>'\n",
              "            + ' to learn more about interactive tables.';\n",
              "          element.innerHTML = '';\n",
              "          dataTable['output_type'] = 'display_data';\n",
              "          await google.colab.output.renderOutput(dataTable, element);\n",
              "          const docLink = document.createElement('div');\n",
              "          docLink.innerHTML = docLinkHtml;\n",
              "          element.appendChild(docLink);\n",
              "        }\n",
              "      </script>\n",
              "    </div>\n",
              "  </div>\n",
              "  "
            ]
          },
          "metadata": {},
          "execution_count": 61
        }
      ]
    },
    {
      "cell_type": "markdown",
      "source": [
        "#### Melakukan splitting data \n",
        "#### Data test sebesar 20% dan data training sebesar 80%"
      ],
      "metadata": {
        "id": "QrRuNmcu7_zc"
      },
      "id": "QrRuNmcu7_zc"
    },
    {
      "cell_type": "code",
      "source": [
        "# Split Data\n",
        "X_train, X_test, y_train, y_test = train_test_split(X, y, test_size=0.2, random_state=92)\n",
        "X_train.shape, X_test.shape"
      ],
      "metadata": {
        "id": "T7TBGgeyqn4q",
        "colab": {
          "base_uri": "https://localhost:8080/"
        },
        "outputId": "531f39fb-f048-41d0-9ddd-845c21cb7e7c"
      },
      "id": "T7TBGgeyqn4q",
      "execution_count": null,
      "outputs": [
        {
          "output_type": "execute_result",
          "data": {
            "text/plain": [
              "((358, 37), (90, 37))"
            ]
          },
          "metadata": {},
          "execution_count": 62
        }
      ]
    },
    {
      "cell_type": "markdown",
      "source": [
        "### **Memodelkan Linear Regression**\n",
        "##### Cost Formula\n",
        "![1_i6NIC06HS_VKNpi1uIKqNQ.webp](data:image/webp;base64,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)"
      ],
      "metadata": {
        "id": "7HXSKmckvRrq"
      },
      "id": "7HXSKmckvRrq"
    },
    {
      "cell_type": "code",
      "source": [
        "# Fungsi untuk mencari cost\n",
        "# Penjelasan parameter:\n",
        "# X: features yang digunakan\n",
        "# y: nilai yang akan diprediksi\n",
        "# w: weight\n",
        "# b: bias\n",
        "def cost_function(X, y, w, b):\n",
        "    cost = np.sum((((X.dot(w) + b) - y) ** 2) / (2*len(y)))\n",
        "    return cost"
      ],
      "metadata": {
        "id": "FNvpvnWqqQAe"
      },
      "id": "FNvpvnWqqQAe",
      "execution_count": null,
      "outputs": []
    },
    {
      "cell_type": "markdown",
      "source": [
        "##### Gradient Descent\n",
        "![image.png](data:image/png;base64,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)\n",
        "![image.png](data:image/png;base64,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)\n",
        "![image.png](data:image/png;base64,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)\n",
        "![image.png](data:image/png;base64,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)\n",
        "![image.png](data:image/png;base64,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)"
      ],
      "metadata": {
        "id": "7n_3WoFD7WLt"
      },
      "id": "7n_3WoFD7WLt"
    },
    {
      "cell_type": "code",
      "source": [
        "# Fungsi gradient descent\n",
        "# Penjelasan parameter:\n",
        "# X: features yang digunakan\n",
        "# y: nilai yang akan diprediksi\n",
        "# w: weight\n",
        "# b: bias\n",
        "# alpha: learning rate\n",
        "# epochs: jumlah iterasi\n",
        "def gradient_descent_function(X, y, w, b, alpha=0.01, epochs=1000):\n",
        "    m = len(y)\n",
        "    costs = [0] * epochs\n",
        "    \n",
        "    for epoch in range(epochs):\n",
        "        # Kalkulasi nilai z\n",
        "        z = X.dot(w) + b\n",
        "        \n",
        "        # Menghitung loss\n",
        "        loss = z - y\n",
        "        \n",
        "        # Menghitung gradient descent\n",
        "        weight_gradient = X.T.dot(loss) / m\n",
        "        bias_gradient = np.sum(loss) / m\n",
        "        \n",
        "        # Update nilai weight dan bias\n",
        "        w = w - alpha*weight_gradient\n",
        "        b = b - alpha*bias_gradient\n",
        "        \n",
        "        # Menyimpan nilai loss\n",
        "        cost = cost_function(X, y, w, b)\n",
        "        costs[epoch] = cost\n",
        "        \n",
        "    return w, b, costs"
      ],
      "metadata": {
        "id": "GWa9_382qbKN"
      },
      "id": "GWa9_382qbKN",
      "execution_count": null,
      "outputs": []
    },
    {
      "cell_type": "code",
      "source": [
        "# Inisialisasi random weight\n",
        "w = np.random.randn(X_train.shape[1])\n",
        "# Inisialisasi bias\n",
        "b = 0\n",
        "weights, bias, costs = gradient_descent_function(X_train, y_train, w, b, epochs=2000);"
      ],
      "metadata": {
        "id": "AoGO16kNqj6y"
      },
      "id": "AoGO16kNqj6y",
      "execution_count": null,
      "outputs": []
    },
    {
      "cell_type": "code",
      "source": [
        "# Menampilkan weights dan biasnya\n",
        "print(weights)\n",
        "print(bias)"
      ],
      "metadata": {
        "id": "U9BuVEMAqr--",
        "colab": {
          "base_uri": "https://localhost:8080/"
        },
        "outputId": "0d818c16-9a53-4e4b-ad4c-077f73dcbbfb"
      },
      "id": "U9BuVEMAqr--",
      "execution_count": null,
      "outputs": [
        {
          "output_type": "stream",
          "name": "stdout",
          "text": [
            "bedrooms                            165.396700\n",
            "bathrooms                           153.613961\n",
            "size_sqft                           303.348677\n",
            "min_to_subway                       -51.685630\n",
            "floor                                79.307599\n",
            "building_age_yrs                   -162.639828\n",
            "no_fee                              116.648157\n",
            "has_roofdeck                         19.867411\n",
            "has_washer_dryer                     44.105392\n",
            "has_doorman                          36.743893\n",
            "has_elevator                         -9.462782\n",
            "has_dishwasher                      -34.104395\n",
            "has_patio                            39.161684\n",
            "has_gym                             -14.207605\n",
            "neighborhood_Briarwood              -56.354675\n",
            "neighborhood_Corona                  12.952791\n",
            "neighborhood_Elmhurst               -46.486447\n",
            "neighborhood_Flushing               -31.466238\n",
            "neighborhood_Forest Hills          -136.966727\n",
            "neighborhood_Glendale               -34.653135\n",
            "neighborhood_Jackson Heights        -27.839226\n",
            "neighborhood_Jamaica Estates        -57.797215\n",
            "neighborhood_Jamaica Hills         -116.863155\n",
            "neighborhood_Kew Gardens           -115.042900\n",
            "neighborhood_Kew Gardens Hills       -7.763307\n",
            "neighborhood_Long Island City       223.399451\n",
            "neighborhood_North Corona           -19.397790\n",
            "neighborhood_Oakland Gardens          3.465157\n",
            "neighborhood_Queens Village         -36.870185\n",
            "neighborhood_Rego Park             -107.111968\n",
            "neighborhood_Richmond Hill          -25.039636\n",
            "neighborhood_Ridgewood              -83.342598\n",
            "neighborhood_Rockaway All           -27.861779\n",
            "neighborhood_South Richmond Hill    -24.015241\n",
            "neighborhood_Sunnyside              -44.662330\n",
            "neighborhood_Woodhaven              -18.865867\n",
            "neighborhood_Woodside               -26.287396\n",
            "dtype: float64\n",
            "2513.337196950599\n"
          ]
        }
      ]
    },
    {
      "cell_type": "code",
      "source": [
        "# Memvisualisasikan costnya\n",
        "plt.plot(costs)\n",
        "plt.show()"
      ],
      "metadata": {
        "id": "2Ub4g6bHrbMH",
        "colab": {
          "base_uri": "https://localhost:8080/",
          "height": 445
        },
        "outputId": "2f73e4b5-77e2-492c-9450-340bde9921a4"
      },
      "id": "2Ub4g6bHrbMH",
      "execution_count": null,
      "outputs": [
        {
          "output_type": "display_data",
          "data": {
            "text/plain": [
              "<Figure size 640x480 with 1 Axes>"
            ],
            "image/png": "[encoded data removed]"
          },
          "metadata": {}
        }
      ]
    },
    {
      "cell_type": "markdown",
      "source": [
        "Tampak bahwa costnya semakin berkurang menuju 0"
      ],
      "metadata": {
        "id": "USFUAf7NzIGC"
      },
      "id": "USFUAf7NzIGC"
    },
    {
      "cell_type": "code",
      "source": [
        "# Fungsi untuk memprediksi data berdasarkan feature X\n",
        "# Penjelasan parameter:\n",
        "# X: feature\n",
        "# w: weight\n",
        "# b: bias\n",
        "def predict(X, w, b):\n",
        "    return X.dot(w) + b"
      ],
      "metadata": {
        "id": "YP7fAQPJrrZg"
      },
      "id": "YP7fAQPJrrZg",
      "execution_count": null,
      "outputs": []
    },
    {
      "cell_type": "code",
      "source": [
        "# Melakukan prediksi terhadap X_test dan X_train\n",
        "y_pred_test = predict(X_test, weights, bias)\n",
        "y_pred_train = predict(X_train, weights, bias)"
      ],
      "metadata": {
        "id": "xOE3lCB3rv2F"
      },
      "id": "xOE3lCB3rv2F",
      "execution_count": null,
      "outputs": []
    },
    {
      "cell_type": "markdown",
      "source": [
        "# **Evaluasi Model**\n",
        "## Ada 4 jenis evaluasi yang kami gunakan:\n",
        "## 1. R2 Score\n",
        "## 2. Mean Absolute Error (MAE)\n",
        "## 3. Root Mean Squared Error (RMSE)\n",
        "## 4. Mean Absolute Percentage Error (MAPE)\""
      ],
      "metadata": {
        "id": "Lxg6v8kPB2Dt"
      },
      "id": "Lxg6v8kPB2Dt"
    },
    {
      "cell_type": "markdown",
      "source": [
        "## **R2 Score**\n",
        "![image.png](data:image/png;base64,iVBORw0KGgoAAAANSUhEUgAAAzwAAAClCAIAAAAWFW+vAAAgAElEQVR4nOydd7xVxdX3fzOzyznnNrqAAlIExY4iimLsBQvYjeXRxDx5TVWjRqOJMdEY85hmEn3yGFOMPdgNKGrsqIiCDRVFRZAOt52yy8ys9f6xzzn3XLhIEWLA/f1sLueeu/fs2WVm1qy1Zi3BzEhJSUlJSUlJSfnPRn7eFUhJSUlJSUlJSVk7qdCWkpKSkpKSkrIZkAptKSkpKSkpKSmbAanQlpKSkpKSkpKyGZAKbSkpKSkpKSkpmwGp0JaSkpKSkpKSshmQCm0pKSkpKSkpKZsBqdCWkpKSkpKSkrIZkAptKSkpKSkpKSmbAanQlpKSkpKSkpKyGZAKbSkpKSkpKSkpmwGp0JaSkpKSkpKSshmQCm0pKSkpKSkpKZsBqdCWkpKSkpKSkrJWCKBP+33TkwptKSkpKSkpKSnrAFekJga4VoSif48IlwptKSkpKSkpKSnrgIAti2YEmMq3yecYIDBAAG+q8zubquCUlJSUlJSUlC0HCUAkH0X5V1nzp/JPsQlrIJg3mUCYkpKSkpKSkrJFQIlQxgSARFViI0B2qNYEVXfcFMbMVNOWkpKSkrKlkegjhNiUSo+ULyZMAFhIoGIG7ZDYABjAAM4mkq9Sn7aUlJSUlI1PHMef49nJEtl/x8I+rXXyITVbbRbUPq9a1uVYawGAdTzjhReOHH+M49Z5rtOYy31p/4Nuvvm2KAIzYh0DHuBuovchNY+mpKSkpGwcmJksWbKO40gpoyiqfo9/o1iTzWaJCICU/w7FBDPHcSyE8Dzv33C6lM9I9Xm5rlv9ch2Vslrb8Ycd/K+nnznxlFNPPvnk3j17TH9x2hVXXq21JbI/u/qayy7/fnISIivlxle2pUJbyhZF7cz6s/fWVFMOgQDIVDmdkrJuVBUYtcNh+XMnc9KqYRI2sI1xR4FRFPm+D4CIpKgpb2MbS4nIWiuFVI7ayEV/sViTTnS1d6FWYFn/p9nl81qbJb1jHNBaDxs2PIrNBx9+WOfLMAwzubpkp7O/csatt95OFl8759wbb/xfx4E2xvNSoS0l5VOpNn2Jjk6c1mcYYOak9a7WixA6lSMJYLBkEgzIrrtsqpy8fGDnsSolZcuh0tyCIMhms2FU+PDDD199ZRYgkwYlhBJCSSEFAyAIqh5HnZuDXP9BqbYAhtxr3JcGbLOVC2gTuY4LVMJrbbR2RzU/HQB3TXrw2GOPzfgindVtEJ9iyK65owyIJEAaQ4jP8jQnTZp07LETHc9FeREB1QhtNc5q5e+IYQXExRdefPNf/tbc0iIAG4XK9wBZ0lHO9XXcNm6fvabPfE/A/dvf7zruhOP9DJxNMMtPhbaULQqqzIpksoJHgBQxQFawYc+XZGGJdRwRk5Iqm/OTA4tBxNbW1+eIyJImZpYCkFIqJWTSciUYSNx0HIIgSIAdNmBYI5WnmEDExGStBiBdIZV04AbagIQS1lMupKBAy4xDYCll6i6dsiXANRMSCW0C18GBB+37wvOvGauIDADHbTQ6zrn1sQ4sAoDWd+wRQiRNhpkTWZDI+G4m0qGEkIApV8LZeuTeH85+ThNnOFLJfIo9QG4UoY3ZChBE0hv4MKJXQ19/60Fvv/9qvUCqcFtPqMvPZaGYSQoniqySjudWtLLMENhgoY2ZoygaOnRopPn9jxfVZeEBZMKyKVMAQoJlh9AmYKmkJBWCQs+mfpddfuWPf/xjC6iKMsCAHQhw6cVHHzryqC+3MfoOGvnWe7M9F7lN8D6kQlvKFkZFlc2ABQSgiECCVVl/ZiEVtNZE5CgnUZIzEFv4SfOyMZSXLP4hgIicDrcYLodPhCQoA4cBj2LBZCyEdKWSXYpfEYMZXnXWxRZCAbAMVZnJVca8jTOupKT8W6kR2sIozmQFUPjtb355yYXXNNTlSmSDwG47bPcLz7t4ycJ5DhvXsSQMJ6OwAAkknwUDXWna2tvbi8VioVAolUqLFi2aNWuWUq4gSyYmYgZyvg9AKmWNKRjJqvvshYu27Y0cCAjBEthoQhtAsQ49VwAhBbp3t8Fa1S8qLlUCHlKhbX1Zo9Amy2FqpYWbKGfZWkcoIQFZ0bqtP4kthYh69enf0lJoKRZcx9Q5EoYhGJIApyPtARBGMYsgm3GmT392773HAxiz39ipU6c2ZeqrQpuwWnGM9uWDBw2ZVwCQnT530bCh3RoAdw3V2GDSkB8pWxgSDAgDIa0jAShAgiAcolhKr7l1yVNPPfXhh3Pb29ubmrofdMgRu+8+SgNSITTIOADHCz6Y99zbSyceM441HGOcjAsAQgACcJIV3RJMcMqDiyDHk5aKQtS99/47zzz93OIlS8GyX98BhxxyxIBB/YSCX+1fzIrpL7zQYusPPPAgX8AQHElgAyIAkF66pjtlM0ZAOcpSpGTm/AsumjZl6iNPvBpLAN689xcffdxJ2/aHNVCyvHPyc7182oiIiaWSb8yc8fJzTz75r6kPTX5ayag9gAWEhPQbraW/33LzVRd9zUA6yTDHG206RJCapDJa2WBAr62bY29ZcakjgPJcLGUDoFU+lMUhxGAxbtz4Cy/50YRjjlBSmRius+ESW/LyKEdJKZtXLMlm6wb17bWkdUXN2WujrAFAJutZS4ApFEo5T0UxTZ8+/cMPP9p95M4d5SoXAHw1aOteLR81t7H78iuv7jT04A2p4lrhlJQtCWImZtaWbcAcMTNZthHZ6IYbr29ozCoHAFxX+BmlHCGUhHQuvOKaiLkQJ0UUm3K5QaMOX8YcEFNIrC0by5Zt+RyGOWSOAuYSM1GebUsQrPjp1ZdlcwqAVPA8x/M8RzgCTkO21+9v/EtguKSZmRcveKMhh+9e+sNWYl2us2UbsMmzKTLpf/stS0n5zFB5I8tERBwzh8xtwZK3+tfBAVw/C/TLNO3cHLBlJstsiS2tC9WTWGuNNtZWDrORKS7jcDmblsn33brbjoMTZwfH95Dp1nvo7u2cNDHLpJnWWPf1xzJrpmD/nYd6wCtvz23r6D1S1hdbvp+smaPOW5E5f/Ix+wMA5Muvf6CZteHP+CjjOGbmUqnE1syfO8dVYvBOu0bJ3wwx6fLbQpWqMUdxwFzScUu/3j0A7Lz7biUdsS3XRDOFccSmyNGig0b2qVOAk7v+rqkLIo4+263pklRoS9mSqDR+YsvcGnPBMOvgpacer8tkAdWrZ9+77rxn+bKWMDDMbDS9+cY753ztXLi5rQYMKUaGmfffew+lvF/8dfJK5oJmE9iq0FbbjA1zcxRbZrKLbvvzdQAAf/fdxjz4wCNtrUWjiZnZmhefe/KgA/YHxIEHjWdmw9S9R5PjZWa9v7CdOWDWltkaNiWO21kXUqEtZbOEaofS6hgccLT4mam3d/PhAp7KAvXjjj6jyBxX9jPaEFEiwK27GEdEhpMfMVPIVGJbYMo/98SDA3r5HuB5HuBNmz2/2FGl6qRrAzHalD9FBebS1Zd+V4j6i6/4VYE5YDZMbDemYPiFYXWhzTDHxCGzOfW4Q7MSe++zg3QB1eO1txbTZ36OVaGfreEg/6ufXw3gvEsvK0UchUxkmE35JMRsy/MQ5oC5FLS3PTJ5SrkgQ8k7b5hiHbIpsVnW30v0upmXP2xurbznG5dUaEvZwrDMNhlCImJmvvwHlyjAlZlb/343M0dheb8otInoxsyLFnwCYK+99vr2t78NAH63J9/4pIW5YNhEho1hY8gy2fLgZJkNs+HYcv7Ekw6WAr5X9+K0N63uGLpMHOuoyBwy60ceetiB+MpXzjrokEMAt/+QnYvEJeZEi0dGsw1Zl1iXmD5jj5SS8nlQfu2ro6+t/Jpns/zCb33ZKRucHCD7o1/dFDEHJtZMxTColdjWXW4zXPnfGqaYbchRO4etHDb/9+nHOYCbzX35W5e1VapnO4biDcdaWyqVmKL3p//LAXr03XF5zCVmzTGRITJrLyJlVVYV2iwFzMQcf+WrpwM444wTjGl+bdYLgJfNbrWiOQo/m/6qQ4NrDZNhNsO328Z11bSX3oiIA2MqtVpFeRwyhdVCQmuqQhuRCdtXMhcfveOP3RUADN1lbKLl3RQvRCq0pWxZdMz4NXPbuV//sqvqpOz22mtvMTMRFYvFOI6NNkabOI6jOGAdcHHlezOfL3sM+L1z2+wcMAdlocommyHWTIa14ciUVfctB4weAeX2GDR8WXN7HMdJ+UEQRFFktImiqBgWmTVz+ODtNzsAIIHcuPGnBcwRsbZsrbXWktFsk+Hnc717KSkbRkejixKhLRmKw7DEzMzL9tpjawBKeXBycLJz5s/XzCUdMTNbYlPZ1kPZZspNxlQ2ZgoCjiKOi5ec/98AZK9hyxKvBmLDHK+/0GbXcMiIgQMUMOWfTzKzZtIcazY6nXJtCFWhLWJO+t2YOb7o+9/16t2vnf/d1jiK4iKb4tKP3hGAqxqWLC11daPX9KxWpfYdYmKOg1eeut8DBg3eqc1wwXAp1rZaWiK0WSaOmWKKwlKhGFrD3KFpY4qZS9y6YPSIbQCgvvfUGXMKFcPMRicV2lK2KCwl7cQy52+6/kd1HqTf/ZEnZ0YxMdsoDoyJuOqMwGxMYtkocdzy9dOO9RwF2fPIsy5MdPQR2WTTZU8HE3JkOGDOM7Wcc/Q4H0C257w8t4VhZbLIiZhX7hSYyUbMMUcte243IKMU0HTN//4jJE68c6pU909J2WypCm3lQS8i1hQxr1y+5A1UFr652dyg4cOrBxhKXNwS2WuDhTbiuDznKebbWLd95StnQna7Z+oMXa6J3YARdDVBwJow+N2vf+O4jTuMHB2ULFsmMsSxZtKbZpDe0rEVG6RmDpiLmovnXfxtAOf94PtJrxoEAbNmLrQs+cj3GvzcVsUSM7O1tc9n/YU2y9YwU8S07JBRgwFc/5f7mg0XKNGQdRbakvctNsxcCCPmqieLYSqxabnhZ5dmPcD3f3bD31qYDXO+uClc2lKhLWULoqPVxm2fvPVinQMAp51zvmHWtVrxmiMs6/ICA4reeOZeHwAyN016JmbWTKtIbJqppKMoznO8cMrd/9cEePBv/Ps/bNnfueKMXVORsgRpNevi7648r8EDsn2nzVkZGO7kUt1F3VJSNkds9f23zHFiIaIS29b7/v7HOgGJJMyN+MrXzwstryzaUnnBUMi2xNasu1sbreIMVzMJSiZmDX7TuH0OjpJqaFMzWVu/i0k+UhRyXGRd6NejB9D7lvtfipjDWLON2cYbwfj6hcB2sZFlbVlrpoC5eN3118h658pf/arVlB3cmJmJg1J7FAcrW/KA073bUGaOTKi5aNgYpkRy35AaRe0cfPzYbb/3HFc29l/G3JK8kKs/zkrXnmhta/r89plPPtjdB4CLf3lde9nHcVORBhdI2aIQQFtLM6S54ILzQgMv2/P7P/j+mndPAv7IZJX5dkMH5RxAZUbtuQejHPszCbxWXV3uSs+REmHp/PPPN7LRzfX56pknlUASa4p3WI2Z7owcuX0Yw6+vG7xtDwBCijSmbsoWh+ziF+FDZI877YyJxx6aBVxG1s3defudDzz0pJsth8G2YkNi3XAlwFvyOYGAgCwgbvnTH1968V+Lly0L2SqlNiyWjkyKZJDRIDvpb39Z0tzs9+538JFjCCgnV+WaLWV9YVntigG5z5i9b/j9H374ve81Kqhq3yuQyTYI6ftZb8Hi5Vdf9TMwhBBOR1y8DXm6VkcghvAPHX9UzwaPwvytt00BYLvMk1t5wQRDAQ7QXmyNopY3Zr2x10ETWiL836Q7L7zwAoWk2vSpaR42nFRoS9lykIBgNHXvsfyTeVOefNnC36r/kCED+ylArLE3lWWpzZpMnz7CQ88RwwduW2eTv3GHuCYgBeBIlsp95umn5y8OimT2O/xoQ7YOLLtonwRQRwMTGLHjLgTst9++PTwImWZBSNlSkdXUbaocbFZCeFCZ2ybdN2RANwn4iOJS+6nHHb+s2ahyqFTHwGMhef2bRa3olqCEAjDxhOP69ul73z3/KDdPbTfgSiqQUgxHXXXtda6bOfmU43v5EEAuV1e+XlmOnp+ynkgk8rqUEJIhxo7Z+9yzvyoBi7IQnIg/kTZKCc9xt+nb7Zz/PoUAsLLJzedKzpr1g5QUcH2Qj+59v3rGKa4tXP3TK0uUPMYuSksCQUtAMgG2sa7bjJlv7Tpqv0yfge98svTUE4+rR+iDFEjCAGZTyG2p0JayBcGwkYEJH3tiqpMB4A3adjvPQSkqSQbZSq7DGpKjQAQQiEhi+5EjddJfAJX8VWUkEwAOC3f8/Q4AQG7HXXfLSmURrblKBCYIgpCN3bZSwBGHHVoipAJbypYPA0yV1gVAwa2b8s/JGaCoTcZRgD3qyMOTsPcGykLYjZShRwmhtRY5f/6Sxd/6xjc3IJlpxyVU04xKLJz73vxFS2NNp5x0nAWMhVONEixTiW1DEbVyvgQcQJCNFXNtP+m75ZtdCo3vQwowo1SMyhLb6pL7uqA8KL+kBeBPPPoI13LLwk/ee3cJaoaJ6r6UaHPLiakNoF5+4flx+x00YtfRH8z/eODWfXJwHbCCkYCFY+HQJhCxUqEtZYtCSQXgueefswaAWrpsmRDI+dkoipKlPqvsLygxg1qwgEZrAUcdebib9MCyyy7ACMedNetNBSDjNjcvRdlE0uWwwBDJJiDFm+/MJWC/sXu5EgoQXbFRb0ZKyn8QURSBzTYjR/786h80ucroIhDMmfHCD676TQxEREQWXQ2W60jSglgKIYWAcF0XBDCUEK50IAC1nkkRyrmTKpur/vynP7YFsWxo2m33kQByiWlOCkhhAbtaaocErXU+nyeiIAjCMOz6RJ0vl6hcUhRFIAZt4D3ZHDCAaWtfqU2gjWZSUWitEUp5Qohau2lyR5QSmUw5k5OUqqGu/jOcOkmGhVxjE8Cjdtmxex1Qapl0950SaG9vN8bU9skS0IYlALZgnjX9+TH77n/uud9597WXm1xWHMcwYAmiG393/XOvzylCrrdqd90qnZKypSAAT0CoFUtWxBGA4vvvvLlg4fIV+YLrZxzHwWopQCAYggAJ4bwz92NIjD/kIH8Nc2YSsNYymZUtbUoA4ZKHHrgrZEg3p4m6ltu4OlmXs+fMbWzqsesuw9NWl/KFIMm9nXggAL7vgwwc9fVLvr/XXnv6QmWl42Yy119z7bMz3vWkhNxoeRorvnTlliy6dFFae/0TcS35hRDlJz/0ECBG77NP9wbHqxZLXHbL63x0HMdBEDCz4ziZTEYIkc1mPc+rCmSr097eXq6/lACssb7vr3e1Nz90U73rOtZ1HAmRyWQsKwCBXvVGVX6nyLYDzARTvekbKNCKRGkGQHbvvtPIEYB9fOojHpDNZld7Uuw5HOgipHPn7XeO2nvcVVde9b83/MZYSApFspqUFIT6znnfW9m6YhMlCU2Hj5Qth3ILU07Ppp4SyHmAaf/6N7+baWhQAkIIFtKysCwIsqy4FjGEgZSQ3tAd93zkscd2HNgnw/C4i6zVgBTKEyrT0NQTjG65bPP8OVf9/H9K5MeUFCiAcuHUMT8s1+vIoyY8PHkqWeQ+xZBS48NRnX+vg1vEJvF4/fTzrXrKNXlhd/LRLh9HnbeULZJEjrHJR44RtUEBBpDupDtvVWxJKm0MwvwxRxwSADFAosYLlMv549cLWdtyBSA6vtkA61miii9vrSs/+GAxst32HLOvAgBmtkIwpAKkBVGydqmCMUZKKYS4+eabx4wZs/fee1911VUArLVAF+0ljuPGxkYAH330kdaaiJTTkcpUsBAbcgH/iXRu9RJgcPvH78yYeMQBO+0w8rjjzpz93sICoFxZ2a0qOJf/dxW15ZeQBVNHKXKVvda2LiQR12x1rYmfPWbCRDjq/ddnLl7e7Lqu69bOIjhJOS0pmnTf3Weec+4bb713wcWXg0GGlJMVKucI31H+R3MXZfzcvruPdGBU6tOWkvLpMACInXfaKQNIGAjz5MMPHXnIhI/mL0l2MIaqGm9KfghiASuE5+aOOPhQWMB0KbEBib+xygzfYecIgCl5Dq69/EffO/9CZmEtr9ZAkwTzDqAYYsCgbcaM3dNTndMRb7ZIdO4WP0WTIQjCQpjO36YC25ZPxwNmAhGiGE4dIs4NGHbLLX+OTAmmCE+g0HLCiacna0iNkFRetJ0cuEG+ShsFTvyryga6ma/PiggIwj323hcAsKrtTCZrBiuiQy7j2ygcvN32X//Gtw866KDBgwb85IorenXvRdKNKWkUpqYNGM8lCvNDB287ZMiwIyecGJEkwFBVatwybKOSylJ0Mq2lRFa/+HuX7j76IOF4J5183EMP3DFqp2F33PoQd+ogkvkrSRgJ8/2LLuq91daZXLf5iwqSoZg7yfc1/dKn9zJccagDAGtG7jwy40iE4SuzZmshE31neUe2AKxum/zPf5580pfP/ea32/PFBx988La/3/nAfffePemeu+699x/33nP3pPuOP/XUXn36NmU9iXiT9PMbO4ZISsrnSRQzM3/y1rQckM0gk8tW3nSne6/+Z5z99Qf+OXXJirYkNWhgDLM2usDMQSGOiAPiiDk0bIgNdxEXKggCtub+u29zgUxlGixVPSAHDR1+0aWXP/fiyyta80mQnkKoTZKDlLk9TEL82GpmO9spClSFcjK7SoA3WmvOxK6KoTVvGwHLbG01hnGSUJlskpmxEgG/nJW5ckWaucgcBqV25iRnpNEcag4tb0jI05TNhdo4Z+V4ZklE3CDkQsul5365V2L9Uwq5Xlf+8o/tzG2Gk3whST66dQ2Zuoazl9nQNz/JpsDETNH/XPlNTwHZvi9+0BYwrxIVzLK1bAutLcwc24iZudA6qFfPPttun2dubmtlE++47SABudfBJ+SZi1EbcxSzjZmZNVOeafkfr7lYABBO/dY7r0ySOpmwnJHTcs3d+Cx35XOF2BLHlThnOm7j0sKfXXGB4ze8/PoHYRyxLfzxF5f6gFLdkz4zuftJhxPrEtu2tgWzMwqAAno+PXMxG2ZtuJxI3jLr8u6WmTlmjrq6Wav1mzGbhfPffV4CQtR/64e/KjJHzHFYonLCK802fGHaU0mfr9w1mvKF9I46ZgJXX4ONzRYw4U9J6cBzwWG49XY7nHHWBAGEpSCrVJ3KALatkL/t9ttOOOmkvn23GjZix+9ceOkzTz9HkARHB9bzXcllHbtSWN0wkxhrMpkMs5h48qkjdhgcWzTVeXUqo9gAtGDRwl9ee+24ffbeqn+/nXcb9cOrfvb2nPdIIGa0B3BkJ8vnOsESa2+hVT/d2rqu6xk2mFqfIUOA5eq6jSgKrLG1lgUmgjUgncnWJS7VqWn0C0LNqylZOCwcFhKQLCVc7+e//uWAfnUekHWAUuHKH/9k9rsLDUMBbGLgc16PmWi3rEg0N/Lt9z6MLVR9Y5/ejRIQHRHCgMqV1jU2AhA2BMKrrrq6ENgPP3rHAhlXgoKMEgLirXc/LBE8L0sIKyohCQY4mjXjBQeAcPfce38ADEglE1d9CELNzfy33oiNCFf0bICk2HHl3I8/vvynv5n04KOjdhliDENH+ZblLmCtmfLoc5XDyp5rgi04njnjJUcJyDo0bdVvYF+g8qjKC0c6qdnsp2opO99H2djY2N2BYpo956MS4AGunxVCEFkIMfvNN8bueyAA5SmrtXRUdVOuX92Y4sGDt9WWBbyNfPcAVNKKpKRsGRAAkfGAzI1/vmve3NHTX3grIoqVyNY1hjpWUtggD6E+/nDuH67/zR9+/cueW/W+6ea/HXv04VGEjIDDYMlgqvWtqdAhlGQy3vTpMwYOHLiyteQJ6WdyStSFYVjuXKx59523f3bFrJ9d8cPtdhw16R/37zpyIK3VxYITi0nyy6oRSmn1bz8dUSkT6zTydVH+OhxLiZe3tq5UxuowLOZydcxMFlEUlX2oBQnhMGWEEIl5WUIQSKQBEr7AGB27OQ+ceezZlwYM3Flo62fqojA++LCJ8+bOcAFrQrg5Ahhdr+JeF2qjJK6ZtbQtUf4jzXl7DoBstq5bQ5cHSACFYqnOE45LbYs+uuIXv7vj/ilk4VLkyKDY3vbhx/Myfq7U2sYG0nON1sKVQDI98xDZqU9MswDYnXDsYQqwgN8R0ZUqp0k8vaqmu/XuGz43Kl2KEJAAwla4zilfvWDE6DGHHz5WAa6J4WVeeuX9CIBwF6xckfSnic8ZJRfO/MiUKUwKSu2x5+59eyZekgRZkaFFRW7rog//FCTYaerRu1evHm1LC+/OeXu1hZ8kGJdd/v2+/bdRUgopSqWOSE9SdEjwixYtPuvss1wlYmM7arUR2RTqu5SUzwUymnXAVpf13oUll/y/0/xKRG0/m4NUrp91vIxya1eIetf9/nbmJHFiOaEhEa1iHk1S5RTzeROHTJrZUFQ6/tijJOAqASDRLSUTL8f3hEq6DB+y8ann3rLMhtmwNmzXYB6tZk2OykYZW5sldU3XXLtDNfWyZeb1SorVtaG26wJsuW6UXFH5uFIxnDf/k3vvvfd3v/vtLbfc8tZbb9XuT5pfmvZS5ysN1mC4SNky6dSUmJk5DtuZg3v/fn1lhWQWztYnffUSwxyWAmbWpCspfTfde/JppkbLbIiZDXNxu22aAHTbdu825nhNBzCziTlY+JMLviYb+7cwryjEOs4ztz36wE0uADjdttl9hebIJn4CbMqn0Qtff6oekNKDaHrh7QV55oAoOTVzsXwfKGK2iXmx3EtsTqbSJMFossoyYl6x5IOZ8OonT3+noC3riNlysb1PNgs48Po98MI7EbNlzRxZ1jFzFOdZLztgt8GOlHB6XHDF70vJHdJxpas0zBGbgI1O8k1F1Xu1alVW+dJw3MYc77ndAAWRGbjbinIuNiqbR23IOihXvnMhXd79ypuz8Uk1bSlbDCSUBAkIKkfBdequ/ePff3DVdXfePS9OWFgAACAASURBVGnq1KlPPfWUYaujQAlYBgDP82JjQfHFF1649+g99hs9ApZAAo6TxAroFDeNGaBcLguASQAQbvbe+x9c9Mn8SZMmTX380ekvT29u0bmMWyiEZKxUgJIZPxeUzPETJr7z7pu9emdWqXEi1oVhmMlkSqVwjz12fffdufWNqM/06t6tf74QNre1lorNgFVKWmtd1x04cOA+++wzYcKECROOs4YzWQdAHJHnS2auLHazAj5RJKX7xhtvnXXWWUTUu3fvbDabyWRKpVKxWFy5cmWHBZOl42eKxaJSaGqob2isa6prskSem/nLLX/2fT9xUKtEH5DVH7EtKUUKmT/94cZLfvTzltbWpqZsJuNFUZQEprrhhhu+8Y1vaGP3GXMgM7866znqmHxuDrqBlI1HpzCEzBDC9esBc/yZZ59w7/33P/i09FRJt0267a+HHnrwSScf6gKCDJQDjiD8TfDCrJt1XjBgi/nWluY2Bbl1/0GfEoSjvb29sSEL6d14w82nnftDAFnHcVwBtP7fTf+nAQh12CEHZx04QHJxAIw2jq+mTX8FAJHKbdV36JBt3EqS1k4GMRPe/8CUi6/69ZU/veq0iYeXtUrrr4osFApE1NjYGARBEgtpo8DMnuehc4CVTs+9HJk2BscQfN21v4DfMHqv7esAxAZQD9/1t3wQwGuQPfuO2Wf76hOSIA3y3bpo2Sevv/GRYRdGH3X4gcIkD0h27Gg1yBZXrDz8xLOG7rDTn27+7TrcnmR1sYcw3GZA/1lzF4T5fHMeTQ2wcexmfEDBEhQzmKq22op9nMGWRfWKVeVC5abp4QRvmfH6Ur6AVNykODE3CEBCCEgLaEDC0Ntvz5416/UHH3zg6aefbm/PE6BZ+NluUVHvPXbci9OmwCK2sed5XZgcyAJlIwWTSrzNGFY6ABQ4gBCvv/ra1KlTn3/+ucf+9S8pRGSYLIAG16/7+v875/rrr05U+ahYfJLymVkIEcTRPybd9vH8t9taWn973V8IEsideMopX9p/71KhVQmwwMqVKxcuXPjCCy/Mnz/fWj7jjP/63W9vbGz0hUIcG9cVEOXEKQKepUhKd968+RdfdHFjY+PMmTNff/1N5QhreNy4ccOGDSuVSpVrk9oI3/fzhZbFCxe8+uqrCsKCHeF8/MnH/fr16yLqL0Mbdl36aMH7Y0ePaWst/uya35x//ne0MczWdV0p5SOPPDJ+/PgLLrhg+IhdvnHueTffdMvZ50wEsXIY1UV2QoLXM+RpyuZOJznDAgLhyv49+zeXTASobA8by7nLlg3tIYhIihgiyYa1SYW2rgsngDh2RBy0tw7sM6g5UrsdePpzT/7VBbpyRE/WhZulb78+dKc973zutX333TVnOEPtLcvm9R+wm5EwXPfq7Lk77NA3zJe6N+RizY4rJBsIOv2Y8Xf881/wuh888biH7v6zlwhrXBbLSECC3p310shR41g1NW0zYOW8N1US+1es5tW6jtdPJDeeZMHMWmvXdZPuoipa1K7WZ5BIUjxxDBPuOXJU4/YHPPjwbQ0AdAgVHbffuCkvvhkjd86lP//tz7/rAJlyMigZssgInjb5rqOOObMNWfjdli2e36POUYIBglQQMEyOlCisGDFs+/eWFgD3menP7L3XKGe1G9S5h2cAiAAKjzv6Sw89NYO6DX7v4w8HN4DDyM34YICTxe/CVo6pFdqwmtBW3mcTyG2ppi1lM6VLTw6q+V5BJKF4SmANqSDUyJ13HLnTTqeffgZb8+ijUyYefxKIKW53hJo144VFS4LefbPGuE65CKJKapXO5UtUAlwIKTiOtA09PwNg1z1G7brH6O9DgKPf/fa3F118GcEDjNbxvfffd/31V3d9DUIAyHr+SSedlPO0hb3rLw82N8c9txl8x103s4bnlgW78lFEixYtOvTQQ++84867br1/5szXdtxtoKMcwbaiaQOgBYPZ9u7d8867bidjP543f8QOO1rDw4YNeeaZp7TRnptZpTLMkGAh+FfX/frHP/xxtq6uoaFBCEFEqyZsEHBdnvfBgu2G7bTN4G1bFqx0FchGZMhRiq02ho888sjFCxcMHrpdGDLQsO+4g8FQjqh4BleSBqYS2xeNjieeLEkR8OpefvG5kbvuEwE2zEM4hx80dtarL+aUROzCVZ2P2rh8egQegjCAhSCyYKhsNhd1LbEBTDDtALYavOPUZ17eceyuAnCkYOv+4+4HQkCJzLZDh4/aoa8Bsg05ABDEBnAi07ryxZdecaCMEscee3SSjxyEjqVIAgAFxUK9K/IWF116OSOZScqk3a4Xr7766ksvveT7vpTyU4L9rheu65566qlaa1R8RVaBAQ0JIAMAEm63OyfdX993uIgQSMq6fvt77/3rxTc1FFTuv796SkBoWqUDBk95ZAoASHe3vUb37uZwZOF03KWyLzInxhY1ar/9Ru81ah3cyqjcF7FT9R38z2WTGF03LavYkT/FrNzJL8d0RFJI2dyxHZ4uVb8BKjuEMevy38uLwOPKlwW2pSjfzGQ4KjHbD955s0e9mxXIAArOQ4+/3EpcMFyKk9fEdvI8s8nC75ApJmNJsw4rb5MJWAdsQ44KUb6ZwjyzYYqeffJxBaFkTqnuXrZnzBwxRUxxZ5+2MAyTYoqlFcwrX5h2nwsAYsy4iUXmla0hM7e0rAzDMLRUjOJ8Pq+jYOmCeR6gkO3RY0iguRAzETGVmNuZ29kW2QSWAuY4CFYwm6t/eoXrKgDnfudb5RgGZLW11mprLTMHMZdCE8cxGV0qFLcfOqJ3U89iPs/MRhvbKTSHNvFKHbY2NfbOZHoXgiQKSBI8hawOdFRktlZHzOb631znZhub+oxqDTiMWYeWyTDFbImJNlIUkpTNEEr+GctsdcBR4VeXXagAeAKZRojcH269p0TMEXFkNs170skHdA17aM155uZS+wfdlRDIHjLxwqV6DT5tpKmwhG0xDuLIckusw8TRlvUBo3cDILO9/ueGO5i5UIqZjaWAma2NmJcvmTuthwsFF36vlz9YGlcrWOnnKpE+ePq0Z5946Y1i4jJlTdnpaj1pbGyUUq4WP/YzUV9f/7e//c1aa7Tp5A1cwTAHzAEzc8RUYhuUHWOZg1I72+C+P/2+EQAah+10EDEHHe5oltkaEzAHB+89IisAr+f5P/ptHLEtldjEbE0SD4WYyViOC4XF8yfdPzko30X6VJ82Kg8VEXNIEw/eQwmg+6D32lkz6zAq72I1W01kDJe3agdumAyxtuWNarZNweajaetYy1bRdrAEJ7K74NiyVJBOHBnpuJ4rkKQqNlp45ZdSA1jTDCllc4NAEokZFGEYe66SbCCUdtwYcBi+6Ehig3LAXAEIL5cDA9KHlkOGjLzqskt/cNlVrouV2mgQC7CCYAligFkm0SmEA1hr2BrHd4jLsT5l2chpIR0AYIbjecoFAKMBjNt37PGH7f/wY89ohHHgLG0pdOtez0ADYCtadK7xAsllckD7C48/ngPawMefelp7hB5NPoBu3boB0gKO5yrPBXSfbXoN69f9vcUtzfmV//uPyWeddlSGheKKoYSTXIxgxJmMC5SmPjpFWyBTN3rfA0o6dpWAcABINpAOQXouJBSREGBHqbH77PPkU09lMlmAhUwyN1fnoLFy6ZJvf6etULr1vkcdD0QQUinpAgXpQJIHslIAJjpmwqHnXXrpmEMPCF1kABElxmEBwZCpYfQLTNlhS0lAGyWF+72fXDNtxrMPPT7DZBzVp9+BRxxqBMjhDU/3vq6sTdkGQ5IcV7HV7flWIcAMRifzHzMLFiLbDYDy2Ejja/YoFsppXfDO9BmvAYqkf8iEiQTUuS5gpfBDw77D0PmXpv2rpGGhG/sMGDq4DwPMVoAgZeIEGkXadV1HYq+x4wBEQah8F4AVgkWnCEW1CvE1XdXdd9/94osv9ujRIwzDcoaGjcGXv/xlKSWtwVlQAG65S3YgHAgkqWHBlOEYYen6P/6hHYDTeOIZZ0cAxdp13aQjFtBKGlPMPz9rTiQFYnHMEUcSa0daCGapCMoCiqCUhKqr61t34sQBFmQRCQgJb/Ul+augJVwlXMexDJQCYwBAKlVzBAlRXvnauQTB4DV0ZRu/g9t8hLZOoacrPwXbUonZOH4dWTLWZrKeBtpD67oSZLOey5EVnkrHhi0YL+uxjlAs1Xfv+c9XZu65x+5J5DDfFxVhX3Z8EBIQkEnYNHnE4QdfcNlVVgOAhdZABrAG8ESicidAsw5jev/12WP3Hh2ZuBq4QzoVz7SkyyxbTAEAyQpwEU8cf9jjjz0TgQDhOa4AdFeOw5wcy4AxjzzwkOMJqbO7j9pVqU4JDZPjiEhKhXxbxlcCAEVvv/e+Lhcky24UFWcKkVxZEMyePRssEMa7jNnXdX2GASdJIzTYau2wQqlY7NFYx5Yc1+3Rs2dTU5OUEkRYxZsYQPPyP//pDqDxwEP3A6AAASY2QtiKvVNCCgjRp08v6YoDDvsSKTBDubKceiZdh/DFpjqwl0ql+lwOBAg+duKEBx6fASleffXVvr3qFCBETYLgjUwSAm2tElu5psXQSHhKCUetKXiPBBwIImElyPMzsBGiZQ/dfw+UgMj23X5Ej95ZLscNkwA8RwgArvfolClJsxmz1z6Sy5Oa6rTTgLO+G1qbD0RdVlKpmPGSjGAOizVV5tM44ogjDj74YMdxmHkjurXFcfwpf+04TWLNrPYobKAQLVv25pw5AOA5J5xyKjMyjmLUXp2dOX26AQAfnjd8++G+D8RxYhsWIAeSCVFshRCOI4XScu3PtwNWgEAcagGw50sJmah+Oiqwgb6DG5fNRWhLkl1UkorURBxVdQ0wRVj91ltzFixe0W/Q4P4Dh+TqfVZQygk0sm5ZYlt15V7K5oxMmqIABLQOFdP0F18ywIhh23tAKaa6OlkVrgB0tLxOsgc1NNU3OrAiW9TxkMH9k+mYcpKWXpbF6oQbiODuu+9q7NabhawIZ9W+oJpmZ/W+Uw4YMIAAhtdzwLb1rsgA2pjIXfN6LR29NXthnvz67luNHTUcADFiAQ8SoOSqg1Kczfk6jN+bt8ICUN52gwdWVMgS7ACUePeLRDwSeHXGjOa2ACqbHTRiu237oRL+SsCAI1i0tUTd+vRobKgDYLR2XLetrW3QwEGQgmsC51ava9bbH7THQMZTAkpAgEChhOEkqlWyvIBhtF60aAkVzDFHHuwn98ytDIJiNY/BlC8SVEn76PgKHCEO35z1yn+f90MCbrvjziFb1zmABy0Er0OI6c9el66R1eDVLDMKxop8oW0dNQBEJJnheXfeebcVDhzvhAkTGj0Ik6jZRYcrVhA89vhLJAFyjj3mKAFITjoVx2hDHLqOGzNnlJ/JIjScydUBBGsYTFxWV60XQRAkCdGFEFEUrf2AdWNd5b/Va+v7Tz/9ZHMBUGrwTiP79nOVgBTSdupT1cMPTyYLQGw/dmxjDwCAU8cMwVaKUvKrchQDlqDICkEsJMFRa+9nyBMK4GIQuYDJZj0PAIhIYRPEWvsMbF49ZmIVreSIFYCguK3l2PETsrluY8eOPfbYo/fcZcf+Pbv169Prljv+YpNRTlaimm5JCdxSKgpXAphix1MPPfSQgnQzfgA01lVfbIFqt1ubPCD5WtDy5ubQoFXb3n2H7DR0SA4gC7ey1ihJTkq2kPWcx554cuh2w9eYBlGUcySyAKSo5EuUc+d+GAMQ3vY77OI7SkJL0rRmpfnbs96ILNhrHLX3uIyDDABL5VQKnCQ4Ntk6DwL/eODhAkBQTl39aScfnwFksmw2kZk6ZrGAtU8/+ZSvAOUeeuTRRSAEEhuvEAJsYczgIUOWLi1EUSLkkRC84OP5I7bbLgmOstrqUbloyVILIMxPvn9yMh+1AEsXcBkOQzJEvlhiqYqB3nGPnZqyrleNUyokZK2rQ8oXFwJDWQhuXrbwgIMP0Swu/dnPJ0w4VFp40Ao12utNcfK1k8yCHED22aoJ0C0rV6zjK6u1hrWIojdmvxMbA8jjjjmCDUQ5xQKiKNQUAnbF4uWLmxOdujtm9B5OTRhux3Fcqea8886Jx50wfPjwb3zjG0GxACA2DECANsx2nM1mE1nNGOMoZ2NtG1KVCo8++mhWANIdPmI7CFhGsqah9um//PIrbAAShx11ZN6iWOJEJSk40d/bH/3gkuHDhx95xBGvzXwZwmXhAc7apJxK9lG2gIkiLR3hOJ6UIMCYjWY73lhseqFtLWHg1xEJZIBMUhozojiyVJg2fVqmz4DlAd5478N8EOdbVnCYv/by86Pmld/8yjk77LTd8uVhogFnMIhBqci2JSEJkKCMC4TFKY8+1q3HVt18KYEoWZ3NAJXXxHeS2IB8oSXWJQhn9jvvFgBG9uRTTncAIHaqfYSAABSEtGHQuuy99+Y2dO8lJIQQsdFC1QhGSWKACslnsgQh3pg9RwFQmTPP/i/lCLBxJbk1Nk8hhDEmme+y1g9PnhIzNKl99j9AWCiKPcHgGDYGLEJCpCEsuPTjq68D4DRsdettd/TLomzKBROYWHAiFXFZaHvmyadYClh90CGHaIAAJYQUwmoNpf45aZKSzoC+9XUZiWS6TPzII1P+57r/Qc2q1Rpo5x2GZwEg+toZpzzw4OOxlFrmitbV8BieEKqkTV1DXWiwyy57vfnKG73qPS+JO5VIrELWLHRN+SLiAApWIGZrtI0OPHx8e4ADDx9/yQ8u9QAlrWKAmCGYxUYbqmrGozAMARWEwU1/+j/f94cOGdHeVuJq6pKyy4MQwgVUXX3T1lv3M6DWtuX5Qmc5kgGGEKLqTSYgBJQQgqz95P33l+QBSChnxxFDc07Fl0/A8x2JGFR6/IlnBGDhbTtipxHbbaUULEMIJYQQgh974umddx89duzYa6/56V//9MeB2/RfmtdaKAiV+K1ugHkzcaUVQjiOoxy1UTappBSSu+4xPh1C0Pbww4/GDAh1zDFH9fIAwHVdZmIYhgFztHzl22/PSWSsU046zlFwc4n3B4MsIhrUf9tnXnrp5j/f1L74/X1Gj7lvypMx3DgyAm7HM+28VfogBjEEUfvKxUuXh4YbGhp6+GAgW5+pZN0TWHN8NFELOrb1fjDrwiZZ3lDLRktT3ZH0miyHYWnh4o8g8JNf/KpEHFTDFNsi69anJ9/puoBCt347Nxe5RByRLScq3qC1Nin/YdjKSh1mtszFaPkHvf1c317bzG8Lm5k1c749KmdoXy0leanUHsX5SLdZ23bYAaMkAKf3ghXaMpXXNnF5uVY5HrdZ9s70J4TMjD3w2FJo8vk8ry3fQBRFzMxaj9hmax9y62F7FJkNE8Xtxua7zASQFHjE2JFNOUB2f2TaXF0yXGyPw0IYFVi3MZU4zHPQ3r78g3322hEAnG53/vP5Ziqvf0uCjVtrNWnDMVPMNuS4wCs/HNQNANCj98wVYTtziTliag9KzIZpxZBe2ROOO90yF0PS1rI1rDXHzBGxrl3nWt0CjpeO3mFrB/DcHJz67v0Gn/nN826+++55yxZGbJJFvCFxwZJmbo/zEceajaHqiipbWeqbruf+IhMwF5iLp51+IoC+Ww/O63II+4gNkWGbrNTbeD12p/GIjC22tC5uaPSVUr5X9/G8hdVRJtmNLBMZ4hJz+5nH7J8BUDdgzgqOahM81JZpDVNsODQcG23YhDOm3tXkAMg2Dty5zVSC9msmy8RxqbSIuf2k8fsBgKw78azvFHQ5L0oQFFkXly74UPm5fz72FJFhjo8+dD/fdS6+6tclTtazh0RJepaOratsK6vdhq5Wd37WW0tkraXVWPuRNuDSJ0MboAA49VNf+6DAXCImIk2RpsjaiE3w7OR7sgDge90HLWVuYQ6YyTKHIVs9dvSYU045JWZmNo/fc1MPD90HjGhNyo+iTo+1stnagBIUsW6Nls7tkYF0Mvsee04LcynJ3ZDsp4ltOXvFWnJQdH6FNjqbXtMmqDKlrs6qV51h1/xONVv595qiktKMocj3syeffPbJJ59+6UXfc4FMopc1IaQH4XzpsPHf+dppHqF18ZLvnPcTK2AEGUksif/zo7CkrI3EG8YmM0xLgHnpmWdbo1JbbJavbM4AYYxczoOoKONqDgSQyWYcCc/x3nj9taeenknAeRedv3VPp0ZPjmp2dwCAfejBe5jo4wULpaN837fGfspsMol7FMfxn/78lzmfLNSQ1/38agEYgoZSkoEY3KkVWLAQQgeFmW++rS0a+/fbb+xQJ6OQybq+63sqCR0Jyv/9rzf06Tv0xZdnH33i6UvaWyYetW9GJPFJteisSeaKpm3++3OL7ZAuGhrq6iQvXN6+YMGCj+d9sHJF8+NPPHHolw5b2hKc/dWvW4YlcpLVakkOrmS6uGovQYBk4U9+/FkAsS7BRC2LP7r1xuu/dvaZ2/bdeqv+/Y8/8fT7HpjKAp4UhThocOsdaIlICCKZPDsQaE2rzFK+EDBgNILSn2688Y7b74Gz1VMz5tQ78GBLUZsFW6GMUAzFm0Yly0xCyG5NPQ4//HBr7bXXXjtgQH9UV50n6nNAsAQcsBwzZrQUQFRYsGAhgDV6SlR6HEsWyotjrSTgZnv32spXELDlvkUAQDbrg8OZr87KCAF444+emOQLUUnIMRmdecrEI447acxBBwjBxRWLPnh3tmC7eHlzWHN+8R9jQFp/HVuVjtwHw4YNsYC1MIaSET/5w+Qpk3N1PqS/xx57NCQrxgAjKYyW33P7LS/MePvPd92lGYB+8tnnizHCoFjKJ4cmMZRW2wB0KF4JNli65JNSCKnc/Q88gFDTnwqsh9ZstVNsZDaJKNiJznN0WuWbWrl1ldl8x1c1aOZIh63tzUsV1JHjT3h/3rIV7VEYWSKiqMQ2NmGRdXHB7Gk+UJcbgOzAZuZW5oBjzaFhk2raNncsc8S2HMrIaC4t/sFXT/LdDJzGs757Ucicj5JpMjNbWwm3xpXXzNgis7W2ZZddts062G7I0HbDbYmyljRzkmY0USixZcvRkv13Ggi4kN1uu+sBshyFNgxXDdVUPUuiZls4f0FjfQOAE084NbLcFlCgKbZROZMgRUkcOMMcRslx8ZszppXXE8iGo0//1iGHHX3UIYccdegBRx+637jRO+88rF89MKin+/OrrlzwyRJiLjC3lbMSUlBqTaLHJZo2zTFxyLbEuv2GKy+uLzd3F3AhXbjKzbgA/GwGQNaVnyxcmWTKK2vaeJX5Yu0tLAePIhsF7W1fPfO/XMeXjrdqv+U19B+y45wFS0vlw4qWi4a16YiYGNkvjqZtk027/+NZPaZmBWM5an/mgbscACJz31Ozi5yEuQoiDqr62mjDMo+udsM7dfvEzBzbqBS3h3Frkv/TRKaLQsqxIGPm9pen3uoBEI033fNUUA4EWelnOjRtxNYQx4ZNe6HIzK8//5AHwOm5+77HBsbEupSEXjNMxCVbmPfuK480CEgIyN5vfhwmwclC5vYgXPTuLAG8+0mzYWYKp0/5Rz3gSPzqr5MKSRk2JKJaNdvnq2nrkrUfmWja6uEAUI1z27iVuRBwHISWAqI8mzzr/OBeDT4Ar9fl1/yvYTaU9M+aOR7Up8f3r/hdgTnSMcetA3pmm7LO4cd9uRwAc803ouNGUcDRoumTb/dcAb/pnidnFpnDpCO0XEk/um6atk3Mv2EhgiRjALY6AidWYQEwWAMW1RUCBLYEE8MmYnXnBEIdyjcHgOPLOa9MA+zUxyZvv+vuK4va96TWWjgOAOllId1thg7p34QoXIB4xdRnp2tAI/HcFJ9hNvCfTmcdZjWn0+dXoU1GshrIAhCAl3n0X09GOoYxt/zhD3PenlPvCQClYkFHURAWk+Uoy1cusyaK4kCbEAjGjz9qzux5ubr6555/vkHBF2BmiCTCBdW8gNK2RvM+XCw8B8KcdebX4hBg6fsuuKxUIzLa2tja2LBleI7iOBi7z/9n77vj7KrKtZ+1djllZjKpBEJIINJ7B+kt9F5EpAoqItwPUS4iiqIogly93ouiiKJYQIr0q0gAkY70XkNo6WXKKbus8nx/rH3OnGkhyczAMMnzO79k5szea++99lrvetZbd+gslzbdaOM//PGaUCLvW0/AFwEQgiEoXTpzA9CTaVkB4p7b/mIAyOLuRx264+7b7bLbbrvstseuu+622657bLrp5kmsEmCdtTf+4hfOm7zmRAMUgQKQAyREvtACKSBBKYQQPqyAVIjhy7/ec48WIheMu/4v/6dsqkyq0ySKIkU+99zzAMZOnDB+QnNdCaCVAVD3H3X+oKSoRAkgjdE61QCElPmW5t/+4XdRVHnwgfu/du45O+/y6ULR0U4iLc155+2dd941TRFbAEUg7+avyGoShRLBJy0WajnR4B1lRW+TwoiH7f5JgdT9rHQExnpR26GHf1bDO/+SH++9y8bSQAhABAG8gPAIudyp/gHUymSlCZk5j2oLTQUgSpM01U4FYgWCIMwFLWAKKC9oqK5WRxa2RMBss/WmPgAmj/7rQbd6aWsbNTVZATl4zqet2FQEMG2jDZsCCB3Fi9s8z9PwtLGgSdIOAUhhDtzvABIWHDt57Ulr5Qi46FIvzP3lzgc33WiLddcc4wGotl19xf9ooNA6/phjDlRACpNKQSvE8vvKd3PBGiSIfrAMp0og2HSjjfJAk+91LGxLIiCuBpJWp0IreLzwjNPnLCophEiTAw46WCt4KfIKMkVl7oL2zvTUU09qAkLoh/5+z9zFUWcUHHPsZyMgAij7nWxugBGAkLD810MPpzYPv7jzNpvkgVxWRpRALcisQWDZfj5DjqHlhJZxqTOqdnaWltCmutRpOzuTSmdSaU8rS9JyeyVKyrGqJLoapyqJVFRO46pKoj7peY0RKzJ5/p+3FbMnKLzwXpt1GymT0qTakiYll2z36m8snwAAIABJREFUqbEAEBb/5693LiGXmGrCyKwkO/sMZkRu8Z2CKnUbZKs6Zj7dCgC59bfdfeqn1s/lgjvuuCOOY/fgSRqRNkkrtpZee0nb3O132BLAmLEts+e879rs2hc27KicIujJu+8eLwWE3OOQw4DAk83vvD2HZEdHqeuWao5z1toXXnihubk59IOdd/x0pdLZ2H7XExhFqoSMyFLsBveSg7dbXwLhqDWe+WBBBxlbUhmqhCoiLZlceck3C4DAqN/9/m+G7EwrjaPZ5eDWtJqaTLVtIztVOs/lPG9u+dScBdTG3Ummb0613nOv3U/6/PGGsWKcqb4TTUWSylLVdpnu/rXSURRFUaWeSt5arXViTKYNiePqqy8+d/Kxh+cz2Rb+/Jq/1IuRuB9WInR3oDGN368Ugqie0d+5aVUyvTCTNF6oyvM2njwVwPTDjkvJSqKNMdp2aTWs6dIeLR8sGaU0ViVRqjVJTZZ1VFLlSlolyVTrONJMDTVprFa0aU2j190ulL22hGxj9a1dN5kEBJtsv19CtmWvMKvqYWzDqTTGacus1mr+cYfs2SpaA4x6/c13szO0IrVh2+brjppUxOhAAuH+R5+52LJKxpZVMiJdtn+S1BUufGtaCEAcc/LpJXKxrlQYxUyMplVs7Ktl0bQNLxhFxg/c+KdRQDFo+ub3r8g8i5OEJqUtX3LmcWsHaAI8v1WO/dQ7bUyd6KxaVhNaltsqiZtVqnzo9ltK5FtGr7tQMyIXVlVs++kK64Sm+2vE9L2Dd9kMXus62+1Xd5Jv0BhqazPp1aef70fW50NK2rqLKZNQx9QxjXOR1ta5VnZ/TkMqwzhV5WpMGlpFm9AmpDL1dTopM+n46hc+FwLfuvhyt3LGcexIG42miRnN2WTyGAAIxvzpwYfmk2VqPZKXjB426E/UpF1OODqV0hUgUc/PuD4HFMdOmt1JRT1+QjOArbfe8uabb85OcPJUJbPfe+O8c78K5IHiPvsd1lZytjtWKpUGF9pscpraJS7++nnNwMZbbEby1befKTQDwKGH7f/www9rRZ3SpGSqaZO3nn/qc0cfBpmDzJ95znlx6ua+qVQq3fchhkbRKldgq5qQiWbn7DVC+MiHrZMXkSWyoxpVy5WkszMuVTpKZZJkx9aTxxdEC8TYdkV250CN8oVUurqYLD330K0A4PtrbrxbJ7s7UJNRFI0ZM+YXv/rfhOXUBWEYMlGv/fupn/786iWKqn68Vta4Elw0pLW6NsQyVmKtTrWuDTl11/XXhIAIC7sfcryzJa2k6OGV3JvAjeSZyhpvc+WLkhqBq5CLjz9sb6Cw1ga7ljOvGc363qY7aVtuE551HgMJaWl0kiTKmAp1W1ImbWoqNboVt7cvSRU7OtKG7UT39de496XIEs3cKy4+V8IT4fi3F1XaHcurOV/UdArMli0nFcikukB1zt1krWlj/NbVx09x+73F7YsvuPgivygO23e79VdvygMCLVf+4R/tZNVmy1xbWcUxTcJqtcq47Q+Xf2ecAPKjb33wKU2WVDlhpBgZk1itGo2knxzSVl+wXM1B87XTvwAAfvMfr7s9rihTSf/v9jvWGt284WgctfP6ASDzrTsddFKFTOo1C+OEZLVcSUgay7Z54wBg1DGnfqODLJFlZSrlqNvleqyV2eCqsPTK6i0ARv3nJde48eHWgsbP0unaR0Pghjy57oy/3/Wvhx4cM26CsSYvjCCM8N3HwgdAGlgtanrspkJ+6tSpm26+xTpTpqJmSgWAujkM8MImWPXfV1/z31f/CRARkQLGGAQSsKAGsGBe28wP2oAcrLfdJptpExe9/Ei0EzbC1lLY+a7kEbNkxCMQXTkABH76i1/nPDz06INNefjwFi7o/NGlP7jgm985+uijAQQyP3r0aKOSjlKbM2Z8ap3NfnPN7/bYY5tqQmUoPeTz+QY1fi17Ru0Sv/r11Snw7yf+XUW84TobLFg464tfPOOmG+6+++570sTmc6OKubxW5c6oGgDSw97TD/zlVb9eb+qalSiRoO/LQqHQ00wgAFEP1degevLRh9tTiLCww047hwBpcnnpW+nZnIWrWGOhktGtTekHi4Hcq6+9tc2m6/bzcmUUVfNCAOrBe2e05FFKuOe+e/Ue/ySnTp06fd99havEApcihJ/9zLEb77X/F3xYQAhIl9FABgBuveP2KVM/tdUWm4qsk+jasdaQohJbYU1zMTzoiMMPO+BPN/39/koUj1AT/bKhR24IaAhp6pVw+iqPMeJQn0zO8TEF9E8uuuivt99XGDvtoccfhEGlWm1uzsEmED0lllyxseNBGAGtb731r+tssNG0DTYs5HJ+mAcsrYaUDz/4wHEnnjBv/kJqfPmMs/7rip/Uzstu2C1PUtSzC/qw/gEHHXzehf8VpUuee+b5/ad/Whl6Rodhtoxmvj+w2b9WW2Mt/bBl3EtvvXreV8/79W//tPa0Sc3NxXJcHb/G1JtuvP2AnbecMHaKDJqouOO223jM8hJFyoxu8jOXIKOQa/rNH66vELnRY3faZRsCzX5Os2aL65n7+hMDuvwgQsISUv7kV1fvtOfeF3zne6ec/JlTLD1jU+izTznhZ1f+4MA9dlcAhNll111dzhS6nEv0oONCUyFVVWvUX675fQoE+ZYTTjpxFFABfdpc04dm1teAvf+ee0slQMqjjjrcopaZfBhiaLhgHWaPXbavpxN23i45DxAB5CgEY4EcENYLM0gg58Gv/X70UZ959PEn6m0ltc1appwzEU1kawHP1ro9bKSWzGZ5yQ+/8Y0QIdBy2OfOSGp7vXTIyO/wgGXUxrjdxqUFixbf/fDTI9ka1aBNPP/r595y401pmiaqW3KAGff+40eXXnzw4ftvvtWmG266xe57HfzjH/9q5ptzrTZUispQ0WpjtXFodJ7t2mgbHnvQEW8890qk05RKsWJYMrZibOXuf9zxta+f9emdttt0s40333Lrgw478po/3TBnweKk0sm4TKtpjdXKVWR32oIGLVfX7tyahKp02TfPapEAgh9e8UeSsU2ybbSiUbVn7nh3WpNb01qfeGVmhSzHCWtO1qYBJKlKbHv9sE+vl/cBv/CbOx9Y0EvTpmmt1ZppxGrZlKJKlZrP/OP+MbKwqKSdpSbLraITspS2z2kZO/Znv7rGzbjeSJIkS3eSlC8574wmgZ0OPK6tZmj+JOz+BxNpmiYq7eoWm1JVHrj3HwvKOqoPMDuCe8WQEVkhE5I6JS216bjzb392g/jJZ1/KjspmgzLd9RTL0C99q09UNWViogVzcwJXX3dDm60LBkWa/7vj74C45Z8Pa/L0Uz/jA1/97qUxWdYslUrOFqSduow0mRRVZJXxkq0/NRnAUSecsUQzISvliEY7Q5Ci1Uyty7Zj03LHQmZq6Vqqmyqjkp09b3ZVRbFmtVq95NtfKwJCNK+97g6LOhkbZws2mdIu64bKB68/7dyBzvz2JZ10NeZjRVsL67FDXaR8sNBTCBjtlPfKmEqSxsaSjONqtdy5ZMmixfPnMapSV5e89nChxiKendWuSKVpFY12Qi8hq2SV0cI9NtpwtdyYtdb79LyIEdPuvkE9x4m12ijnDJNQL/7qyQeP8bHulruUMznZU802TDRtQ07ayJg66uyokrzgP89oCtGSD4Dc6Glbv7qYFXJxKY1T5YSaSqIXn3785uv+sN/eu9fekdxtn/07U8Zk2VKR7VWV1JyZaCJnD80WIRVRlViep+e/2yqbPDF29Jobd2haTaqM8w3vIb3cMMakaUrSakUVkTFZff7Jh6UfIjd+QcqeIY4jBtaQ9UBHh97vVhkbGUYkY2PLESsxdUprEpoKVeKoW0/S5owyjq/ZlDphbG1sNVk1cZwmaZqmKk5VbEySpCVtKrUUaYyzm0ipI6qIKqqTth6ksGagcVIlJpP9dtwsBCBaH3lpjntCxYpiZHSdtKk5Lz3UAoQoQIx9v71cdiuK0iSNMVrVnsSoRJdtspCVWWs3QyBAbtyL7y8pscHcaa2mdaRNMS2ZSmfcSVometsNtjz2iBNiy5SMLRPLxJI6oV6cLnoXYeHp199pbKfbcxlNWq00aS4853QJ/Nevr29f6UibsVpZrUgqq6zVzmJn0/Ihe+4wuhhefd0dC5WjAibzSBpxjqckG0ibIlkpJ2mq3/vgtabRHsLwf676LUlVjV0cJrNA7wa71YqTNuPm1eknfr5QaGknS3QmzgpNpW3ObHij/vHwi24v8bPLvgVgzHrbfEBGWfR0Sps6+5uuuc9md6KqN/zy8jE+CqPXmldlbJimjnYkhiahUow04yxFYtJOFS1Y0ulmedIgi1PjNjbRZmtPbA6FzE24+PLfKefpanRXvGxGGPX/XHweAMjiO4urCUnT8dwz/zr/kosXWZf0jS4D4iePtNGQOk7KizuXLCxV2smObCIoMqGpUlfI6k/O/7LjrBvusHuFrFg6rpVYKlrFKK7OoZ0z64UHmgEgd8lP/9BhSLaRi758+lmLFsXdL96DVinaTluet3rBK3jelX+4caFeyUmbqrDmIn31ry7P+yiGHrzm479+2Xyy1Mcp2Xr2zvvv5fN5V8usZcz4NxfGlZpnjPMVIA1tQl11Yc81v4eUpQ9O2Hc3IAdMePqV9zUzPwo14lJ5OrrWAPXav/95ypHTQwDwmqZuMVeNQNLW9QZr7giVKKnEkTGqx74qSSOtk1TFpXJHtdqZ6nKqy3HSmaqqZZp9rO7NPBzPz5J+2ISW1CxVKlWVpJo6pU6pVSYfrbVRFFUqlTiO68yszp+0TrROGkmbo0pdmgRDsqLa3h3jwwOaJm2SOLnN1NiMtFlFoxIy+c1PL/IBYMzoCRunZGQTZQzZFQbhGJuxUVUtopn/0iO3ewDQsv6W+zp22+sxraZ1/KEct9N03HfbTYB4+c2Fbo1Rpk7aIqbzHrjtWsB/6o05/ZI2kiqijcm0dfR4v3lCe8qKoR5iQTac0PWUqaqStExTVf3fKy73gNESzT5uvOexUpcQG8GkjU5/5tZgy7JhacrUyYB3yn+c6/5Gq5kqporWqXRNdtZASJtJGC2c9/rL8CccfvLXS2RJJyRV51wmc876wvGf2mp3R3dIu8t2WwH+mM32WUhmQUN9kTbtdmbULM9eZ3To5Vf79fX3pmRnZ7lG2pKEUZKRtpimOvPZh6aMHwXRlJuw3pyYnWS5oquliGSpo41p9V9/vc5xkdzodeZ2UmeWEXdBla2EmkwWrjchBOR2O+xDktRM3j/4kB3X22OPuaTjjvoTqmmzKa066siDAEB61854bBHZoY02FdpOsp3JHJbendKEFgkg/+c7HnCpybXJUn5EtKQyyTymb/30u2fmkcv7k9+dr0gyefOZB69rHjV+calOgbt9aoMtomq7/epfAGK1tdbvsIxJ1ZdD20pD2phQJ1TWVKu7fXqzmhW08OcZz5bIDkNFaqW10lpZrXQcV63VTk36yvP/LmYlucPV1t+hw7VoTM3qZ2gVTUyjXHYcqhJt5w/P/0oBmDhhvZdfX2Rdyi5Fpkz1SFsztNL33HPPpZde+v3vf//A/fYfnfPGS7QAHuDnm/yJmzpz2AhD9zlf/8/WiEvXlOkitUaTqVbt1naQqTGJptZM9YeQNpKJE9UkXRhaf9muS+0dNJo0Oo0TpWPtrIpGK90PaauLEUMuee6hW31ACG+H6Ud2ktVSYqplYyNlE7f/NkqTPGq/nZs8AK3rb7mvu6kkLZF85OEnnnn6pbqxwNiKZifZefG3zsgDQOtpZ343iY1LQdebtGnazrhMGydts1sCsfeBx1Zs9txuOxuT1kRM53zttCMgwp9dc4PqxzxqtaJVVKX/vuyHsjD28p9faz8SQTacYEjzzttv/OS/LvnRpd/70ldOnbDamFwIAeQknHPNjf98ppTNzRHfK6YWOloil+yx1/YIm6ZtsmPJhZKmMVVE53ewgqSNfZG2iOmStca2Aq0zXlhQJlVWZKGT8RwAt97/TJslTbzovdek9OGP+dw3fzqPzBLo25RGa5tpAOsfkqqznazcdPXPAG/t9bZxZT+stbQpqRWjhFFqS2SVpnODNZpHeYAcBYz789/+3U4uaqtYa6uxsxNXt1tnUpMAIK76w+0dmrUontSp/OqkbdbT944C/KD5N9f+lYklacrv5JvwjxdefNdwodNUfvJIm4mjklHRhRecG3jwcz4gdjj0cx3k4jiJk07aDrKNXHzFpd+UgIS/3a6HlcjFlSQ2WdRFQiaZII6o39llqykCTXvtezxJrSPyvWMO2OLgw4+p2hph6EXaLK01FarS7htuABR+es1fq2R73K7ZB2NbaUibVWRKllmZP2lss/RDoEWOnzanU0c140v3M7S1WpGWKdWCPbaa6vlAYRy8NX/yy5tJpqqa7eltSpsmicqGqY2oF55/9kleS2GbPaZXE8YxI7KsDEldZaK0HbJ+/FiglZ4wYUKxmCU/2X/3nee+9K9LvnZiUQIyF6y+2SKOQE1bf7CNCTUap0xXeth69gHHXLS1umYitLZ7hFpdsmQ/9Yz46w/ZIf25fHXxJSaZUll30M654uIzW3IAvCt+9TtnIYnjamoiZZUyVJpLOpIkSXbfdr0mD0DLnoecqi2tancLzbjWyeecdRHJNIqznRJ1qsu77rx5Ux5B2PqPex+z1lqT1B9Z02Y0lExVTMYvP//UxPETAPHUc7NU5vCWWG2UYUwaG9HM3W3ztYAQhdWq3QdWmuo4jtM0Ja1R0YP3zwg8cexnT67nK83KAWWRuSObwhnSXPitb9T9hidNWu2qK3/2xvP/GhVAAvCL19z16KIub42R2g+syX9NVsnSt879UrEp74+b9l6VZctI61RrGl3jGo39sHTVY7fxo5Iojauk7Vyy0H3TvmjeOmuu5of5UdO2nWdYdaeYmLo8f+aLhx20b4diZ0JGi//rovMgiiis8fh7C5eQVTfhXdIfxR5LPUnS0iZUpS3WWa3Jw3W33lshy2nNo5pW2SRRHWT5rdceGZ1zkRchsMZr75Q7UpaNe06r0+qlF14w2g9zfnHfA44opTUDE7VhZBgZZ1UypOFLj9w5NgcAb7zfnmqSPP1LJ2+6xUZRVo+Ouod5dIjLKK0Y6t1Y2w8boyLSbrvlJsV8CAQQxe9edkXqLNTUTBeR0YJ3X8oJBGEr/PEly4qlMsaahLWH1dTalIxZTJY23HB1iPDyK35D0qadM196xAfmtpfLLqmH7fWhIVPa+L4bb5TA1I13XUySVDbpk7HVU358vBjyighGJaZzAdW8RS8+OMpDvnk88muuu+NBCWmMcXurbutljbTRxjRzvnbSgQCQHw9/6pY7HpqSTjuSOQ2YlGQSG+pUlxd9/SvHAzjhP87qIMtplmi+Lga0rSWwHkFYsmRJR0cHSZO6JN9zfvyNU/LeSk7a2Bdp63lwo7apT9LW49wuGrdsS2zvNrtsiDal7qh5B6TJwpe2WrvJJXK89o9/TnW2DUm1c4hjYli1JPmLy78nASC/xS4HR1FkVbs2Cy790bfHNK8Zd9bvSxld0Uo//sSjLc0+gDAozp+3WOvEMq3XhzAuezj5wZzZd95169GHTZcAEGy59Z4qU3bE1JU6aVOMGL3XDLSOXm29TXfwg+abb76FZJJ0ZfOIoihN0zPPPBPAF77wpcb+r7PklYS0kXrO7LdLlcWkotG0Sbp4ZhEuF/So3/7f44u6udiOyH5gtlOKO8nkruuv8QF44UMvzymRVU2tllKcZtlIW5ZS0WZfmpQmvfPWm4v5MF8swMuf9s3L5mkmZJYHSsfO7b2qLUlb+mCTddYAihvseoSrLJK6IgfGUlsqS9W1W+v+htLZLzxcAApjJs6NMiWcMSZVsaZO0hJZXjD3+ebQhVsEP/npn0kqsjOJEiapqTz2+EMAAG+ddTeNbT0Vik2pNCPNJCus7Che6b3VWyGCplfeWVBNedH3Lxaev2DR4oy12G6MbZiTNt1F2hSpo9Li7bfcyBMAcrvv+5nYyRIV2aRNV+cwWrDROmsWwpzMjbvz/mdLllVLYwx14orW0FjaNIrbyDJZ+tIZn4PAf195paF58aVnPR9XXHmFrecb6k3ajCKVaZ+/zhpTgmDCP594u1yvgrAykzadpra0hOn8P/z4myEQNo1DcfIXzr88tl3Bbt2WN5tapoqWrNLO++rJBwNAfiwwfq31dk5J5UibSWmqNDENqS1pvnji0fC939xwU0KT0ijrrl5lbZXS1mkURg6cQdBaa4xRsWJcJjsu/MpReQ/wVjrSNvzRRdpMTLPkF//zfZHPA14eCIHQg6gFWntB7to//tltaZxXWeQWjSQ66uCDUWiFX/jFL3753FOPfelLn/U9vPjsG0xZ6Uho7BGHHwDAd8tFLaVPLleQHoSE8CF8CE8KT0rfE15XeoVcKAFce+2tdGEeOqGO3M4qJo1Jfv+LH7T6ePqZF6qWXz/3fHfWoYcefs45X7/8xz85//wLpu9zACDCoHjH7X+rVrKhF0WR44s1D8IRT9pYU+tqYyPjXM5tMu/NJ/PdSVtlBAd3ZzBMK9TlD157tgAAwS9+d4N1gfx66dnXll3TVqduZtabrx171OEekAv8sNgCr/jQyx/ETqetDXXCJGFibaxJm+r2px66tZgDipMv+PEfoppVMskGfy3pWZ+3YRWZXnLB1yBx7oXfyXT4homODV1oZ6eO545vwcmfOZI1V1ttaU1EVt57+xXhSaCw7uY7LSwlilxUqlgypUmpUipN5TZXTsdP3fbsv+9vGTMe8FafPHXtaeu+P3sO2Y2ofRJJmzURqc858wuFXFBOmZBlxSS1pCYrjOYcc+AuOSAMivc99FiVrNSC2a02NDbzibIpmVhbIlUULThg312kh9WmrB2Mn/Tjq34XNV68V7pEmohc+J2vnwrZ/NXv/KIUMY5IMk1t4yZzpSNtRmkypV183F5b5QF4RWDc1bf+K7asO2s3kDZT9xCnrVIt2G2rdTxfiPw4YPTEqTuWU+edYKkimjJ1lUZRpScedZAEHnnlrXmakSmnujNyrM2qXT+94823z2ivUCtnPBppiOM4qiYkGZfJJd896+gaadtiFWkbVuimaTPt1Y7ZL8+c1RbZ9vYlUWlhuWNuHLcZoxYuXvL6mzNJNpI2l106LVWpee8jj554xhlrrLnW+utOO/mkY0odC0mnQaBOdHvb/Cf//dAbr706+/13Z818fe7s999///0PPvjg7VlvvfHGa6+/9frrb73++ltvvv7Wm2+/885rb77x5ptvvvvurPffe/u9d2bN/WC+cu40ilTKmsSRtsTSmuTnl3771z/7IV2pBjJJ1LW//+Nhhx0xdeo6hULLeutudOrnv3zfjEfqkq1enlXryDJeeUhb5ttHrRlrpi4HysKZT2ekLViZSBvTaPHsCa1FKeX/O++7UX3R/JA3v8ykzei4Wrnl5hsPO/BAD2htyuc8tLS0AN7q625ecTkHXMINo6lt7HJUs0q2n3LCAQDgT5w53/EJXSWrmRKAGS1Y2g1wn722A/D8i+/EaTaUM2W8LZPxlT+9OASu/f0fWbOEJJX26/74WwDw85/9wlfLZEqW0tQ5baQZbzO67iOfGU1jMiL56muzXn19ZpYWRX/iSZvLPbxk3qych133ONAdpi2Nima9/sK0NUcBmLLWtNffeD/SmmRMk9TiRuv+UbSOlsfWVMiEurRg/vuPPPdiRC7UbFeODFezWJ96nxhLS9rk6Qdvb8lj690OyGIiawRhpSZtJJlW2Pb2eq0u+1qIUeu83cHY0kUeWGsbxbfWidZR9mPbrFYfQiIojgMmHvXZr1U1UxORtEnVxh1MO1ht23/XnYIgWFSOy5kcTAyzEtxRZ8mHeHXmBwmpFVU8ovzyu1yk3NOqiGpujbQVVpG2YQxDE9fLWGkq01AXu74iKUPnDe328Vm9GsWYjGmUizvUyprElYrPPiaxJrIuT3qWhU4Zk9TTxfUwDdddbml0lj8gy0/ezeePJqWqUlc1bcKeFpmuTy3OIvtYa602JlmpSBvJ2gtMDJUTcfPefLLFqTWDUdfc9fjiRvPocFpcBwhrM6luraVOqEq7bb8lgF2nH+rUJEZTK5suJ4wxpVJp9uzZb7311pNPPPaX6/503rlfO/LwQz81Za2cFFm/1j6ADMeuec5Fl3emrKZGZ6TNZoorkmy31VmjxgDAPoedmpJMEqoodV5ipm4FUo3zpeEh62+ufdpaY3zk5851qrKaJU6n1FWSP/7BhQBGtRQO33/3vXbaCgC8/MQpG9z/6LMNNbO6+fTVZoUmawWyaIyLS+gxThq/6W3768OF6+NEb9IWRx0qbifTN154qtmTeeFtscmmB+63f3PrKAQeQu+y/70iNkxcUJdVdQdfpamprcvNlpG2ep4U7XYEaS0E18m37CZq/eAEY5IoIL/G5PWz+0tJrS1TxbS/QISPqfO6YcgrIlhtJOyCD95v70DOg7Zi9bXWGj0KrgKC6JXKOTWmEOahO6GTv956W0WDgIojEU44/fQv+R6stpAQYQhIQJ563OFpmnZUYiUlAOEqXNdSRD/19EtAbsK41qzwqxcM9fN+PBD9JFZfKfKtfxIhKUJCCMAVqJeQFv1NRgoK4aoVCCCrXyzdr8JljBcphIQNAYASopbL2/0sdPZzP7ACADxKkNk1QAhphXUjSNBmSeHd3S/lyfoYb7KravpKAvesK+XUE0J4vudWF+GFF5xzzoP/fg5h00MP/ivvh4JaEsRyJ5v3PA+AY07ZNwJCABbGxcsLgPVy3UzL0Wc/d3whALUCcla4CYNEIwSkqcz429862wAE55xztiQQhnPefGPDPY985a2XJuQAwgqLrEBC74cEBHQa+6Gc+d674/Ljp64xZpFOjERRgBbCLawm+c8LLjjr6+d5pwaTAAAgAElEQVT86NIfvPrc86MnrHbxDy877qQvTp08xhI0RnqeRb3Yu6yPGNl4IUBDCkiZFbOXI2Zc5fJ50ABmvc02L3UsvuWmW2667Tbt+Z899rhjTzppp513UgZGZK/AswBAQAMQ8KABW+sq13UeAJstetYDXIkXQlrR8z0KT+okXXPtdQurTX75jdeRAHGCog9aJw5l1uxwxJCTtlSrfOjPmHGvAvzQR6T3mb5PnToJIYQQjQK9EBaiqFTICeRz//2zK5qKKKcwOtlpx0/vtNMGqUJY88JJq/GZXzn9+r/+bfr0vY8+8oj3580LQwlhKaygLPj5ajl59vm31ttws3GtzYCyIrDiEzHeG0sorcIIhAW0EOhaEvyarGmQ3IDIKFrDoBXWApISrgISQCfEhQUsRAhkVXe6D/RGDtebPGUjjcJdmvVfCdlwLhrERT+7gcbG3W3TlZzxQXY1tbLD9uwKYUfSfDfaAPB87+c///mPfnZl6HvKJLQpAECKLpqyPG2arrM8ARKGAOFLBNJLtWnJ5ZIkqVUHC5rXWHOT9dZQaVIIfZJZYSmBaqKsMMVi4bdX/x5A8+Rpu+2+uVX0qovuvOUWa2UhD8sPH6m08MO8SbUXhovbZ2+9xfarT/rUe/NmZicKAfo2rcpCUMgH37noIh8tAHS9SlUlDXKpEfBkYLPvesBNPQ+ABiQQZFUKw6WRttqGq+c3ww8EBQkBUDGJhMwd+dkT9z/ymOKolvoxVVdTTCAwGQ+myBizhBbQPcs0NoglCUvQur/WRJv711pLy/ETVyuOGjPn3Tc9QCkEzTnHiYXRnrAQw3eXOdSkzfpCQebvmfHPfIAq80A0fd89I4MWAZEVFq2LMAtAaWWSGH7u7ltuefbFt5WENRg7ae07/u/6phCJcVUOtbHq5FNPufGG2wTw9xn3WSktAWEhaq9NwwsK1Nxhxx2z8ogSgjCEN1zH8UBBDZjaXpQk7SpN2/CGyHRskID5UGWUsFZYyZrOzKnTGvVnwoK1BaCmjev6Zqm0gIAV8KSta4ms6H58l9RzO1HZc2xljK3XluOTPAjpaiMOcqO9fv3E9k+f8HzP8bbW1tbPn/bFcWNay+VyEAR+mAPgUcMaQ0GxrDzV7e1ZC7ryBIWQQggpRalUGjVqlFIql8tFlbI7Xolw94OO9oEw6LnABUGQ9yQ65jzz1NNe07jjjj8pD/ieRT73ne99/2e/vy1NUQwAwApIZv/2AEkD4ZFeWAQVwuCZ116+55FXJWu7JQIQUvoAqlEUGy0CL/DzOlI+hS9FIecZITwZLnUnI+v/1essf9KHSl1DI+B1draPGtUM4RFWFIqqmhZHtSillFLFYjGxpDXS97P+Z3Z6gzqyQbKxSwHZpScjZc2M0HtXdMcdd+y2224JYIEgRFpJwlwuM34AjQ0ONww1adN+TiJedN/Djy9RCGUrEGy/7eaeh7gaE8LzhefBWB0GQaLKVutCmAtamxe99fYJx38hIYD85E23evThR3NNiC2EMKA01tx99z233HZH13in7cMCYw2gpq410Xn/uu+E6OP9fSjSNA2CwTatUgAgQUIIVKNqc3OxYQ5/uL6t7+Wk0TS2CsMSdUNjnUzZvqZi4+6CkgA9QQgIa1DTZEEQoBUB6oYTIQCvcc8tmXOHQtTUd659AN0XDVtzD7K1hrJ/a8o41JsWRM/hJxpa7Saea7K2b1vTQGCtTZLE2c4GHUII3/cdb6tb5dDfvFs2yNr60bXmiBGogHR+LyeeeOKJJ57Y198HUbPYZ+9Jp5cTwgOss+Y4a2ouBwkJwZaWFrO4tP/e030AiC84/1vhmLGnfWbfikYgIITwaiO9N28TQnhgrdXA8YS9d9naPZWbfyAgc4AtFsbkQANBy3zRzVNYWIHsxH46ossAlVU7Fw3h5fVDev7Mnt8PG+pRFyz1GxrVOg40oJC5PCyDfEDS93036XwJX3q0VlJm7j8CQsATgCBYK1leZ1fsuopb+5zU8Rp4W+2PAlLssttujVI3LOayn7L3N2w6rheG3DwKU571xuuLS1qiWE7UpGkbjB3TQhsX8jnfwgVVa6XCQOaCEIEPyKcffHT6XvuVjUGu5ZBjj/vztVeJzGsrBUAhJOQhBx+yYMGCluYWAFK6RbDbjrVarRaLxVKl2tJURO2FLfPWLoOT1EKIIAgGf8Mtsn/iSEsPzc3F2h9WxDxKUtAAzlPSfdG40KzC8ILs59f+F/CGv7hlvpsppK/R0mVXXdahSyyX7erDll4x5GokKWWhUPjw4waGIZ9Imflu5OyyPkxaDvWTWq/rErI+cyQQAlAKheL/+/p5n/+Pi2+49rf77zjt3K/+x0233f3aW7MEkJfLZBlreEDp3BI8wHNmI9H4eNJCCsCHs9TVZbskhIWQ2bX67JA+N0UjBNZ56QkvUy4440HDARk/FaKBvgKOtGU7QC+zrTWqJ/pSY8vuclU0XMer/+WT07tDT9os/3nffTGQ83zB4KSTTgo90SryTkYJ6ymli8VWIAH8Rx994MQTPr9oYWensdt/eu+fXXXldput71kICQ1dt9dISGV166hxhEqVkYAnraUFZT2yIcgVADQ1FbWFL1GXusslLdzMdKne4zgerC7JQAlgtYnj83k/Vdpoev5ABk7v5V4OX7P8KgwBrOjyKpO2wZKwDKgxQIm+zuqfnX3YBmOIReHs2bPHjBkTBEG1Wh30xltbW+s/D6adVPTwaRuJmrbh6T1MQIA0DMYc/8Wzm0ZP+cZ/nrfW5D8dfOhhCxcvUYaJ0rnAz/YtdGvUishQ28urtDdq1GGw+Gv9PntM1sbRNdx2Bb2YWn9oPKbxhSynNal3gNBw7p3+MMSkjYAMH33oMR9IrSX1jPvu8/LR7PdeH1tsTeMoiipJGlWrpfYli59+8vFqgmLruGNP/uKZZ5697rpr5wL4AFUVAtL3u5E2YyGtgC+kFUJKCAoBIeokmjSVSDcVclLW1GwrJEbK5fLYsWO11kOw2xYAdth+p8efeHjwTZmrbKOrsGyQy8YahqGr/LHHHnv77bcnSRKGYZqmg97+008/vfXWWwOwxkpvBZ5+uHXYyoua1czAWhGGibEW9pjPHnvM0Ucg36StBWCt8Tx/sBj0xzRfRuAGYMRgsFwsBo+01ewgPQdrqXzvP+7TAGjgB6PHjplx9z+ErXhaaJ2maax0MuudmdQ6irH6pLHX3nTvtttvWfSRB2AtYIXnO9uBZNej5oLMAu17AQALCghn3HbD1vM8z/NMYzTbCsXhe57Yd9+9Z858e9SoUbYxUH0QWJEEsPf0fQAoa8JcYBoMWoMw4Qd8h2maOtMwahFhgwWnEHVvc8WGb2dn56hRowbxloYJ+ntnInNn8YAuw3r9vz5cupbn5S/12CFZeqqVuNiUp11uj4XGZWm33XZ56ql/T5w4kaQd8GrlxqEVXT+vNXUKAAN2N3gtL3qd2hUaUj9gue8+SZJcLpOBw21ufrRuGf3dIRuPoPODohCW8GTeM5ABrESuCSZ1i0jo+UIi1UZKr6GV5XsWNtxP9lZEgyN9H+Gdy/Asy3ILggBsr/ZFt3fx8Vte+lOZ9Xv8gG85633R85vevy3bsF2+GxJClMvl5ubmnq0MgMANqqatt/8KsXjOgmoVxXxYjfVm2217ww1Xj84h1WnBD2FpqIzVVqukWj7uuGPu/edj++2++96HHH7rzdfmZS28ANKKTJg2XOkjghDirrv+pnTqe761DcKRA/d9loDwfGiDMAzMYHn/cDCtokEQuIitQWsRACBt5sewwqtCU7EpSZIeHuIjALZhOZf17+CiahrztHUTQ7XZ0XCu7dvQKbt1uK2fa/t9D118oncYXc87Xbbv3WYAy+9j2h3izDP/48wzzxx0WukemKDT3tEOimG0V5qPbpDLG63me1mERJIksj9f9hXCAOcmgCRJBvF+Bguilkk+oCWVJX0Ter5NTSJ9beFbAxl4SZI0kjbZ8NaWpUNs79EounIj9IbX7a33/R67z7vex7hZ3DWXu1+88eRPnup3EEjbIMi3RixfHwohwjBMksT3/MastMND09YP7psxIwG0BUS4zXbb5nMoVTRsDI++BHx4Uga5Qj4f/u3Ou7bdfoenX3jrvluvP+Cgxf/6+12e8OH2D7Auu+iAdrwrBM/34jjK54sAROMIGrgcpwBQqZow9KQHY4znD69JFYahtVZKKaUcCm40kIHr+Z7nD0nM4HDF0pQxtb/1Iny9X9pyd/ky7YeXq0UhRBj6aap9z5cr/g6ZJHEuVwCsMXqA2wo3FKWQVtSUTFIUwpzJkjcsf9amxhTHXZcZ0E02wvM9p2zL5XLDbW7m8/lBvJPBhtsc5+pZ0EJ0Swvg+8XhJYVXYURgEAMDB9U8ikapZAEN6Bn33SeB1FoE3i67fjpN0dLkC92klfF8T/oeAKMi2tTPBZf84KIjjj65mqpHHvjXn27728mHHQgJS2nhIno+UoO962Lf833PB6y1Ft1k2eAI4KaiZwij6fnecFBf94AxRkr50EMPPf/884Pe+FlnnbViJwohXnvtteuuu27KlCmlUmlw7+rjxcqgacvn8+3t7ZPXnHzCCcf31+KyIJfLOWE4kEYcnEi1sK4fXJvFXJ52AI0vu/JshWSJM48++uijzzzzzIqcv1Ss8NwEcMUVVwzinQwmrIU1XuhpUFj6Rvq+FxvlHKatsZ4XJEniNfgvigaXmGXRaPahacvy56y4pq2btqm304uwALhK09YP2D3fR68LDK2mTSklpVy4cOHZZ589fvz45Tq3PwyJps1oetJARog6Hnzq0cQHtEaLv/vu2+ZCGEthTS4fAnBaNGsR5PKw5Y023jBOjVcYZVL++pprTzj8QFfmQ0jZ6MbTCNmrE7vyEK44y3P8DKjZufuKHVvxuJNuU4sAUI8bZc3GPFhRLRyY1TUIgiRJ9ttvP621+6Zeg28AN5Vh4sSJxxxzzIrF5c2YMeOyyy5zBqzBNQ99vPiQju0lw5a3HtDSu7qRFA4d6pl0TjxpGUnbUh6SQggpPSkbu65h0V0Wk1Y/hxiwbtFoPGYgCl4LuDQQtmYxlX3q5JYNSZLss88+bm66XWU9388A7hEY2Nw8++yzB3j1oQNJz898KiSltdYLAteBJKWU1tr+HnkQrOS9EmIP5E05ktFt9Pbez61CAz4a+dbtirX3u8suu+y3337u5wEOpMEnbRKAL5CmCNm+aP7sBZH2ACEmTllz9QmjJGmtCqWXpZQFAAS5HGwMKV0dRiiNsOXtme+TsABFv6U1P9noe+zU5/PH/8BGG2NNLpf7y1/+8uqrr6JuRXJlXgcswqZPnw6AZLlcbmlp+dDjGzFx4kQpZUtLi5Ry0F3uPkbYpXvU91rd2b+KrO8GhgFpq1arnudtuOGGURR9BFnWhgds17vr8QZWaBoN57kZhuEArz500FqHQVhfSq21vu+7TrPWep7ngpH7PPcTQNpWlUBcKlxfLZtGbXBQKBRIVqvVsWPHum8GPoqGxqet1ikPPPBAYtwQlXvtNV0A1MaXXpbBvKvvJCAA++qrL/dsiZByEPzHhiUaHVQl0D24YRg8sud7wgoAhx566CGHHIIhSL9ktPF8b3lXBQDHHHPMEUcc4XmeE7gjJhzhwx5kwKRtqfmjPjKR797a4IY9rlQYtnOTZBRFw3Y+aq3DsIG0Gev5ntspGWN83x9a0tZrhg2ko/pSq60ibUvDR987tHQDzGlzB2WSDglpU4kKcgFsdM899zTnUCEM5N577E0N6XlBfdloTDIpfaTpYw8/AgC+D6OnTVvHEn7fHsAjSfMmSTaWCho+qBtHXIVd96XloJlHSebz+RUzwSilnGx1oRLDNJnn8mN5H4TLefyytD/k6eprhrylM8hVWAp6z02XkGiwzKMrPDcHkivkI4ATGvXbc8FMbgvh/g3DcCjdLXqa1gfeUd3PH3aLyLDCx9A7EgC01ksxuy8vhoS0+X4AKKTpPffcW0rg5SRy+T322MP3XeGJTK3U7Rxjkaa33HILAFgCWH/9DQAIASGcYxZdZRIDU8u849ArAUuvnhmYTxg/85nPvPzyyz3ztHU7aDmuQJIClnRnnXbaaaeffnpWysRrDLZwj/FxTsL6IJNSsp5qH4PMkFastfpueCQ5tC0Dej/sYKo0PpqurJvwBjiQbrzxxh/96Eee79GyW/Lbhvm4bM7jXfB8r1IuK62nTJny15tvbmpqXt5MXY3oIwObACgJ6ab6ChVqAfqam867dzjMzf4oY10zRJKW/YrToYErq+v2CUsZFUvR3A8FEx22KslVGEQMbuHyQSJtPdLVkcKYD2a9PX8Rch6s9NdYa+1xY4q1Y0lCQNR9Z2isMKZaqc6fuwQArIHvTZy0GkWPltnV/ke1k5s7b+4tt946yOJFuCXLA3DVr359+ulfpmUYCAPTnbSt0BqalWMbtJtdhVUYnrj+L9c/99wLg9+uAIiZM2e+8sorO2y3vTLWWuOvoNjNKEBftb0zDMNSE0OKjKxLeAOK6FiFVVhJMfgVEVDbkTz88CME/BAVY/bbb7+gLqoosoNrIfFaqSAXvPzyyx1leICRAPW0adOEqHlGCwBITQrA8/yPUvc+aY1JCxbML5VKS/F1WC5Nm7XWgHVr4+TJk4WwFrpUSYtNTSsciPBhzuOrfB1WYaTh1ltunfXOLGus7/tKqYa/DCh61GiTqnTixInjxo7T1gaeZ1akhlUf11nqn0bm3LRZ+IWUWcZNDCz6dhVWYWXH4JG2blZKo5Pk7n/cpwEJYZQ5YN/9qhFaGwPFMpInAStgIcKnnnpSCngCVkhqOWnCGgDqtXcl9d/v/nsqwwMOODAHKz8qMSeEN37c+PHjxsdx3H/SyBW/kyiNCC2l19LU7DJ51ojqirXng34mH1c0j8AqDD5qW5oRuzh/PBDrrP2pLG8GG2MalpO0NfxcrVabi8XG11SJoqZCwQxUdy2JWl1LYQW0APzaoFgJRkVDH1tjQVphaWvRyhKZSO8zz9nyoVbnXQKN0dZWZPU3pJTCZV9zY2NwHYp7pWpy0eArlw/HMIR1blkUkhBdmbX6zY5Sy88nWa/GRNEVdiqctPl43urASFujHLO6GlfzxWYpJREbqvsfeTIBPAbNLcU999q9mIcEolg15QPR7VxprbZR26KOTk0UiqFNpTZizXGTrCa81Fj6IDx7/GeO2njPw3c94EAB5qAEfbB7mrZB82ZrPC+bhr0Y2+C8sDDM0xLSdjG2zENlWVmb0UZ6ktbYVPtgGBRdMlaZ9wMf1RgUie9TCCkQkpAeUhWHwfJlLR+2nsVLxzJY0l0QPgBAyB4890Pf8VLarzfVmOW2IV+u+2rAbsifzPeynOhjPpJsyKxra7VZB9p6sVisB3W775sKBfRMgrpUNHjbuuKqURSFPpQMqxmxrIRS5wDGtExT31qBZr8QxzHJFciBMtzGgBBdWrV6viYhLIQfVToKTU0SwoK+8IUQlSjxIDxfeoEE5DL2c90VrF7ITgjhYpIAVCIVhK5Kr4csV6UMpIiVLgTCAjRMk2q+2GwhnIY27D4MVqxLLVCJVT4fsGtllQaagA8pGu55gBdahWVBmqZZsBqsB6+KNBSh0ghFbRcthAB78zZBq1XVzzXD0qQauZCAMcz7IlUIAwAGIBAMViDwcmGQNG3CAmmxOW+UgZSe770/f+7see2hHygt1t/gU02FIC9ggZZ8zTXEdqnJw0IBlGtNWVsDQisyB/iBzEsijSMJKwtN7778slL2l1f+3AcADbhd2kgIPxNSDGTxdgFQwg9lvgAjPpg931mRVcfizgRT8wByhNJaBz6sJonlZWyfUPSOch1cEbn09p0TOonapqxOL9wPq4xEIxfCUiUiLLjhUMgV4aNUVgSaCqgqU+pcIoBcIMDQ+llqPhet+VE67H4EqEdaWEgJW2hqfe3lJ++444411pyaKgJ+qTMKgkB61vO0kKD1lr5XaswhDCCXy6Vp6gq3aK2DIBC+Zw0tHQ2zlFZKLwjk3Hnztt9uu+l77UHA972C34SazgUYNB/gfD4QgLBWSkDLq379y5O+fGoofa7KePuRw3k0kfzNNdecctppEmEl0q0FH9pCWAhZs/X1BAX8XBE2Raz9MJcSb7w964lHn/zgvfcnjh+39567Tl1nIslcmAMQV6N8Pv+Rvl0OBLb2oSENTUrSqGT+7JkH7rerBFqamoXwNtlim3kdpYplQipSm4bTSZKVjiVk3L5oZlMBkIDfDKz1+iySNFE79WKaztEto048+RTDNLLtmp2aVW2pjbtw9hkamH4+gwNN2+dnGU/v6OhwJQqMSqKORXddd/VoCR8QYQHe+C994/JFnUm1WtU6IlW1EpM0xqQqHqz7H85wpe5tA7r/veFtdo1kalIv2wv+sPZJ0hpq97Gk0bQxGZEJl/kVr0J3ZK/MWm2tNka5j+0HK9j6QGa4JanIaql9jk5jq8iEb7365v577y0B3wM8TNt6uweffSVJlI6jqorKOhoy8fWxwfWhpqlPKGtodOnQQ7b3BcKuMIR8tw2MFJCiP8gGeF4t32ct5LN7jJ6ofTxAwMvDb26dMDkmFalcdxutLRMyGiSBbsiEVtmEtswknjxqytimtTpK5aqKNFd8TK7CiiFJEq00yWLz6HET1m3rYDWhMYamTNtJW6aNrdX9yQ2bVBmVXnjkwTETxgPIj5ogvaIE8r4AcOH3vk9SG8ZxldT9tbMsWN7nynTLK8r46hPE/r+vnHH11VdrK3K5oBoldAxWSkBaSwQBnCpbqSeeeHr7bTfvdjoUhIGJZ9z/z333OxJ+Hhzz3R/84LyzTyl4ifDFNlttnXgtTz75eMEzsJ2UOYMQCNCdJw+Nhbk/z7DBuVp/vjLLaCY47bTTfve73wEQZOgLpZkHUkAB8MfCEIgFYveWm5tGLVy4MF8IR1aiu36RDfF+jRE2038JKEACHmxm0Fq2qpEf0n6mWQMBIyEAjwpCQwgLCfirPF1WCI3m0UYzWd+ay+XVWg1C+TgCQs9889kNNtjeEABChApaAoStO1vAD1EteaSRgMD1191wxKGHuXKiIwPuSVmzMwsiiVShaG68/hennHyuUQgCKOWvPmnt8y/8hjYmUbE2Rqcx+s9ZX08CV88XM2/ePJJtbW2LFi164YUXFi1aFEURAM+vpTCkBAJQWqNFWHzgsSd23nr9ONF5T3gSFNLUfNpWeDI2CAGXxUVBqcljJikxfs68WV4RWsVe0PVmR5ImdfjDjb/xrVMTpd+d+3ZTS5iTMaABCfqE3/vNC1pIAt7/XnbZNy+86KvfvuCb3/p2k+fMevzj7371+VO/IqRcffV1H3vi32tMbo3Taj4srHChheUdD4MWiLDHXnuWKuXVVpskBJpbAqUTMAcR0ApltRcEAFSSGm233HIzEsLRusyXSIACfn769P1Lixd+67vf/cutd3zvm6c99MB148at/tqLbx90+CkXfv88D4BNYXNCNrkCHrVwhA+bbo29udzzZWgX1uXwlekLRx55ZLVanTJlyuTJk4v5nA89f87cSNHKXIyc73sbTFur1LFw/vzZbe1tY1onen6glAoCb8STNidJM19jkuR99933ve9975FHHgHgigwGfm6zzbb6xoUX7X3EfjlAJKWmXMtLj/5r5533evqVl9dZbwMhu5aH3u2TlFKSdCVQb7rppl/+8pePPvqoUwmQhLXTp+970fd+uMnW2zblAJUi8H72Pz8/9z8vSNJENlRyG8hjLtfxn/wFo1ZbWLhXPDStDwQCgFh90qQvnfG5luJqEydOmTB+YhzHC+bNSU1KgVJcbR43ZvLkyUUvaF/SNnvunLYlbbvtuttIYmw94DwCPM8D5GeOO2HG3+/64x8fMAoG+r05b22z9U6bbr5xkHcuMxQrWmhIJ2kQhjNnvvnkk4//456/33bHHaVS1WjjS2prfRFqrf/wp+u23fqiMOd7AKwR1B58+yGFQpYJ1lqjIl8ksGK18VOiVLYnsxyF80UOdrlyDKzCoMDC5S+kXfTBC2NXW33q+uvOev99+GEofRgRRXG+6AEGPXMcaujOR+9/6OzzL7rt/scO2nMrC6pUG20KxdyJnz9t64033HHHvRbMeWPrLTd7bd57Miz6RPiR5dlaMcVjhgbzaByVSGWUJklGKm1LVVUrnaY6qiaptqm2carK1Vjb2rnGUlsaTaNpFa2iUSRpVUV1lnTn62+/8eKrbySKiqyQKQ11RJXQOhuW0kwMzYebM2zjrY40OBWrMcYobZPYJrFR2hrGmsrSZFa8xBhFUit30sizxnSD6xCnG9dK33XXXRMnTnTT8vjjj7/hhhvuv//+O++888Jvf3fN1afIfGvz1I0WaJLVaPG743OyCbBJbK1N0/RD2yd51VVXuTgVz/O+/OUv33777Q8//PD1111/1le+3FL4/+x9Z5gcxbn1qarunrS7yhGRM1ggC5BEFEJkLLIAG8MFG5vkCzbG+AN878U2YGOwAYPBATAGYzIGRBKIDAoEkYNIBpTzhpnpUOF8P3pmd1baRRIgQGjOU4+0O9vTXV3d9dapN6pMxt/zoEPbYkfqV6Y963uZbbcbpS1XaFpdyTtdrar4rzK+wvdryIQsWR1XfiNpDckkMbpiN3SOtKSmi51deY+INQW15lHLqu9B3EK2kfM27O/3CFBNodQwa37YYthmrE5H5lOBpDPW6jgd/yRqfezRB/fbaw8AgUAgpJDZhnW2XkoWHWNtaBPaqLIAfQakl47jmCRZ3GX7rYHg0cenh6QmqR0TQ9Opn3V8IajyAqfJ6PUXnwEwbMddLRk7Oktn01fNWGtrpTFtmeHHmw0snH/ZdQscQzJ2NkkSHcXWkDZhac4Zxx3qA1Jkx5/4s2Yycp/2rV319+Hz82lzSVgq6oVs05wAACAASURBVCguF1utaYuixWHUFkVRWI7b2krlKClHSaxNKYyr41mla7XNWVqT2DihKzGOEu00aWg1I9JQ02k6S5c+DW3XetKWRpxZa6MoSpLEauOMLRXDcikqFeM4stbQOZfoKE7CJDGuMkxfu4GogUsprK3c6vjx43O5nJTy+uuvJ2m0sdYmSZIkSbqgvPnWq8g29R+8AcPiDltvCukdcvTxJJMk6XJG1Z6/tbV1+PDhAPr27Ttx4sT0E6aOg0lCGrJ4481/RhCM2W/c0rkze/qelD3PO/+KOmn77PgK368jTVgq6siW22Ja0ppScWEUtoRlbciE8eJoYUxTNqY1jFrail9SP1cTLGktra1K9nQq6jikLtloCVme/fbkPOABChLIbT5s5zayldSr/kq3IyqHtI6OJol0HFodk9YlxVdfmDJ86KYFH342A/S46ZEXLRklukraItrkU+5jXVX7QFprdVy66MJfAPjRGb/SZEwaGscyWa71efo8R7qOT0Kth6p2Sesl//vTLHDW2b+MybaEmrTWOpP6xVpDZxwNHW008/WnGgVG7LrfpGkz2jRDk1hrK8tmXKJeMPvNpyoelNmBH5fXRNLmWNlTpjOT2po2a2NrrdEuihJtK3OiZmbYDq5mXKVZVyyXSSZ0JFvbQhMxbImrw9/BzdJfLfVaTtrakTKA5T+PY20rI0Sj2w/4+g4Eaa12NnY2JvWoUaOEzPYbtGGxHKWKsZTmGm2MNqQmSzZasmje3KZMJpO6SfpNf7jp7rBa97qb84fOxnNnz+7bp7/nN3zr4MOqf7Ktra1GmziOkyRxNqZbau3iiZPukwoFKTLwgN6vzFgc10nbZ8ZX934daY3VJrUIOE3SRtFS60pGO+MqR2i6T8UUvvroIG22QtpsGoSm4xJpGLbQNP/pwnN7yXZlmzr9fy9MUqLjyFR9ZZ1zLl0ZVupZW7esYHM2Kbe5pMi49ednnAQAQdPog76bkG2xo01oyhVl22cIWbE6pg5JvvbqCwD6Dh5SYiXqzjEiW8lWx+RrOQe/2lgmrMiyOGurAU1C5qe/NceQRW07kbYqDaE1d930Zx8QfiNkj9aIoanET5oopg7Z9iHNggE9soAP1f/B5//zRZK2z2ZmFx1Nel5qQvaCLCClykvpSSmVJzIZ35PLl+GTECqNFepoQhRyOYdKidLGhqzKINsYgKnnWof7Wvprta3Ir62mn19XdFc0PQi8aqE9p7z2A76+AwEnJQQiIeXeY3acOnVqU5/1X3n9Ay/ICCmssb7vO+eEFEIKWsB4Uvl9BuRu+8eVPqDhIdtz5M67G4P22LTOoEAiXJuwbTsMG7ZoceuoXfee8O87EsI5J4RoaGiQSvq+7/u+kF5UhJS5vXff/v+d9O2So800ev0HrLtZb8gOF4rPUoWz20C7bvBpR/WriK/u/QpAKKlUKpiEAigzmSYpssoTSqQBL6uQi3FNg0RVOKM2R6GD52XggKBgjX/K2f83ZufhPYAmD4C9/HeXPDH1TQu0xgZI0546QWgBLeBWZqyk6DiKqSuz9HP5WANB429+84crL7vES1pfeuyBBWXkA+EqqTG9VXc3cw4mzTwFOOkF8AAsOXr8OMC79OobCWgDlSY4t4CFoHOi2tDRVvG6X1vEcQyAZBpHsopw7a06pExsHOsEkBYWMDBl2AhB099vuV0gOeaogwTg0aWlidrrCaVvjZGqceC6GqAuK6UkIZAWRTEUBtIhaCgvbhvQr3+gPEjVsqQ5TdO8fFsdMmq1FIxfWXfebnq7XCzHZ75QHWsNtLa+T0h35UXnPPLEC/Dyd/37gZ49IQA6LudvnKZN9wCzz75j+/VuKi4p91133Q3X7yEsfG/5cpMEGIfFbF4ee/hRsxcuBAp33HVnq0a2a4Ins409UW5Blqf+4Pt//POtRYdRo3a03cck1/H1RU0Z+7VOcKX325FHXvhZOH3Hv+/YaN2NkghNWb81Kh15xBGvvfragJ4eACEBB1tNb7hcHeqVBmU2X3DGQgannnxK85yPfvP7Kx64/4HDxu/fIIIAMZgSwlXOm+hSHgrAlsHkzn9e//Y7c9fZfJtDDtzdA7SDkARrEmnXsSKMHz9+6tSpPXv2XMXvdUhT6XsNhUKpXJ41a9arr74yYMBA54xSAWBgAc8fsevo4Vtu/Nrrz998252HH3YYOlVS6TjXHnvsf9pPT7/huluvuurPSsFTcIB1xg+yoAZVvt+AebPnSnpQwZBBQz7bfa8iPm9V5Coe4ZZrdawWrM5Mdl8lRElMRgvff6pPBiLI7bLnUWkKrETTLgdnNHVCG7p4KVk6Yq/RBRUc8v0zZ2qWu34VHRmRxakP3d5bQfiFn5/3+2LC2LFrH7X0n3Izo7lMFm/Ur7eS+d9cc8ciMqyx7n1hg1PHF4e6ZCO5TNI7m1o8q47/SYksP3HPLZlUeeAHyPTafb8TWkOSjIpLNJOQJqSL6VYmOqG7PqR+DkYb0rE0Z4OBPXusv00rWXapEbZMW0xjBlbxvjQZkm3UC8lw3X55AJdfe3MbuSSs3q9JqIs0RbrE0KTN1tiOP9Wgfg3hnIuiCOjOvrGKEJC+mDV3pnY6NmXS0SbUMU1ME9577WVNwMD1Np7TahLjnNHpcmAcNSstqolNSePNDF2UhCStKTFZ+srTD/UAAgRez82X1kY2dG6rA6tJ01bHVxBrxebek4CL/3LVX5pjEMl//eCkjESpjFw1nYIQnXMTSgKiLXZNQT7f0OBsst9eozNedypoZ1lSwv+fc/7XWNCJo48/QUnYGJ7f7X5a5PJwHmS2qalJLWzdZYdhK0j6XkcdX0dUS/Slls9ESA+JHr3/gWeffvIll19d1Amk/8RD91/zlzt+dPLhXqbJQhJawUgAXeXTWklIKdPK0Tps9fM9b7rlXzvvPv7lV+eM+Mbgz6YE8xyMhAP1xLtvnbckzDf2OfTgg60BiHLMnC+EkIBX17StEEKIIAguuOCC559/vnfv3qv47Q5Nm1Aym83GSbx48ZK+ffp6wrOKDhTCgwJJ6crjjjiw8cQfz54378GJDx99yH4UEoCDFDV20oxUsTaeV1H6OoBOANLQwBmp5J///OcQSJD84qyfCfuFptz8bMl1O6FSYPVzOlsdny/WgprUAGCACBCbD+j3/oLQovDiezO/uXEvHUOpSr3fWh8CwTSbLoz0BNx5Pz7t0suvemtB28B+DbJre4mGWzpv1qztNh/RHAnbe735i9/PEYGANRbolO5JiLRglYBwaYHhnYfv8MaM9z9a2tIYSK7Ndawq2Rm/5F7U8WWBpOhYdhLYpbvuMOqlN2aHNiA85RWmTH95+2/0TxyU1AKJRGBIWXU+E92kcevSPYgdSZgdAGejRHO7kaO/f9wJZ/74FIBUhhByRX7Ry6BKE4xEBESjR41+6rn3Dj/2B//4+5UCkIAg/LROFhyqhcnT0uM1nnefzVD+NZ1HtZyk9pmS1Fo756SUSqp2YZsWd+80wh25jtPRlq6a4Vm5EKr0s2OOueRfj2yx3c7Tpzzpq8oW3bKSIFDI6pfT64JgpXKsdeWMF8x5a9qQrXbx8n022GzY2y9N0hqe6vpBitWw6q4NC3kdaw8cEM/9z5uzF4QOErkGIUmkJX67hISQgHQAIT+eM793n769m7LoVhI6SLz4wrS2yIaQgdeQJPAErI67PLpSkI6VKJhZ8xZ9c/sdCh4M3ddO0tZRx8pCCEFUGgD4mXsm3AubZsdoNbptz733XZKkxSF9ByQs0i7re/SpIIVfyOcb33h5+k9/fBJoIJxD12nxVwgiDZDz5r3/4eRpb4Jq3BHfgYAiBCEBJ0AICsnVsXR/fRHXIIqiNBI//YGkUsrzvM7eyasyvEKiGO61z37K2RmvTp/x7gcSMEBrOZHV8IGUDVeZmwEMBIWAEsx4AVDefa9xuWzQ1H/daS9MAuDzCyVSn+O1PkshkDpWN9aSR+Ogy3NmfVwCKHII9eQnnpFAsVwEAEpQ1ob2MC0uJaSEA9zEx58ZtN7Gisb/pPEy/3l/Rgkgsm0Lmj9+r9kQsSkDAGT1Eh0XsgKEADRoF7aUd95tT2F1AC0/51CENHJqDYlvEGlYXUfQVx1rG5wABIXQgGSS7b3uVjff8NdsmnMHScv89773vZMWh4wAD3lblkp2u/FaaUghhHTCWUjlhCI8aaUUqFZAWzWbUzrjJBDccsudBkA2M2bfndB5IXSivUm3ktSNXffErTXzJVsDpRRJay0AKatR+UJQSAfUjMcyOSQc4ASEWH73LSQyPXbd61uNAWRcnDBhggMig0I+qHxRJBCmUpCs4xIOhHAOdsF+O23/7sJw8Da7vfHOSwHAGNLxi3wqa8laXsdaAwvnnJCAEpC46IJfhRrZfEN3hxNpNgEH4ODDv3P2L87LZrNR2NaNbHRIykHgSQXhqSCbufiCC5xFJteUmkSWO7rdOiIp5L7jDhr/ne8oX31+gre6Eaxei+kAfPUEu+v433X+pI61FFVts4TMQYtxRx559OH7CSAQiReYe+7810OPPBUZACKXaxCuJjEHP6WemqRzlAqgBZyFRfsSuCqMzSFdpa1HC+ceum9izpfrD9t+Gcemqt4GACShHJSTctn0Ih27ly66wfZ/HeAqCSnaP1ymVc5mVuFOvnogaW2SNlrjSZEN/FwmyGYDLwggpUNt/hcn4AQhhJTOCRhJOEgN38InvGXzYwgSEiLI9eq/wZABOQ933fXvFg0pkWhXNdnL5bLxSEkoAnRjtx/18JR3v3viqZOnPdLfRy6V5cEXajipk7Y6vk6QyBQ22mQLOggUfT+c+f5LBx1+iAGUJ6REHFlnOzasTD1MqwWjr7zqD+MO2tcSfq4hnRpd7GuDYPDAvr5EVkZJNPvWf/3lnP93voKiEMqDtQARG1pCSAiROkTAisDBu+3mv2+9xQYO0gr5OeybK6I8ARJXFf0WTsMYmOV5m+vcVvDx54oa8upAA3a6UF0GrYUQAgICwodQwgOUhMxec/MdQ3rlQCgkiErHH/PDllaEsYVL4xeWp1ZuhU0Ipv9WmiTJ1HlJUspqWG9V+7t86xJSQAmrhSkjbnl26kuxlXvsvnu6b5M1AgbVUqqV7GxWCCeMjiS4aOnSQw89bMP1191uu+2uu+HmpDIuhKDRUfu9wQE6gSkXS0tnfDBDA4YVX63KzGHNjg0JkKxhGyJ23EKFkCk6mQg6obwZb71x4P57D+7bY8yuu0yZ9kLkYBwAkABk+siMiSEBzwhh3nnnvbkLmxWQdCSYURJM6ZuAoFCOGYjs+EMPKxq8/MKLUYJAQsKRBCSE7yCdgBPpMAZJDJdYSLv7yBGPvTzzyr9fc/llF/VNnwChcnDsvI/oMP6n7+sK39JVQ11g1vF1ggT9PutsuO7ABkXoOFQZ75EJd+dy+e+dcMqECRNb21qFgJKwFtZCdnIUFWBlZ0yIbmaShFWjdxub82GSMKssoC/9/cWD1tnqnHPOm3DvRCkgFXIZkSQWQBRVlpkO9x3A4XOL/alFjVuFq2oCVvydLwc1o1sXQGs70mkhBVQA4T/5xGMFAWcsPIXWxXuM3iOXUQkVUat2+vTKtpTDAahJqPtpFk6m4RA2/uiVlxzghLfJJptUtTqu3QGgclG6josQgZ+//4H7BvTu+947M8496yfKRCeeeOJ+BxyWHguXJqivgRSPT3qkb79+W2+8xe8vv1ZK2FSb1u4Q8fXwkE19yQQUpC+E9LLn/e//bDl0mJTy3J//9OXnpuw1dswfL/9zOakkNU4hCM8P4BKA5//inO2222GDAQOnvDe7wtgq9LaTrCMEIDfYcIMMAOLNt98VtREPFYldEaESCCRUJthpy62mTH95+jvvHHfc95ukMnBI2iDQ1hpK9QnpmVcDgV4tiUTqqOPLgSVj2pbr/3KJByDjA/ByGS+T+itIQG25xdCf/fzcBx6aVCrbUrlSzbqSnsdV23IFUKpIM261/fdxBxeATMaXXlbJPKB8VQA8AX+74SN/fcFFU6a+YMlEU2tqWzln5V8azWSlyq91dXudCsFRk7GlttUS5QltzDhhbKi7zALV6QzthYNXf74o21E1XNNpUq8tmQPrWHm4mNHiS875UXUFVEDuBz/71dyQUVreXVeKf7WX+q5tnWdtR1vmsC5bd9/tspuW1DTUbSzPvf435/oAkH/oxXeWkGVSO5229sRstIaJYWyoHY17dfqLAC6+7BIyZjgnmTtDCcBruPrWB1urFc7ZfnlLxqUtN1wHACBO/OkvQzKO0z9rupiMyWpZTFZ/XbPgSEM6xmRCpsXMLr74IkBMfu5FkrTNd1xzqQDg5d+aubRERpXUmDFNSKtp4pY57wzunYf0oRpuevjpYuVU1Qs4sv2hajKxbzz7UM8AEIXz/ni9JbWlM5bWpbI0LZJp0kcdNo/YfOPBvfo6y5hcbM0S41rDiAwZtgwassmDk6aa2vRsnXIHdvdereAd+wTUSVsdXyfYUqmZjOhad9lxW0gg40sfPXs1NDSkbm1SVN2OvSC/086jpzz/UoW3uZUhbdTliFYzXLjJOg1pAFNW+UGH54QEhJ/JKT8jveBbBx4exzSm47QpaTM1jO3Tkrb28o5pfcuUtNmEOmFsKkyuy3NXL+uWP+dqR/VaddJWR1dwmuWFLM7abYdNswo5H5A+8v1uffTFWtJmzZdM2kgmNmbcyvLcM79ziIKEaPqgxbSQUbekzTE21GXaqFdTn0MOO5IkkyUs/WfWc/dLACK/6/hTy+TS0BltOi7vWF44uzENw/Dz90yaWnLUhowdraWL6cpkXO1Xer+fvq7llwZHW6FZlknrvBmvqUz+5nsmlh3DMKRZcv0lv8gBgLrsb7ctMSxXSJumiW3YSprJD9+T84BsAxoGvLOwLeV/1Y2irSVtJiG1C+e+079BQhSOOOmslFt1Jm2ajMmQLK3T6O05cnj6LrS6ZKkOi46GNOHCOR/OEEHvmYusdl8caatbJ+r4WiGfLzgoLRqfmDz924d/K6O1B7S0FIvFYkNDXkhH2oYeDRCAMJOffXLHHb75h0v/CKBSl3VFhgYvlwGE9RtmfDR31LCNskBitYHN+IHvqzR5iI5Da2Op3AMP3Jsv9HzggSeUqJ4frFZmrFgGu5uB1liS6Q9a6+X+LmKdSEgHSIBAYq3ocH0WqFZ+BJAkCdLsRzSwIaChyzBJohlZsOr/QTINql+mG2kKuvSv7WdLP0+bc672eABRFLX3mSRAsBItYdOb/mKD5OtYMyBk7AQKfZ585MGCQKSBjICLTzjumDiGdZCy4lsgZBeVZ7s9ayeoLtuq9pSpG1zGf+8/HzhkZFOvno0qTc8ml2uAhBIwFrb0t0svWlrSf/7HLQDgEYF8ftqUAIACpJhvQU8kFCTI1GCoX3v91VgD8KGC4dtvUbG9SkJIGAkrrLYAwjB0thq3/mnxuRCwT0CXF3VAImAAn4A1cMXjjxm/2VbD9z9w78giiiKQzzzzjBCA8KIoyigw7aoTcJC+54qLHn10krOAdlttM2xAzwatIVAdQydB0CEd1DQQNJsWy5J85ZVXHZBYC0lWjdqpKzLKS0Ztvfn4Y45/6KnnSCxpCTMCGcVAQAEqyF13443Cz/XrUxVmHX5sqxH1igh1fJ0gHWAhCTjIv1/7tzNOe/kPl13+8GNPNreFxWI5yMgkdqW2IgghLQSE75915pnrDtl4/PgDOlWb7lrupSeWCllCPzv91XtvvPG662+f9MSTJZ0AkD5URunQZrKe8mS5mAjIQw459KVXXh26dVqfzgFpSUIBYOnSpe+//37vnj2NMWkVrDAMlVLGmHw+b4wpFArOuTiO41ij6smTz2YKDbkgk1nSXM41DFp/vSbjECgFWAGkjLC2+0EQWGOVpz7+cOZNf//rvXff9frb7xYTAoCfX2+DTfY/YL+fnX7yRhusn8lk0iM7BlTJtIaEEKK5uXnu3LlNTU1JkpTL5dpxcc4NGDAgiiKSYRjGcez7fhzHmUxGStmrR5PnogVLiut9Y4eeFXcdB7i1rwRnHZ8EB/iFpihqzmZyd0+4YfcDjrVhIvKibeabRxw6/u47b/czULI2UvJLgxACELCutdhG4WUKBSHS1bSLXlEAFkIqOPO/v/i/8d89uakAByOFgFe4/fbbMz4ixy032yinwARQkiJNzGsgzKRJEwEA3iabbdGzRyOQCOkDCgKwFj6UlwN0LpcDEZaZyQqAaWrvVC/zKaqSf5FI3Qzbw3jD2fOfeO7t2x59TjvkJPI9eyBaNOHBJ8oEkGy00foKsIATkFSAhaLMZx577HFDAN52O4zwAeVcJXyFUhISEAKScAJSCJCQqiGfX1B2pVIRgJQd1W0FYJOyS0p77rbLG2/OEg2vbrjFUOmktmGsF2uX+Krgy6B18ZxyjD0OOj4Gsl9ksvTVzazrqGP1oGrjc50+Sn06kop+m2RClpksevfdl//6tyvH7jM6m0uTqgMAFERGwcv6mb6tJRpHQ5eaMrtSWzvSWJbJMpmQxpXKlasn0bRnn/jDpb/dZfdRXrYy71UGwoNS2Uym79ZDR1sydjZmHFPHzibGkNxjzz0BKE/k8hmV6uKkgOiyAJ8AVJqkF4DvpwfI3oOGzW+lJiPSMHGMHBPnzDJdf/755zfYaJNsvjBw8JDzfvXrac+/uHTp0paWlmlTnj37Z2cUMh6AA/bbLyyVTZJ03C7ZWmwzdCSXLFmSy+Vq+tORFSkIAgBpCqU0l1Jt/6WUAPKABMYdfWJb5eRroOdNHasZlrZZt2hG5aSVjE45aVzgId1BSGQv+901YTG1Y9U6fa1q6/7iq3x8meWZ2wzqCfToudlOrWRIGi5rtHXO0DqSjO27zzzZBEx/8515oY5NRMac/8aQIJ1I3hMvvFkki45hRY5pzRLZOuqbm/kA0HjaOb9tJctMDB3TKa5DZxY4Lrz/vlsHDx541VX/IGksDZ1jQpc4Z1bJSFpeDfhkc60lLa1hbBmTmtZecPa5WRGUIpJsbS2S+qkHbvNSSdNz8OIilxZtaBlaJppWG7K1dd4bjSkv9XreNHGaNnSR0U7H1GlhaJcuF2kfHBlFNIuHb74ORK5hna1Tc2f6sIwjXcJw1jYbNSpACQDI5fsAhUoaQQAKyocHKK/w0/Ovbm6vPdpFPdy6T1sddVTQibRVnBU6HHFTL7XE6Fa6NrJMxuWkGOmSMeHz0579n3POaMxXuYcXwO/ztxvu1qShM47GdkvaDEuGbWREa6hJQ+qKZz2p09489exTR3/3yBp+kwfy015+P6KNGcbU2mkyWbRgDrw88r0PPeLIZ5556qMP3yu1tbSVSguXLCDD5599zAMAr9DUd96ilmI5KZaT1jBqDaOPZs2c9tyU/fYZK2R2o232nRez2TB0zjKmi2gNTa2w4KjdxkJk+wwYMv3VNzUZLnNjSYkuOu6YIz0g72defeX1JOWkulbC6ptvujGba/T8hv8599y33nht8dKWtC1dupQ6vOD/zgEA6e+x595xHC9durS1tbVUKpVKpQULFjzy4H2DG5QATjvv0nLF0SSm03XeVkctLG1MHZMRSdLpmdts3lAAskBTtodSvd5+f7FjSto+HWP7HEmbIyO2frhBowJ6Dth2z3LqTL+cp51zhtZQW5K//MkZAxoKmkzIUnExk5Z/XXlBAQDQf4Ot0t1mugGLyZix41JySe9Cyup63Tvp5TIZ01Tmd2LIRCfzPnh/WrprCnL9SmHqPuscI7poVUnb6sDKkDZbcSCL6ewO247aZ+yBJMvlMnUbWT5y3FgAQObw7/3YkktbwtCy5BhVSNvSqY/8y0vJlN/3zSXUjiaKrQu1i2NHbTqTNlZI267f3BTIouf684txKYk6SJtN7rz+siYBAMr3lZ8DFKB8LydV+iEyWeErBWSvve3h+TFjfnGkrW4erWMNRK3bgKgklAyA1rBcyOXTBEakEEIqLwc4Qmj40guUgyS2H7HT9iNGnnny8d/cfoePF0VGAIIPPvHYsccc5KfZPtqzc1SztUnAGiekhVSpGYTSdZRSST0sBBwMIHfdaddddxh5xonf23HXfTLZXFukIDOPPvPs0G03UoAkPCZw5ZtvuBZsuPSaW0789pgcNSwgpIbKZz3oRfM/fE0AQmTH7H1ovldTWqQhzUc6aOCgIQP6P3D3vb36rb/pllvmAihAOCeFgHNQKmkrB4UA0nv+mad23++gctGe/svfnffTU3sWpCU8CUuguomEl4cwf/vb1c7oW2++d8edx3zUusAX8MlAG+X7Udya9dTVl10eaf/D2XPW758BrLbSCgEgcAnY9vb0yZA+VOHY4473PK9Hjx5CiNS/LRNk9hw75rGJDwzdeZ+tvjE0BHxAkoAFU9e2upG0jhQVR0wPAChEz0cemrLVxkPLDlJqK/2hu46ZNfOV/jLNdiFXOtXFyrxg6TEra3J1aZEt67S1kMzlMio1kImuXCsEIGUclk8564xjTj3JA7RL8jkPtNdc+88YCn7/7/7wJwLwQVP1ipLOCGeee/zxlhIcFFRu5MhtPUtPWAtlAOEpBeWJwqB+6yvAWv7yvP/JZ5EAspIIz4mqbv6T7sW51N3vqaeeeuGFF1ZyBFYep5xySjabbWtry+fyta4XKWTln45Yrn/e/I9+AwY4i1zWA0JE4aQnngSAhr4nnfwjCRR831aT4JEAk8mTJ2eVLNr8+iN2a+iFGPClC0BJWgHKzksGAMX2zEtSSimlULSgJCBA4R16zEmHHvNDiLTEGdrrDgpZTRkDKSgIWAEnoFhTbb7TW/T5W03rpK2ONRPtMTQCsTa+74VO53MZASdrqkSLSmnRGrFFQINxsaln31tvvmWXsQcbEErOX7jEpX4SHaVPZO1/5bDs+342m6mkiQXbc6FJATiZdgZAuRTlyhc5nwAAIABJREFUc8HwkSOvuviXPzrrVyLIMEk+nDW7ejIHACrz6/N+udf4k4/+9hiBDpliYaFjKeIJ/77DF0KTo3YdrS0CBScqPm1MZYSDIAavOxgpEXSAlFA+tAka80By6z+uPeq4E4DMtXfef8ShY6VFa9kUct4ynrJOQEJ6mdx11/7t37dPiMLyIYd/d8Kd/xRKKikBZDP54vwFzz3/4o0339+rVybUpawvnchWB8chantu8tMQGUh/5IgdpZRaa5JKdgisAQMHZiU233zz+MtKDlfHGgZhXab/oA3//pdLj/3BT1rLZaiCnr/ookuu//1Zx33ZfUsd1TteZQlX45a1PCSATC6fyeX6AgCEMQi49N33XnzlLYMsgsYTTz1BAYBLc+9XUuc6O33aNAU4mVlno42bGgArhHNKGArpKC2gZCabz7w9450wdEO33bwlRiYD4BO7s8y9OBJUnjryyCPnz5//aYekWyRJ8vOf/zyTySzP2GrQIc8323Kzys8mhmfvvuv2xW0GXtYvNI7cfmOk+3SqipgWFuTTTz8DkYHKjRw5UqV7eFVNP57S6BqxE2sTkEKJbDbbNaOlIH1UcjpbQHYQMsoOHsaKz0pnxrbaUSdtdayxSGUbwbgcW3XzXXfNnz//7J+cmarkZU1NGeWclI4Ugp5Ik+d6WThsv/OYIf0H/Gf+YielSRICFrCyMhWRCpL0KsZceOFvdxg58tCDx3XVlXbXfwfIfD4btrTm8vyv44770VnnSWKZYteEfP/V10uR++ufLvKIDAFKSFAgKxRUDrGc+tyLlj5kbq+xe8juZJ1wW261sQQ8C2ksEQgPcCUk9q6bbzv2+JOBzEVXXftfh46Fg1bwsp6t2frV7Acl4Auhvj1+3A233fP0v+9//uUPdxu2gdba930671cXXRnk+373qP0AxDoRyAJOUKVBWUtnz52z2AIu17/PFpuuT1IKqa2uIW3SQUpPbrrhEK/jimtU3vY6vhDULn3K92Ex7oTjTnn6kUtueCAB0Jj//nHH1Bwtu02DvbpBkeraAIBQrj1ks5YEVO6G1hhaSOFJIeARUJ4HG938r1tjB8hg4603b6r4i7KaYlY4WgXeO+F+B1AG+4/7VmVXSV+5UAAQAaRH4QFio402lR5CjaYMNJbddn4ytNHZbNY5d+edd06fPv0zD82yOOqoo1bpeK21c85TnvKysOGN1/8TgPAzJ574w/Rhe1nfVsmYcK60eNGzU19OmIMUh4zbPwPAwZc+mJaZcIIVQSQICmR8DwSS5mKpDUjDezsgXPdxaJ3xGYJ0PxPqpK2ONRaiQtpyvqQnzj773KHbDvv5T86UpKyk1KjuhoUTzol0kqVGiEhph0BlNtl444/mL3IQTY1NqKlql7IwB0jhkJQQ5C7+/aV/+OMVDt2XfaZItecQyGazEKHXkAuCIEo0VG7dddftOBDy8quvGbbDDj3yoiAgHEFJCStcYtpyigs/nvXhx+UYfs9e/TbZdGAuXZtYuWslJVzKA926Qwb6gCKEpYVTnoQn3n3l1e8ef3JCudu3Dj715KNVqtoDSoRc3lJQgZLZpoMP3uem2+5CNnf3nfeO3Pq0Rt8PS225QuPV197wf7++AABsIqUH+MI5TwphYsDcN3GSVEDQuPseY9piV/ChPFUql3yv6rcrMGvuAkrVkK2W6asnG6pjRYgtMlICGLvHHhfe8AAcnnrmyYG9FZCWMRIUX8666QBDKjoIpJtAxfZSql1AKOmnVjZoa3VsRT5QKMc33PTPIJOLtPzOEYcVfABpYor2iwCQU1542wAgDvjW/i1t6JFHZd9FJ5HAOSOzqSQsF6ECWLQzSVk5xYpuJ52nUsqddtppp512+tTD0h201s669iD0FR7v+36SJNZZBZ+tpWefeVEIwSg55ujvwCI2OqOUoMz6iLWBNDNnzl5UTKtOmV1GfCMAnE0gfQgBUsI5IdtTIQnCEJ4zUF42mwVQLV/WXce+cpLqK9ehOupYNQgnFGHiRfPmH/+Dk1EJV5RA6vIgQYk0D5OoOnjEFEoF+YKLYwAGFtbsu9++qJkPHdX8AASZ16Y8aa371sGHdd8NIWTlGuXQCang56FNEARgAlsaPXo0Krs66YS88s9/O/nU03tls8om6dY65YuBJ8ql5slTXzAAEAzffmSPYNlZKiCkFzQvWtRSbB629RaVT31fZSRo0dayx9i9Q0p42Ttv+kcBlUBPC2QVJKBEpcn2END0Po3tP6B3aIE4ue3WOzI+LHQmZx95dEIxbDn1v38ACyDwZaOFpyAljYCGTSY8MDGBQKL32nf/IJBSSpKFfAGAkEJIQeFNfvHlnr37+qKSpw5pwS+p6iKojlrUemC5qAwdfzB12ndOONPPFG68+75vbj04YOqkKonUXaD2/ZGr9jp1Ucy0theSZHu6RNRmWgCdtY4WTT08TwFi0dz5frU8Ftje2i8hADg4AaFU6p/AeR9//N7784vaguLoww8uVBhbRWcvoWHNc89MDtNCTEF2xxHf6FFAXkFKBS+LoACdQCJJEiUQW2TzyAVIIiNBCZuWU22nbp+A5a2Wq+oa/8lQSgkplFLLfP4JXQqCIAgCUD/9xNNtIUj03XDTDdYb4CkEgYSkICQgGTsbT5r0REYAwlt3000aM/CBgu9Xt+tCQCgIUXkIAkI4Z+H5EGLJokUQDIJApnJKUEgKSSFQk9JPCMiOJtHRBIRo/zlFWuJ2xbkDPwvqErOONRCd5oKD0y899xy069NnQNeSgJLCY7uOLCsQCEgnpZvx7js5vwCl9tlnH1RdSTrJMDrYtkcnPgAy19jkKpf8JImjlLRaI26DNS1tbX62MTdow6FbDenQw1NecvEfDj3kUIBK+e1rjYDzYAsNvSfc/1ACAGLPvfdNCEvW3rJxFmBDQ8PVl17Rr6kJSDvt0Dofru0np582q1kjaDz5x2c1NWTSjLhoX4i66nBFSeB5PRoKEoAn2lqbW0pWwpfS79+n95V/uiLrdxyvAKUUrE4z4k2e9lxoiVzD8O12SMWUsy4Vg5XbFXLX3cacf+FvsxJe1f23rmyrYxmk7ugV6w9tTmhbbhu5+/7zDY794Y+OOHB3qxEokEzdjZzACpf/T4FEx4AgbalcErKy9IZh2LmvgiTAgQMHKcCEcZgmD+v6lKzen0SaEox88803LeDg9V1n3f79ehjXcagAnEv8IDvp8UeFAkRui62+0VSANYgMvDTnGM3shc0HHnjYZpts9O3vHDtnXrOrJHH0JJ2s1Jpfw6cY5aSHH/UBlev1zeEj8ll4afVYQT9NAeLTC5omPfZESEDIcQcfFIAejQcLmOqAd1lbltA6zRPet09fqaQQTDmYSLff1R+/ginu1vCHWkcdBFx85x23QKrmUrkT3xKV5gS0UFoo2z4BW5bClOd8+O7C5kWhDnfdf9911mlI478CwGety5VDXJ7w7zvgZ1qKnQV3BctOIs+DVBLW3XPPPQCcMyf+8MSgQyQIJfjj00/J5TOgAISRsJKKVExLIZcnPfaEAYCe++67v9WAS1Sawa2ySjk45zU2/vDUU/s0KEfoVIEWhJj11g033N3gZ+Dkj35yprWpA0eayfaTZntavmDRgsVZwBNaCZ1KK+vE0G9s98PjjzM6DbcihAHSEDcLpz96+83ZLRrSz/Tqt/GmAySQpkJql3cOEpRbfGObY445RgJMYtn+dOryZ+2F66ZZMG0JUNx3j10Xxd72ex958R9/SyDnwwcEHcXyCraVepc6Vu+qswGWW9KFEKS99tprGxt69Ovdp9TaBqBiSqvCUwqSIDfZcCMfIimFpSh27Wq1ZVrnS0ipIMSzU6cYBziO3GnHHnnQGsmOo5RzQHL/hPsJQMj9DzxIpeUWPNAa2Lbnnnx8yAbbbPjN0XfcctN9t9242SYbzZuvU895AZeG16bbsTV6jj066XEJWCvH7r13JT4XJjVL0BohqMNFUyZPEwBkZuzYPXxBD9X6MV2yeUJKBRBxWC6VQTl4nXUBkIKwRCUHB2rSoXXbuRUH5q4WrNEPtI61GFU2BuFg9NNPPg7fmzFjRq1wrNXEpwuCSb1HHZDPwvMvPP9XoYbI5X530fmpO1slwwdrlFICcOaNNz72M5mZH89EVc3Gjt0zXOfsA0pCZAPkspddfkU+F/RobPjl/5xml537Lg7LzqFUtgAqHSQAN++D9xYsjAjV2LfPOhs0WkBKH1X5IITwUmuv76fWVkUIARO3Iuf95sIL/QBaeNuNHtOnfyHwAalqzDTdIokNwNdefzvwYKxt6tHQmJcaILJCZXwPvg+hKoGygIMzCALo6NmpzzZ4gHN7jN7dl5XFaZnkwE4AkA6Es3FYRj0GoY6u4WDTmZoA5icn/PDFV97tvd4mD068JQskgAKcjZnuBT79NdAxI6oR4O2cEYCnPGfMaT86pZDzl7Q0z54z2znnbKcreqgEFw4a0E8gCXUpjG2lRFsX6PShlAJQb77xNgHAbL/dDgbwlRSEpBSAB6E85dpa3njjP8YCjrvvMbaUIJ+BBIQSS2bP2XXsfnc88ez5vz5r1I7DD9pvTCaTOe9Xv5YCOoqRVnf6WkyyWbM/tgCS0tChwzrYL501WkgA8Yw3pi8qOinzENldRo0UrqKpBEUqsDqSinTYGhxAWpskBuDgQeuIikJVCKT2TdY1bXXU8XnCAVZUajZBGFNqfe21j0B30z+ud6j46CeJoROVRiSRTt0cnILRCfzch6+/dsO/7gs8nHPmGaM2X7dRVq2iAhCQrAQiAG7qM0/HDrpYuuXGfzogjEvWGZK1W/xUQBpX5XLQ/7zqqtffeCeKkr/99aomhcBBgagGKyk/l8nlpUIhr1KnCEgBQcThs5MeT08xcvQoP5+Srco8VYQPiNS/Ag4KJJWAAj0/jxBX/OO++QnipHTIId/KeEjS8KnUFlnJLNKFekPC5TMWpnTvfQ+3GcCg/4AhZQMP8KTsEFvVcgyAD+lTW2TFv++7yxgAOGCvfbLtB1a/kqoVlaDyhJSSQjb17IW63FmrUcsnlnkVJaFAB0T/+NMVl9/8QFE0Tpo0KQ8IIJfqkCShCCmctKj6D3U+v1xO91Y5v4MjTGV3VNG0VQRG2ph6nlEqP/O944+OQv2Xq6/YbLPNpZTadNT/TYWDSCxay6NG7AAVwU+ee+GtoFrDd3kNTe2mKSwVaa2nchEAeL0KhQAQkNaaJIqzACKAfPvN152FhUCh17bf3FL6qeeGdtSHnXD6buMO3X/0to0AdOuL056Ni0uXtrSVQ/iZDKQAhKr43n8a6rZ8XdfPC6vYD+fngwjI9lmnf7+BtRWOARe2LQKixyfeS8CqzNBhO/ZtAJgaS7waxiYBWEALaAENWBBw/3nv3eYSIL1ddtsNRBxG1dfFVQLS2qVZjR9b9/jiWHJdeNaxRqI6RQyAyVOmRQ5IovffeP3B+x8qh2UAQeDVOr02Zn0FeBLOWiouWTRv5Oi9Q2D0Hnuc/6tfaW2rLvGdcrql0+OZqdMiAkJc96er5s5e4MlCW2viiaB9+jgHqzVJH1S0cPqFyZNP+cnPmxP86LTTDj3koChMMgo1s7rzzruS5A0AoNTjkx51AvBze+4zBoDnAYbVytMAKuSvcmnhIGxqWJn94exKFjTpbztsmzRcrTO607YZYUN44s0Z71t4gNt97J7OIereTbtcioSfgcRrr72SAIDcaYftg3Q96140U3xZGRrqWCPgSAPhvTz1+dN/dq6nGv9xyx1DNx0EwgcVtICVqRJXtCvIPs1VlrdqscLYJCAhBcArr77GMPrhSafEcVwsFpcxjyLdfQX5rYYNtdbSRW+/88Fi13WHlvkwCAKhPOVnCADZnr37RhrOwRhmclkAXgYQ6rprrnUA4G221VDPQyBgAavDWbNmPfHUM5dcdoUFLPSMl19ctCQB5PYjd8jnaqjG12B1F/Aynq8QtRabejbKlLU7kSbNzTXk0dJ23XU3KgXo0tgxo20ludLy953WpK7wcgkLZ1994w0AcMm2227reR3m76++inKNf6x1rJ2QFa7jANz/8KOVYFHFgw8+5N1336WDNTWMwzljLWlFUvSlnvfR++tvuPHCkt14m+0mPPCwc873VVqRvQJR8c0XACAffuRJJQGn4cw3thrhjNfU0FRrLfEklKAQQkqC0fRnnx658+5tGgccfuRvfv8HCHTUTviEu0n1YcXSo48/bYSEnxl3wP6SyChIJdJ9Xhry2flb7X12r7z6sjYQHpDNDhs2rJu53ZUjEQ1YevnRCTPnL3HIINf/qKP/S/nId9/r2MYAZ7/91kczrRPeoA232XzTPp5YfjWso44u0b44dlb6Crt43pzhu+3TotVvfnfRtw/fW2sodtYYUSKtAr4qEQjp9wU8QEIYSFNlfjKNPUoV7YSEMdBxpegCZCaXzWQyab7o9FSVRKqej1xhi+1GFCSQhK+89HxDuu0T1db5JtuR1urdc8+9JAAv9/Lb70gFRw3PKzW3IokhksfvvPmP19xlCT/Ijxs3LpeBAAwTz2+a8uzTvfv23nqDwR6tiUt/vf5fLRbIFI499juGcKaSFFJCimqFiTUXu+y8a8kCQs6cOVsBEgkcoXxQA+qc/7v0wzmRogDsuINGW1FVhqVJA9pbjawUgIQB7aOPPa2BpkHrbTV0Q1/UvksrH4Nc++p+cVizn2gday2qs8SA7qHHnkqA/cbtX2pePHhg/+HDh5108skLFy5sP1gJ+JLChsr3rrz00vU32bpYLB942Pjnp79gAToCnfRDrn1PRgPnXnnrg0Tg/N9e+P7H/ym2zs3nG6+44q/L9Ed6AWwpXDT3tBNPHLnbWAecd+HFd91+i1Tt2rhusyZ1WFIElixYNGuRcU6AolePRg9QgFxWKNSKFSlZUTx8+J//OAcplR8EUkoCy2Xl7YZT0cHDX676U5q2ZJuddtli44asgOn6aAAo5DJgNG3KFAAQheGjRgsCZtXW0TrWerhlfzXJ7rvvQebG7HfwT884OQqTQDAQn8N7tazRtGr/kjUsK3V8srTwfWNYLkfW2DiOlVK+7y+rQvZ8IIdcfqcR2zQK8dpL05NuVNkdH1Kmv0Tl0nePPSYQAMoP3H9XIAHpZXyvUMgi8B+/67YDDj8hK2AgNOXOI7dPE3T7QgI8/PDD58+arZ3OCi2MvvHWfyPj7brnHn6Acmikp8DlDcRrJijPPPsXAJAUb7jm6kqEPRAVi57nn/2zn//28r+VI8ZO+vmmrbfaJIu0Pl4XaPdnk2mQhzMvvfm2BbbaZuseAQDEcdyVYf0ric8nE0sddXyBsGRIRi6mWRQv+RCBGLTRhuWkSLJUKp3w/ZN8L5PJ5AYPGnL4YUec/+sLL/3d7/5w/jn7jxmRz3oA+g4ect8jjyYkSZMW+bV0tv3clcLzjmS0dNrEf/uZwgGHfSf96+z5Hw4fsXU6r9fbcN3jv/+Dy6+4+so/XnHhOT8eueV66ZzaZtj2L738eno+a7W11hoa3V5AulPhZOectbbyiQ5vuOy8LABV2POIHyyJqNNjjOYnlRq2pKYLr7v8l2lejkzvfgsNi6S2TMppge3K1UjT0XRoohJpaNvKHz7XVwLwofo98sLHzaQmXbfVjF0SLiWXHv2tEXkBBEP++PdHY8coSmwNli8U/WnKI9fxdYOtvLHUaWF0Y0tkTNLo4tHjD5TAkE2Hf7goSoxjEtMaOku7bBX2Si32lbqWJW1auN3Z2FqdGFN9FaudcQlJ6pB0M2fP0tUJkyRJ+9vb6X12dM5ZarJ86x8vyAPI9HlzcRKThiZtljZthkxIw/ZS92nXommT7g98ASHHHXZUObEk33pt+ojth0nge9/ePy8BKKBx5iJddoydZaWqemjToTOL77/j7wDgBdfd83ArGWqno5hOp1dZ0+eac8bq8KLfXNCYaQSCX//hUk0yiZ+a+OB6A/uv27fp2wfs5gPI9Nh0xO6tEUk6TVpXkXi1jdbQJqSlJcOls95oCADggquuWUKWjUt0ROp0zFZ63D7/YvArgzppq2PNQzoVimEr2frkQ7dDyo8WLSZdVFxC0houWdz849PPGDxoiFIBAE8CgAcccMC+t99zX2hZilNxX5XBXZG2yDra0nmnnzxo8MZlx9ZiKU7aNNvIZPK0xw878qA+/fv42Uy6LcsDvbM45ttHPP7kU+mJorbWuNTqTIW02Qo9XJa0pZ0gaa2ljU4+cr+CAPxev7z61rIhaWkTmpgrEAmWLpzwr6vyAAQaBgyOyYiMKqSvG9JGQ5tQh3TR98fvlQUgGsd/7+cly9AwssZWpdhyMNSLqOdvtk5qQe0/+bUWkjqK66StjhVhWdKWmKJ1oXXhpZddLCRU0PDB7FZNGm1oI5qEJvnspK1yUdtmdPH2O+578OFnDGnTbriYLNOFkyY+3K9fv569GryMPPr4E1oja6oztfZldpbGVXpPxs0znhvgwWvqf/F1t60EaXMk6Sx1mbr1g3dfOfSIAwGITEMh42UVDvjWnkY3X3bRuQIImgZtsd2ekaWpcImQLJEhGZNtLH24985bQapgyCYLUqnlGJaKdJqWdGv8XDN0JNva2qY8+tiYnXaFH6S2AwX87L9/QBYPGTsipwC/94lnX0IyKcXO2C5IGy2pLXVCkpbJ4juvvwwAMtmPS0lCFrUmLZ1Oj7dsF5ifjDppq6OOlYJ1ziQ2TmxIlq0ppZKx1LY0iYpxHMexdpalYtjpO2RoTKyTdAI3L5qXqppozXKkzVoydK4YxSQZxa5sSWpLSybGtB+XVCV6+w/OaDpNklGRLiENXdJ+/i5IW/V/ay1JJqWh6/bMS6DH+s+812xIupg2Ss+5QtL20evPDGyAl/G8Hr0/btN6xaSNLi7T6ZdfmAbAy+YK/TdflA5bHJOW7Nh9dkZCu2DGSxMBAKL3kBHNMZnujOukrY4VoAvSRroJ990JANnGSc++TKbvXURXpklozCqSNlvzg66ZLiFZdroZ6PH7S1OCFZMhbSvZ+ugDtyPoddcDj5PFc888ASJz1Ak/Ts/iOsO4ispLO9Ik5KIj9h4JyBF7HpLUkLb2pttJW0W6MCkW2bqEjMqmLZ2j2qYktUQuJhdsvmGTkIDsecEfb9KV+aurpK1EhnRLk5lTB+aAoHDUWRe0kIuti6yxOqyQNkvrVpJ8fBVhSUOnLa21LowZm7KOyzaJooSMyTlh86sApGpQPbZ47LlZJMNiROu6IW0xGafaVIazj9x/J3jym2P2mk+2pFYFo6mrpG1lx+3LIW1fbdttHXV0BSGELwNfBuWYUuUkJK1RKvAzhSAIgsD7/+2de5xcRZXHf1V1H90zk2SSSEgIhBAgkAQMiVmSECCICJ8E1wUVBHbdFUHRiLgqJGyEhQgEV3B9ILgowQU/IOBn8SMPQWUjAgHDI4JEXgkh5GES8ppHd9++davq7B/33p6eZ4IYmNmc7+d+Zrpvd99XV9U9feqc33GOGhoLAKqRrkbaAaWq9ZQKPN8mCaCGDBkCZ9Jotp5wvhCF0IeDNuSchnFpAXqllE6oXLEmSfWW0pUCQNVQnBhYA6cR+i6KYGym+y8Iolv6fbpzBxgjYWFKO7Zu2ripJXIIBjWPGTsESPUhe80177J2zKSjmoYMFs6a1h0rX3zJANLLd9Q1zFYCsm3HWyIo6iiac+pH4AemapYvfzJIN6osUCVn81C8rtcHZP7w+ONCAvBmzDhaeYgthFAAZL1KCMP0jJe3X+crsXPHhtPPOAthYeGVV88+ZjIcIGwXfdrdpqvyWn0bJrNz0dVXy+KIT19wBgBViyIvlU6Ze8bd9/7i9DknIGk7YvwhUMFd9z5g6kNOu+1DECAkEMxfOD8sBk///tcEWCiQUk4qJyVJ6VRac0kRIFKlfqrqqKIJCB289qRsAZvEylOwCXR59Yqn17zRRg6QOOesM6Wo1cdE7aKBsOSW2wiA3zTvi1+qAqEUq1e/fumCywCZVcV7j9Rf3wF1KSkE6URbqRxbiSBAoApKycR4yoM1MOWbb/xB0Yez0bAhzdOmjCYgbAh6L0brkF873d7+8G+ehPMvufwqD9BaJ0YL5SGPP+7nVlE/PzyG6Y7Mi5OgIUwlnKBUEBYbau9QXtZ3C8WgUAwk0FTIeqTyQ4DgBZC+CEJIldYtER0dVqZJ/woCEkFDqBoKUKnNBgkEvmhsUIEPJToOyAGBJwqFArwA0gM82dAEz6uXbq/XKyLrnLV5cKxF3AovXrb0fgOQ8I+cPMVT0ARtREw+IC2B0mqCrrdYWQ8IrvvO901CAG664ccaiDV0NX89K7IjEgtAxIkd1DSIdDRjxvRNW7YWVfHV19ZMGjtM2VRcWJKTgKT01pHf+VKfGZIEQjz+yNLAkxDB7JNPJJllLaTmmhDCmB7SGPp9iC/zN6d7tjIAaSyyHABI2PZpkyca63/0rHMvX3BRVilDKQgfCLMatTIr60hCkFC1pc/9mkxJlwwgS1E5MbRmzaZFV10//cMnBUWo9HAIgLfgiv8Ye8j4OScfDwCS7r77bqjGpuGjXf6DK/vZleNRrSAbAPmB2R+cPGEUksrXr/lBWxW6AjgBK4QVwkE6KALpCkQC6S/+xlebh+/T+L6RnzjzvAB+I4Rz2vcVbBW+ghcuvHhhAjQ2Df/MeeeO2cejjgsnAAUnYS2MW3L7vTsijJs05eAxg4qAhL72mm//8r6lIAlyEG5A9LW8WTiXPTSAoyj6xJw5SonhQ/e95ba7WxMYIEkoDIsqLVusg9tuus0kkKr47esXt5UoBgkhSFjIfKCsLbmNLQBnzA03/rBiMHryzOnHTi8Aw4Kg6AWA61pYj3paOiF3Y9kD7An3HcMwKZ2nCGsOc0tE5BKylqIy2ZhaNlB57efP/nABANRVP753K9G2ko4daaI2TQmRcVQ3jVsLuMMsAAAR70lEQVQ/6ZluMHG6RKTnnDRLCYhw3yeeXUdEpRJRlchkO3fGRlGU2l4tLS2HH344gDFjxm5Y/5ZNqBoZZ9NZzpicJkqIKNaR1jqOY611pVIxiSEbkdly1MhQACg0P7+udTvRllZdjpL0lE1iupz+u3W9mf5Gz3NGcZWiUpVcRHbHx+fOAHDAhCmbK6R7nWeydUufk095DFM6I0YUk6uSqxKR0ZWRo96HsPHhFetaiIwlsjHZiGy1qbH5gQcfiR0RRXrT88MLgD/q9HmLY6Jsxi1f0unRxFHiyDhyzhBViFofffj2YgGFkRPa09Nus9n+03ngSJNuJ9fy/LL7AHgFoDAiaD5YG0risk0iMlHS/haZ1rXPPjII8KCAhraKq5osaSjfnKGonai6efWfhkmhEF536/2biWKqEFUbB+3/6GMvkSVyMVFsKe7/8Qh132+SJVjYyvevuiIEAAU0Hfp3J6VBfOVSpCtlsjHZ0g+vvHgoEEAde+zcnRVq0VQy5Sq1mp5bUEKuShQR6bjcsu/wwRByyYNPbiLSVGswNntvOlZ1T2XoN3PNA8IWZ5iBSi9q4M65NggN6VBogBNoGu6095v/fUoohI1Nx02fGgLDGv1AQAF+Hw6F+n1JRUn1gQfuP/oDR1C8Zfa0w/78ysbGRlQF0go7kBBKFKQVNlpy843Nw/Z5ZdWb58/78utvvDFs6DDpQSopJIhICJVLipMQwvf9IAistZ7nSSUhC39+/Ml1m2MCGhsbDhg1eBAwbLDv+x45OOtqQicM0xMuCG2hwSHeecXCy+595DmEg5Y//kRzgN1r6X2SeurIAzyQByfhCNaYHRsnHjRu86Ztw0fsN3vKASFgZBpA4MGqvz/11GNmzfDIAOond9yzswoUChfNu6AHDQ/KJRw7OrQHY2affOrUo46qbl576y33JTFkMdf6obzWg4kh9FPLnhCAqUqEjQeMOygRcEJKOJDxmoaD3Nnnft4Awgt+fu8vGood+8i1fxUJCTgnoJ0AvFM+dMIgIHDxNy5dMGzEqOnHTYAEhLNwvRew70ek2naUFbLxUqHxx379YMEPACAMjv/wBy0Qx2WjEr8Ygtq3rl656LrvtkN44X533XnfkCKaPBRJhsZTPQe8SBISELCVW5f8eEs1OOLE086ZO3Mwau1NdnWz9Wfea6uRYfYeat6BhKi13L5h9sxpUydNmjF56pTDJ0ggFADgh43+kFGHTzl25qxjJ06cOH/h5RXTp6ct/aXoNJmIqEq2RLr10gsvTAeh0z/2qRdeXBtp0pqI6NWXX77kKxcVJADMmn3iC6+sTh2AJnFEZBJXqVTqHWPW2jiOiWjZsmXjx4+fOnXq1KlTJx06dohAIwBAFgYN2/+QI6Yff9wJJx82YdJjjz2WfrxL7Pa7domZfkaPjrM4ibcRtdz/85slgGLzb//wUuJIa9d7RPdue9ooV9YwlmxCJiEyy35138hQNgCQzZ8878uaqKWys0I2IUfGUGyjkiEislWiyuSJYwrFYMT46dssJS7ztNnEZJ62PHU0SQWDSBNFFO8gKr21cZVShaA4vC2ickQ2IZeQ0bk/Z+d6opZvX35hAQCKjftN+NPG9pKjqo4paaekleKdXzzvHF/BD4vzF1yZOvMoT/NOxwAiImvJVShpH7fP/gLB8pXrHdG3rv768EZ/zcaWOD19ig1FhmLb7z1tlCZ1kdVkDRHZmMqbzpj5/qL0EQx9/8mnrWqvbtPVkimXqi1EmkpvzJw0GoBSQ3/1wIpSGzldawqmPu+kW8KKo3hb8+AG+O97brOOiSpxKhOSvdjJndaPPW3ee2AnMsxeSlq4ARBI4ioR7Ttq1IRJI5samwsNxbMHNxUaC+PGjdu6feeb6zdu37rFg3322WfGjT0oUJ3DKajub8eatN6xAwClrv3edxYtXrzoistv++kdk4/8qZAN5BXhLEz7QYceOm/+5QsvnT84gO9JkBFCwgORkwoFVQCyzQBIs1oBENHIkSOnTZvmK2mT+MDRI/cfc2AigrUbNm3f2WKta9uxveCJIAhqYW17+moyAwsiKlfKTY2DAecF2LD65Y+fc4ED/vM73z/m6AlSIHFGwe/xszVlfyJKXQ3Z0zRCNBdUE0JIKX2QsDHIwQvWrVp96cLLHnzgIe0oRhF+wxcvvMiHDYUVcFk+hBAqrUwM8+rKF194aR2EN/9zn5UGpWq1eVAhK0GedgRBlNVqyzsJEaQPY/cZNuy27y367IULzj7vS7fdcUMAuNj5SsIDYNDYhHL7mWf94/yrfvDM8qePPPoICyTaBUpBNQLmhuu+dfNP7jROXHnNNZct+EoaQuc65RJkXjuIIhSWPfPECSeePH3yhEEjRozer/nxF1cetN8Qm8SQHqCUUCQg+qyX2Z/IEyyEhivPPmHWb1a8ubW0w/MQA5F2VqjBIaiy7ayz/+WPr22EKDz8u6UnHXdUFqprAOkgLWR9O8n+CgLZSAT+P5zx6ZaSvunOew7a1ydCwfd6GEu7P+1vvCemIsPsvTgiMkRlojYi4xLSMcWaYkcJkTZOa22TmExso7bah4yr87S5XPe2/rGzZDW5CtkS2RKRIXIUl0mXiWj9hs0vrX1ra66Csq2kDaVBdRG5mKwmpx3pTJHEUm0hIq27CCtYZ5IkztRStMl8f3aXmlnM3kiHX8yYmIiq1QpRRLRtZDMAfOGi+XEuRUNEhlyPSx/+WpOYarVKud5hulPb9tYDdyw5afpRHtCkpEyjxERjcdTEdqJYl4mixNrYkUvlCIl0VCVy/75gHpQHb/Drm6NSTImt87JYZ61NrE2szeU8tCNNtkq2QqZCupVa1s3750+iMPwn9y1r0VTR2QEl1TaK20i3kimfOH1GQYWr1q2LiBJrja4mUeljp30UgAobfvbLh0qOTOrg6+xrzNxILotQJSIybu26zWv+sq2Uqw8RxWRMFnBn+4draFdYolTKzlJC1E6ltdT65tCwafz4qW1VWyGKidq02bxp7cRDR3sK+x14wNMrX0sHM1d1HbGDtpObzdrEmNiYOB1OH3jwPgj/tE+dXyFqrQ1WvXnU+rGnTVAvZR8YhtkjpFWnXBUkK5ERMgyLvhEwBCKrCIqM7zSchRdGpSgc3OwgU79VWswnr6/XebPCgWyWMecsrIAXGGMtCUjlnPBDPxMAIYrjOC2QnHd/l9VhTAvg1OXNC4k4TqSEc05KmSRJsVgUQjiLxCSACwJPCEXWxInxPV95f4OoJOb/EfVRVWkaspFSzJk947Ennj30iCnLV6zwFIyFr2xsI08EoB6aUK2Mlc3jA9KnGzduFEK0tbVt27ZtzZo1q1ateu6PK15f/dqWTX+JtQOgJKyDl8lI+J/5ysU/vH5xAMCYNLObRBpxJk1cDUXLuIPHv7HNzZz7sYfvub1BwlMdiiGp89iJ2hllKhJ1Yj4OCoCbPuUDL7y8+oVV60fut2+oIABt4kB6IRQIUDRrysTlz78yYsTgsWPGbNm8dc2GLfAK58+76JprFw9tUAkQ9iDW4SQAkhDIyiRH1g+VdSSlEBJxHMkwjE3cJAMANpUo+ltECe5RXKcW4iQcTILEbd+647AJR+6stB9y8PhRo0c/s+KPlWoVwvvGNYsvvuRLsamQS4YGQ0AES5krNg8jzP45R/mUwcb1Gw+eMOnAw4584fnljUCcaM8PskvTowXUj+cJ2GhjmHeXvFQoIE1sSCpK68F35IgTbASTICyStuSFxpFSCrtltNXEATyQgFDamMDzU7mOdOrAaO1JQPo2nUAhQOSSHd2MNuco1U+xxipP1f46IX0lAFirlVBElIqn7MHrxgxIupfNdQsu+dq3rv9uAFgVQPjWlJWfCii+bdK5USFEEATGpEUHHAhe6KUvkTXWQAkUCmE5ipe/+sph4w8zO1uHNw+BdSQcCeeENFYVpHvq1z8/bu7Z1h90+30PnXnKLKrE2saHHHLIypUrm5ubfd9Hb0YbIeu7gkAJRHLkhCNWvr55zabt+w4flCQmDDwJeAYUG1VwkMmW9RtuvOmm1p1twi9Mn/2h08/4RNp1vToJuy5XUmYXEEkqigLYqoOySkkImFjbgu8gC0SCYCUIkOjvOUG50ZZezDyAxBgIAuRjj/7+3v/5hVKqOGjwKaededS09wcK2qFJwqGq4KVKfIAHIV1eTDbdMhG5NL2BlOd7+489+NU3VktAJDr0g3IUSymLoc9GG8Mwu4IAsh0DvuwYN9KxIjehiARc3U/IFNV9RKF6+U3Ul5Pv+sYsyMOlbgYHke1c9Gy05YdFqHkaOm23+x4Zpp4Oo00nOvCDH/3oRxdc8IVU49BBAPA8L6lZbLLOy9vLrUnk9ywBQVKknrBagna9Yyxt7VKBCOQwZGjzlh3bASgHJcjm8tZOyAAegC+cPff2ux5q2v/gVWtWD/YBuCVLllz0r19ta29T+b3SZcmjNTOtx1N2gDzuxJOeWv7MXzasa24eqoQUafAbQcBSFh4HkcrOdetI9T2wc1+THY8c1a0HACNICFEbH1xdLGC/p7N0MNK42vqDlxC5rB4gsmxP6ni12+YEkRAinRyYOeu4Rx75red7BKhUfI/S0NtuByI6baQL/eFqciICw7zriNQ86mqr1XBIJ25sx4pdDhcks61kNRj6fG+HlHB+CPUZ7/mIttv0h6GM6e8EfiGOo9H7j/7cBecPGzqstl55KtEJAEdOekFtvezNn5AXMpFCkBRpwTTP82pGW+p7S402a21QCD3f37Jly0dOPVVRJlJrc/OrRqXU9swzz3kSc+acEqTpELq8aNGiK664QkHEiQ68npMkupH9ynp86aNPPPXE8KHNCrKm7koCVDdlWW+r7X6Xy51JmeVXQ6XGZJ3o98Ch28F2TaFwnd/U3bjtmTiOly5devzxx1uC1cZTHgRAouf5ioEAe9oY5j2gvt9RZwm3jvW9jCiqx9/hHZ/ta6x+J/2dZz+Zt09He7bWKOX3cqNNSxeQ6KvIQa+kVlofLznAOedJaaijUEeH0UZSQSqBE6dMePalV67975+de/ZZDcA3v/5vt/zsrhdfezX0gjSms8vGu/mbO+2XhJCZY6zXH131vbG33tX5k3XjQy99ufOlGFCWW8buqMvt4rxqnjZrrFRSawMgDH1yna3B7pdQdDoC2t3v5d1jIH6jDLP30qv7gWH6N1Iq5yyRjeOoS2GrXM7Pdil31TOOsiUVxcg+l0F5Gmn22DoAxiQA4kTXItO7EMcaif7agkvbNW69+b/Wb9ryT2eccfXiby599HdFL0ic9bpZbH0jhHDk4qSKdzZHyXfoPuijncg641UIEYZ+GPrVSL8tCZT+OdZyk2CY94BeKiV0fg9EbVH50qe7a9fV7sQ74K89V4bJSFtREASdVzsppZRSqd7DderrP9a6BQCCFFIpVbvBplJtyB1RUkkLUp4npPB8XwhZa89ph5JQUgjpC/j+3NM/fv89dzZF5pjDJoSDm96qlkeOHqVtLJwzrpN5sDt1JaWQvh/kVTV7uSB1S/ft55pj9bUvO+pacj/dnW+hPp+9UAz6eGd3un8v/QGeHmWY9xjXx7Oc3scm/t3F9Gd6ns7rzbZwde25U8vendtUvQpt3b46x671FlzuUnUMiisiaECkY0UiVMI5ISRICilE3Q56m7Lsfe3b66e9nvsuzmUXWxogvIvntavp0T1/BG8bTkRgGIZh9lqcpI7KAcIPndWywQshnbEEBU/uVe4rpp/DRhvDMAyzlyKp5vYjQJCQ0pMAYElK1aH6xTD9A54eZRiGYfY68lzrXrQGc0GwPSpF2LVeBPN22HW2fP/e/l8He9oYhmGYvZzuOmHA7sU2Mcy7CRttDMMwzF5Lf/OkMExfcHtlGIZhGIYZAHBMG8MwDMMwzACAPW0MwzAMwzADADbaGIZhGIZhBgBstDEMwzAMwwwA2GhjGIZhGIYZALDRxjAMwzAMMwBgo41hGIZhGGYAwEYbwzAMwzDMAICNNoZhGIZhmAEAG20MwzAMwzADADbaGIZhGIZhBgBstDEMwzAMwwwA2GhjGIZhGIYZALDRxjAMwzAMMwBgo41hGIZhGGYAwEYbwzAMwzDMAICNNoZhGIZhmAHA/wGwRRfRmfwGSQAAAABJRU5ErkJggg==)"
      ],
      "metadata": {
        "id": "rm_C6joB9MAv"
      },
      "id": "rm_C6joB9MAv"
    },
    {
      "cell_type": "code",
      "source": [
        "# Fungsi untuk menghitung skor r2\n",
        "# Tujuannya agar kita bisa tahu seberapa akurat model yang kita buat\n",
        "# Penjelasan parameter:\n",
        "# y_pred: value hasil prediksi\n",
        "# y: value aktual\n",
        "def r2score(y_pred, y):\n",
        "    SSres = np.sum((y - y_pred) ** 2)\n",
        "    SStot = np.sum((y - y.mean()) ** 2)\n",
        "    \n",
        "    r2 = 1 - (SSres / SStot)\n",
        "    return r2"
      ],
      "metadata": {
        "id": "IowqfUXdrtcM"
      },
      "id": "IowqfUXdrtcM",
      "execution_count": null,
      "outputs": []
    },
    {
      "cell_type": "code",
      "source": [
        "r2_test = r2score(y_pred_test, y_test)\n",
        "r2_train = r2score(y_pred_train, y_train)"
      ],
      "metadata": {
        "id": "LhRLiYUYryfl"
      },
      "id": "LhRLiYUYryfl",
      "execution_count": null,
      "outputs": []
    },
    {
      "cell_type": "code",
      "source": [
        "print(f\"Skor R2 untuk data test = {r2_test}\")\n",
        "print(f\"Skor R2 untuk data train = {r2_train}\")"
      ],
      "metadata": {
        "id": "KxjxZHQSHhI5",
        "colab": {
          "base_uri": "https://localhost:8080/"
        },
        "outputId": "a0038841-8641-44d0-987e-fab8df1a4a5a"
      },
      "id": "KxjxZHQSHhI5",
      "execution_count": null,
      "outputs": [
        {
          "output_type": "stream",
          "name": "stdout",
          "text": [
            "Skor R2 untuk data test = 0.7950306100967867\n",
            "Skor R2 untuk data train = 0.8128076069157694\n"
          ]
        }
      ]
    },
    {
      "cell_type": "markdown",
      "source": [
        "Tampak bahwa model ini balanced. Tidak underfitting dan tidak overfitting. <br>\n",
        "Bisa kita lihat bahwa skor data test dan skor data train sangat mirip. <br> \n",
        "Selain itu, skornya pun sudah cukup baik, yaitu ada di sekitar 80%."
      ],
      "metadata": {
        "id": "RNs7s7_99nRV"
      },
      "id": "RNs7s7_99nRV"
    },
    {
      "cell_type": "markdown",
      "source": [
        "## **Mean Absolute Error (MAE)** <br>\n",
        "MAE bertujuan untuk memeriksa seberapa jauh perbedaan antara harga sewa aktual dengan harga sewa hasil prediksi\n",
        "![image.png](data:image/png;base64,iVBORw0KGgoAAAANSUhEUgAAAYYAAACDCAIAAAAGWCu1AAAgAElEQVR4nO2daVgU19LHT/fMsC+ihl1ARWMUAY0oilswKqAirhFFo16jCUaTGO/NK4mGbG4xPuYarwlGoyRqEgUElRgVBBU1AiIKGpVNRED2ZYZtZvq8H+ql37kII8sADdTvA88w03O6ppd/16lTpw5DKSUIgiDCgO1sAxAEQf4flCQEQQQEShKCIAICJQlBEAGBkoQgiIBASUIQRECgJCEIIiBQkhAEERAoSQiCCAiUJARBBARKEoIgAgIlCUEQAYGShCCIgEBJQhBEQKAkIQgiIFCSEAQREChJCIIICJQkBEEEBEoSgiACAiUJQRABgZKEIIiAQElCEERAoCQhCCIgUJIQBBEQKEkIgggIlCQEQQQEShLSQdTU1AQGBnp6ejIM06dPn+zsbEIIpRSWgN+7d++oUaMYhnF0dNywYYNMJutse5HOQRQYGNjZNiA9ArFYPHny5MGDB9+/f//hw4cmJiaTJk2ilLIsSykdM2aMq6trTk7O2bNnvb29tbS0OttepHNALwnpIDiOo5TeuHHjs88+Gzp06HfffVdZWcmy/3cFUkrz8vIWLFhgZGSkVCo711SkE0FJQjoIlmUZhsnOzp44ceKyZcsKCwsjIyMJIUqlklLKMMzdu3cHDBgAW3a2sUingece6TgeP34sEokkEsnixYsNDAz27NkDHTfouxUUFDg6OhJCGIbpbEuRTgMlCekIOI4jhNy+fdvW1pYQ0q9fPx8fnxs3bty8eRME6PHjxzo6OkZGRp1sKNLZoCQhHUdqaurw4cPh9bp16wgh+/bt4z+CXhuIF9JjQUlCOgKWZTmOKygocHBwIIRQSl1cXMaNG3fy5MmsrCxCyKNHj4YNG0aw19bjQUlCOojMzExtbW0TExNCCMSzP/jgg+rq6uDgYEJIdnY2ShJCUJJ6ODDa1d57gV2kpqba29sTQjiOgzE1T09PCwuL4ODge/fu9erVS09Pr70tQYQPSlIPhVLKcZxIJOoArwQk6e+//4ZAEuyR4zh9fX1/f//09PSAgABwkTAjCUFJ6llwHAfxY4ZhWJYNDw9/9OgRqVeNdgJ8opKSEtWuGfxdunSpvr7+uXPnnJycCGYkIShJPQ1IAiKEZGRkBAQE+Pj4JCUlkXaWJEJIdHT0gwcPDA0N+XcYhuE4ztbWdtq0aWZmZvb29hBgalczEOEj7mwDkA4CbviwsLDIyMiCgoKysrLk5GSWZXV1dUn7BJVhj7dv396zZ09MTExlZeXixYsDAgIcHBxU1Wft2rV//PEHv73GzUC6FkwHRDcR4XDp0qW///576NChY8eO9fHxOXfu3KlTp7y9vfmQs8aRyWRlZWX6+voikaiyshLD2Ih60EvqWbz22muvvfYavK6tre0Ax0RfX19fXx9eq3bcEKRRUJJ6FjAdn1IqFv/fqUc3GREUKEk9C+id4aQNRLDgiBuCIAICJQlBEAGBkoQgiIBASUIQREBgeBtpEwqForq6WvUdkUjUohb4+SUw9kdVaLCltrY2LhPQ7UFJQloJZFdu2rTpwIEDIpFIoVAQQiillZWVbWxZLBZLJBKxWCwWixmGUSqVLMsqlcphw4bFxMSgKnVvUJKQNjFixIjy8nL+X2Nj4+3bt0Pl/+Z8HWa6VVdXy+VyuVxeXl7+7Nmzx48fZ2RklJWVqW5GKb1+/Xp0dLSHh0f75ZojnQ5KEtJKoIb/4sWLY2Njg4KCtLS0KKVVVVW6urrr169vY+MymSwtLe3q1atXrlyJjIyE5ZVYlt2/f7+HhwdOhevG4By3ngh4GVOmTImOjg4PD2/1HDeI+FRVVbm5ud25c0cikSgUCkrp2bNnvby86urqWtomlExpoDjZ2dkHDx7ct29fcXGxnp5efHz80KFD0VHqruBJ7YloysuAdgwMDI4cOWJoaEgphZpw//jHPwoKCrS0tEQikbglqJaU4zgOBM7Gxuazzz6Lj4+fO3duVVXVwYMHX2hYo9HxHkvXOhooST0LSqlSqVQoFEqlkqkH/m1dRUcIPDs7O2/fvl2hUDAMIxKJ8vPz33rrLdK2CXQsy0J4G2zu379/SEjI+vXr9+3bV1paCt3Gpr4Lv6vVuxYyMEuxRV/pWkej50oSx3E9sKwqSIZEIoGhenBMYISrpYP3PCKRSKlU+vv7L1myRC6XE0IkEklERMTu3btBsDRiM9TD/Pbbb93d3WGppUbvTJi+d+jQoV9//bWpbbou0F1tvr7A0fjzzz+//vrr9rRLkwgrllReXq5QKOA+IYTo6ek1M15QV1dXW1vLP/B1dXXVFOWBihzr16+vra394Ycf1EclKioq5HK5WCyGbSildXV1DWp6wPMcIilaWlra2tot+M0dBdh87969c+fOUUpTU1N/+uknQki/fv2WL1/eu3dvY2NjX19fHR2d1jVOKS0tLXV1dU1LS4MyA2KxODo6euzYsZqK+8C1mpeX5+fnFxISAoudNACunxkzZujo6ISEhHSnkJNSqRSJRAkJCfb29r169WpOYRk4GgEBAcePH8/MzOwYO9uIsEbcAgMDz58/X1JSIpPJKKWjR4/+888/+TIazwNnpbCwcPz48fn5+RzH9enTR1dX9/3331+zZg2cwue/xTBMbW3tiRMnqqurd+/ezVfzaZTt27dHRESUlpbCoA/DMNbW1jo6OnwFa6VSWV5eXlJSIpVKDQwMFi5cGBQUJNg7QSqVPn78mGEYAwODLVu2sCxbXV1dWlpaUVFhbGwsl8tbJ0nQverTp8/hw4fd3d2hV1hTU7N06dKEhARjY2ONFGaCvVhaWm7fvr22trapbQghOjo6EomEdKMlmOBivnLliru7+/jx4y9cuCASiV54VOFTwT4mG4cKiZqamoqKitu3bzs7O/ft25cQEhUVRSmFtX2eB94PDg4eOnQoIWTUqFFPnjwpLy8HR0bNV86dOwdn69SpU2ra50168OBB7969CSHz5s2rrKysrKyU1SOVSktLS69evQrRE3d39zYehK4LRKO3b99OCIFcR0LIkiVL+I86zIY5c+YsXLiQqj2zXQiIH8XGxpqbm589e3bZsmXTpk1rzhflcjmldMuWLYMHD25fEzWHsJ7k2trahoaGQ4YMmTBhgq+vL8MwEBFoCpZlq6qqnjx5Mm3aNIZhHB0dra2tjYyM4AmphlOnTkGvMCQkpDkmDR482MrKimEYKysrAwMDfX19vXr09fV79erl5uYWFBT00UcfZWVlQR6zMKGUQiRb8d+0OrytCkR8PvrooxkzZvBBpaNHj/7444/wkSZ+ASFq6z1RlVkpmtpd50IpZRgmLi7u/fffDwsL8/LyOnLkyIABA3x9feHR25wWutDREJYkATU1NTKZbMGCBWKxODQ0FIZXnt8MjvLVq1dtbGzMzMxofZRH/aXPsmx+fn5JScnatWs5jrtw4UJxcfELO1lwJxNC4E5TvXvhfCuVSo7jPv74Yz09vby8PCLUwCqEip8fm4c3NdI+IeTgwYPm5ubwbBeLxRs2bLh9+zaswd32XZAetrYSwzAymWz//v0///yzq6urQqHgOG7//v329vaHDh2C9PfOtlGTCPHUisXiqqqq0aNHT506tbi4+PTp06TpRQf/+uuv1157DSIL/Kh2Uy1DI+Hh4YMGDdqwYYNEIsnPz//zzz/JiwotQpuNqgzsERJqDA0NnZ2dS0tLSTeKYrQIuEPMzMwOHDgAksQwTGVl5cqVK2UyWWdb11XR0dEJDg4eNmwYx3Ew0kIp/eKLL5YtW0a6nUAL8ceA06Gtre3r60sIOXbsGGnsuDMMk5ubW1NTY2VlpXq5q3FPoJGYmBh3d3czMzMXFxdYXrEt1lZXV0NPDURt6NCh6enppAcXk4WB/5kzZ27cuBGeARKJJCkp6Z///KdGcgLaAt9vbfQiEaZjC0cMZIi/CyDSr6enJ0yb24IQJYkQIhKJampqZs2a1bt374sXL6ampvLFKwC44WNjY52dnUmzLyaGYXJyciorK8eNG0cpnTdvHvTdCgoKWvGoAS/gm2++uXbtGm+Dk5MT9IB6ppcEQOToyy+/dHNzgwirWCzev3//77//rtmgUosAlw26qI2eHaGdMriimupTqy4a3J0QqCTBELKxsfH8+fM5jvvtt9/If+sOBCaSkpImT55Mmue7wtPm1KlTDg4OOjo6DMPMmjVLT0+vtLT0zJkzpHkL0lNK+ZAwx3EMwzx9+hS+CNeNl5eXt7c3edG10urxiBdaKBAYhtHW1v7555979+7N31r+/v5paWnqE6/bCdCj/Pz8vXv37t69u6Sk5PltsrKyoNMtEBiGKSsr++GHH3bs2JGTk/P8FfX06dPCwsJOsa39EKgk8ZfsG2+8QSn99ddf5XI5rzvwaUpKiomJyUsvvdTMNvle2+zZs6GRQYMGubm5MQwTERFBXqRrcEHo6+uLxWIdHR2IChcVFZ07d059ZlNTrbWOlu6os4CgUv/+/b/77ju+61FcXLxy5UrwmzrSGNCjO3fubNy4sX///g8ePHBzc+NrqoAxaWlpDg4OgYGBRAA9ODAgIyPj3XffNTU1raysHDNmDAyb8BQVFTk7O69du7aTbGwvhJUqqQo4HZMmTXJyckpOTo6KiuIL5cAVFhUV9frrr8PGzblXGYbJzMysrq52cXEhhCiVSrFYPGfOnAsXLkRHR+fk5FhbW6v5OtxXUVFRH374IYQkcnNzr127lpubC3lotNnZgHK5PCsrSyqVtqi3SCk1MDCwtbV9YYqDQIDIka+vb0xMTFBQECS4X7lyZcuWLdu2bWsqkbWdkEqlO3bs+Oqrr+zs7JRKZVBQ0KVLl3x8fKD3LRKJTp06JZPJBgwYQAjhOA5sA2nolCeBUqn86quvNmzYMHLkSCsrq6+++urkyZPr1q3jXfLz588XFRXZ2tqS+kTKzjVYUwhXkgCRSLR06dI7d+789ttvHh4e8CbLslKpFJ4SvEipbwc2O3nypKOjI2Rvww3j4eGhr69fWVkZHh6+du1aNfcJnwhrYmKiVCrlcrmVlZWlpWVubm6DLdVoE3z04MGDmTNnQjp486NglFKJRHLu3DknJ6fmy1/nApGjb775JiEh4datW+Ba7ty5c8KECV5eXh2T4w57CQkJGTFihJ2dHaX0woULqi4nvLh27RrDMOPHjycqt3QzDzLMN26RVVRldc9GDT5//rypqenIkSM5jouKimIYBrbng9zXr19nGMbd3b0VBgsZ4UoSf3DnzJmzadOmkJCQHTt2mJqagmrExcUNGjRIIpGodujUANvcvHlzz549qvHC/v37z5s37+effz59+rS/v7+apuCjCRMmfPLJJ/ybdXV1Li4uUHy6OZcFfDRs2LC7d++2LsprZGSkfheEEI7j6urqWtF4U7As25bysgYGBocOHRo/fnx1dTVo64oVK27fvm1hYaFBI5sCjtWVK1f++c9/UkqlUmlYWJiJiQlEIQkhLMtWVFRcvXrV3Nzc0dGR1J/r2tpaf39/Kyurzz//XP0u1Mx5ajXnzp2DBHSIpcLEPUIIxOZBpyQSiaurK28wpXTjxo01NTUwLbmLIlxJovVpuAMGDPD09IyIiAgLC1uzZg28HxcXt2rVKtK8wDb4FGlpaTdu3IBC0dAI+OdPnjyhlMbGxmZmZg4YMKApBwS+IpPJIPUZnv9aWlrjx4+HFAT+i4WFhQYGBrq6uk3ZAxlMrTss6gG9Pn36tI+PjwabnThxYmxsbOu6WuCNOjk57dq16+233wZHqaCgwN/fPywsrAMcJRDBDz74YNCgQQzDXL16NTc3d9WqVaoz79LS0goLCxctWiSRSPi+T1VVVXh4OFxmatzSysrKLVu2lJWVqUleUzUG7Ondu/fmzZuNjY2f3wYOyJo1a8Dg27dvJycne3p62tjY8I3n5OTcv39/4sSJqnOPlUplaGjoxIkT1RsscIQrSQBEfHx9fSMiIg4fPvzWW2+JxeKMjAyWZVXPkHpAeiIiIl555RXQFFWP5tVXX01MTKyoqAgNDd24cSMfR2gUGEUGrxv2/sorr8CFBZcawzBbt25duXLl8OHDm2oEQlH89s35CbAlra+R1tRmcDUPGTLkk08+0Ui2NDQycOBA0oaUPJDvNWvWXLp06bfffoPQm5ubG+mojgbDMMOGDYMoDExRmjNnDqkf9xSJRNHR0QzDQGiSvwBMTEzy8vJeOH2X47iysrKSkpJmdsPhkL7w7EDlTEJIaGgoIWTu3LmkPvcF5t/yBvOPCrFY/OjRI3DZuqgeESKwabdAZWXlokWLKioqaP2Ew8rKyn79+jEMc/36dUrpwYMHL1y4AJ9C2tu//vUvQsjSpUtp0zMtX3/99fT09EY/WrBgAcMwkyZNgt01Cszsfeedd2j9bEagwVeUSqWPj09+fn7LfnN3B84UnEdCyLp16+hzh04jwKnx8fFZsGABVbkY4EVpaWmfPn3Mzc2lUqnq+7Nnz2YYJjU1FaxqD8NaChimUChefvllbW1t/oqC92GgLSYmhtZPZmq0ETgamzdvHjRoUAfZ3WaE6CWpCjzDMEql0sDAYNGiRbt27QoNDXV1dX306NHChQtJ/Uiz+tYopQzDxMfH6+rq2trayuVy1fahoMzcuXNPnDgRFxeXmprq4OBAW+L0NtgyOztbT08Pyhg0ZUxWVlZgYKBMJmtFePvLL7/s37+/egtp/Yw8TQG+YVtaANfj+PHjOTk5c+bM2bNnT4sOctuBfaWkpBQXF/v5+enr64MBLMuWl5fHxcXZ2Ni8/PLL/JZlZWW1tbVmZmbNaVzV724mlFL1h5TvUT548GDKlCm8JdARjoqK0tPTe/XVV0l9Z1Amk5WVlVlZWbXIDAEiREmCFET+X3i9cOHCr7/+OiIiwsvLC6bjN1Vhr8E7cOVFRESMGzcOLgLVSwG8XE9PTxg7g0RK9X2353cBgP8cFRUFX2808gJf1NbWNjMzg3l5zZck+NucDAB+dEYgwKGIjIxcvXr1yJEjDx8+3PHZknBSbty4wTAMBLb56+fBgwdFRUWzZs3iz1pCQsL169fv3LkzYsQIf3//F6pne2QzgMHx8fEMw0B4CNazYxjm8ePHf//99/Tp0/m74P79+xcvXnz48KGFhUVAQIDGjelIBHThEkLAZ5ZIJHCgFQoFLJVDCHn11VdHjx6dmJj48ccfHz16lNTP+oFt+ExCcGKhZjMhBD4lhFy9ejUoKAhO6vM7NTQ0nD59+uHDh0+fPv0///M/RKV/DiapZipCKQ9aHwSFFyzLwvbffvvtrFmz1P9MCwuLHTt2tOVAdaFIAdxa9+/f9/Pzs7a2DgsLMzIy6mAXiaeoqIhhGEivZRhGoVBIJJLY2FhCCD8NoKio6OTJk9u2bfvhhx8++ugjf3//TjzaJSUlDMOYmpqSeudXLBbD8D8/YiiVSoODgwMCAuLi4jw9PTds2NC6OnwCQVjZ21Axtry8PD4+vri4mC8vC47xm2++qVQqLS0tIbuEEMIwjJaWFmwGf6GwNH8NwZvBwcF37961trZuNDYMqufj4yMWi5OTk5OTk/lKu7xJfPhQV1dXLBZra2vzNT3gBcuyJSUlq1atSklJGTduHHmRaihai6YPeftCKWVZNi8vz9vbWy6Xh4WF2djYNPCCOwbYo52dHcdxEF8HPZLJZEeOHNHV1R07dixsdubMmSlTpjAM88svv4wYMYJ0UjK3qsGQgQF6RCmFNVomTZpECGFZNioqysnJydDQ8NChQxB46nhrNYiwvKTIyMiYmJhjx449ffrU1dV1yZIlkydPnjFjBgjTnDlz3n///aVLl5L605Oamnrx4sWSkpK9e/fK5fLg4GBzc3MzM7OxY8eOGTOmuroakvRgrv+YMWNWrlz57rvv8p0aeFbfuHHjxIkT58+fh1pIHh4ea9as6du376pVqwwMDEJDQxMTEzMzM1NTUwkhR44c0dPTg2UUiUqh24yMjDNnzkBgq3///uRFkiSojlU7AdHKqqqq+fPnp6WlhYSEjBo1qoOTtnngdPj4+GzatOnQoUPTp0/X0tJKSUn58ssvU1NThw8fPmjQINhyypQpVlZWjx8/jouLO3HiBKX0hR359gCu+SlTpvTr1+/QoUMrVqzQ1tZOT0/fuXPnpUuXzM3NYcI5IcTFxaVPnz4VFRXh4eHbtm2Da7JTDrJGENaNkZeXV1FRsWzZMh0dndra2qKiooKCAlJ/PVlYWISEhEC6Kpww0AKGYd577z2JRAJjOpmZmYMHDyaEKJXKqqoqOzu7zz77jGGYiooKKOndYKcymUwul8+cOXP+/PmEkLq6OplMBr0zQohUKq2qqjI3N//0008ZhqmtrW0wEYTWL+kTEBAAK5fZ2NgQgfWtKKUlJSWUUvDpKKWNJkZRSqFgHvR85XK5QqEwNDRs3YMXXCR/f/9r167t2rVr7ty5nXirQBfb3Nz8/PnzW7duXb16tZGREcuyrq6uJ0+enDBhAqmPLsGY4IEDB0xMTLy8vNoe2m81lFJ9ff0LFy58+umnK1asMDMzq6urc3Z21tXVdXV11dXVhWeqpaUlIeTIkSMKhQIe2F1XjwgRZBIAonGkUumSJUucnZ1tbGwMDAyMjY3h+d8gYaK0tHTmzJlmZmaGhoZaWlqWlpZOTk5//fXX81u+EKiB/fHHHxNCNmzY0IoWWkdTSQBAVVUVvMjNzc3MzKT16SOQXAIbcxwnl8stLCwg4SMrK0s156ODgYcopfTZs2eQwvLdd98RQsLDw1UNppQ6OjrOnDmTUvrkyRP+Z3bFJABhSRLMHVOlwSXVoKo8LIja4Ct8+JlS+vxHzdkpwO+x0U/V0D7Hpq1UV1dLpdLPP/+8V69ehBA3Nzeor6K6DcdxVVVVaWlppqam06dPz8jIqKioaEWSDhznAwcOEELmz59P1ebOaJZGJYnjuOrq6uXLl1tYWNy8eZPfuLCwUEdHZ/bs2bT+xobtL168KBKJkpKSKKWbN2+urq7uAMtVgUGVjRs3mpqaRkZG8oeurq7O1NR09OjRvMHw9+7du4SQP/74g1IaGBhYWFgI23dFSRJWx40fX2uKBh7pC53q5oRs1O+0a/vAKsAozNOnT7du3frhhx/+9ddft27dcnFxoSqDXwzD6OrqDhw40NXV9dtvv7Wzs2vFjqB3dv78+dWrVzs7O//444+wC832ZJvfB4TuWEZGxuHDh/X09GCgDQY6li5d2rt37wMHDtD67jy8uHHjRt++fZ2dnY8fPz58+HBYI6vD6snC4SooKPjmm2/4cWS41N955x2pVKq6RgbEuW7duqWlpeXh4XHx4kVLS8u+ffvSLjuhRFgjbki7kp2dLZVKly9f7uzsrFQqYeCGPhdce/jw4UsvvQRjPS3dBdwhKSkpixYtsra2Dg8P52fbaOQngEmffPJJVlaWms1UFZDPBXNwcEhISBg1apRYLIY15tLT02NiYvicAFIfo/Tz8xszZszWrVsrKyvBy+vI+tZgiUQicXBwuHTpkoeHBzxZP/jgg7Nnz16+fFk1VxZ0ecaMGd7e3p9//vn9+/dhDkODzL4uJE/C8pKQdgIe8nfu3OnVq5eurq6vr+/169dDQ0MDAwPNzc35Kxg2S05OVl86qilo/ZD/7Nmz5XL5qVOnYMhfU/czn3J58+bNL774olFHgM8pVX2HUjpw4MDNmzcHBQXZ2NjU1tZevnzZ3t4+MTHR0NCwgZ9ICLG1tQ0NDX369CmMVHQ8lFITE5Ovv/46NDQ0ISFBoVDExcX16dMnKSkJln5pcEj79Olz4sSJx48fQ/kknga/q0uAktSDSEhIgPy6BQsWbN26NT8//+TJk++++26Dexsy7lraOHhbVVVVixYtysjIOHHixMiRIzU4xAZTf/Lz81esWLFr166mhrrBDL42i6pCLVy4cMyYMSkpKWKxGAawSBMz5imlMHLaWd0f2On06dOdnJwgpLV48WJ4TqiR+AZ6ROqPhlwu12yxmnYFJalHABfxw4cPYZkdc3PzuXPn/uc///npp59Wr17NT1KB+VPFxcVOTk6khVP/wUV6++23L1++vHv37vnz52tEj2h9yrJYLH748OG8efOUSiVMi1dTJH/IkCF6enrkvxWH4zhbW1v+vuXnZzTVCOls54LjOHNzc/7xACmmLTopsLGdnR1UUu0adFAYHelsHj16tGTJEr52QmJiora2Nsuy0dHRVGVELCUlZeXKlbSF0/ShzU2bNhFC1q9fT1u74jaYB2Ogqi3I5fLvv/8e5lVA++pTCiDTXU37rbCtswCD2zJeCWkNGjSpXcHwdvcHQsIpKSmWlpYQWKGUjhw50s3NjVJ6+PBh1c3u3Lljb2/P/9scwN34/vvvt23bNnfu3D179pDWjlSCF6A6iefhw4c7d+50cXF5++23CwoKtLS0oAiEetQsNPTCUV2hAQa3xV8T2jRs9XQZQ5E2Eh8fz88shXGxVatWRUdHnz59GsKiMIEuPj6+OYs+8fAh53Xr1jk7O+/bt6+mpoZS2qK6K7zvJpVKnz17lpeXl56enp6eHh8fn5iYCCUTtLS0FAqFg4ODamlXpPuBktT9gbs3JyfHwcGBqCRzzZgxw87OLisr69ixY5s2bYLSC8XFxUOGDCHNu+f5If/ly5czDJOfnz9hwoRW1MaXy+XV1dUgTLW1taBBvPF8WhCldMmSJVCjEiWpu4KS1CNIT08Xi8WqQ9ocxxkZGS1cuHDnzp3Hjh1777339PT0kpOTWZZVTQtQA2zz6NGjyZMnFxcXE0Ly8/M1bjnHcTU1NfBaLBZDTfEuNKSNtBSUpG4OOBRJSUlQb7CBf7FkyZK9e/empKRcvHjR29v71q1bUGa7mZLEsmxaWtq4cePAkSFtEIvne3mq74hEIrlc7uzsDOusoSR1Y1CSegTXrl2bOnWq6jvQD3J0dHz99dfPnAE6aY4AAAQbSURBVDlz8OBBb2/vxMREX1/fZrYJ0ubp6dmKJCYEaQrskHdzQHpgGU7y3xEicENWrFhBKY2Ojr53755SqXzllVdIS4LHHTxC3A5HCBEWKEndGbiH79+/r6OjY2Fh0eCWBt2ZNm2avb29VCpdv369kZERzNhs/i6YjkWzxwcRIChJ3RmocZGamgpzI55PNeI4Tl9f38/PjxASFRUFY23ojCCdCEpSd0YkErEse/bsWXd390bnIoDfAYsIicXi0aNHd4aZCPL/oCR1W+rq6srKyo4ePfrLL7/cunVLKpU+v7gbpCkOHDhw4sSJffv2hQLBGkn5gQkQGmmn7Y0gXQgGvfTuyptvvnn58uXCwkLwlaytrbdu3Tpr1qwGeQDw79mzZ8+cObN//36BZCFCMFsIliAdDEpSt6WkpIQQwi+mUldXp6enp6ur29T2VKOFOJKSknr16gWLtbSF2NjYCRMmoDb1HFCSEE1C61O6Bw8e7O/vv2/fvla4XTKZLD09/e7du8ePH7979y6knreTwYjQwDONaBLws1566SVYJYm0vOgSwzAPHz48ceKEnZ1dXl5el1tNE2kj6CUhGkaDlSTnz59/+fLlvLy8brMoA/JC0EtCNAzIB61fDZgQAoVHXvhF1UpGcrmcZdm6ujqGwadmzwIlCdEkcrn8999/r6io8PPz4xfUbYWPw7KsqrQhPQeUJERjKJXKnTt3Tp069eDBg1FRUSdPniSEVFdX//vf/y4sLFRT1A1qfo8aNWrRokWaHfhDuhwoSYgGAB0JDQ21sbEZPXr09u3bMzMz4SORSGRqakopFYvFjeY9wuQ1hUKhup4a0mNBSUI0AK8j3t7eRUVFkZGRu3fvJoQolUotLa0VK1Z0qnVIVwIz0BCNsWDBAmNj419//ZVlWSjajymOSEtBLwnRGNAv279/v5eXV9++fQkhDMPU1dUdPXr02bNnTXXcCCEwuDZixAisBoegJCGaga+oe+/evX379hFCfvnlFz8/P7lcnpeXV1paCiujNPpdCG+XlpaS+rCUaikVmMGLMaYeAkoSohlgNO3IkSP29vaTJ09OTEwsKCgghOjr6wcEBDS/HZAemEGiq6srkUi0tLTax2REiKAkIZoBpMTGxsbQ0DA5OTk0NPS9994jhND6hXNf2AKfKimVSu/du1deXn7t2rXc3Nzg4OAhQ4ZYWVnBigZI9wZTYxENc/jw4fLy8jfeeMPc3Lx1LWRnZ3///fd8fw2qlEydOtXd3V2zpiICBCUJQRABgWO0CIIICJQkBEEEBEoSgiACAiUJQRABgZKEIIiAQElCEERAoCQhCCIgUJIQBBEQKEkIgggIlCQEQQQEShKCIAICJQlBEAGBkoQgiIBASUIQRECgJCEIIiBQkhAEERD/C9AmyCv3chlBAAAAAElFTkSuQmCC)"
      ],
      "metadata": {
        "id": "sYBXLTuB9LLg"
      },
      "id": "sYBXLTuB9LLg"
    },
    {
      "cell_type": "code",
      "source": [
        "# Fungsi untuk menghitung besar Mean Absolute Error\n",
        "# Penjelasan parameter:\n",
        "# y: value aktual\n",
        "# y_pred: value hasil prediksi\n",
        "def mean_absolute_error(y, y_pred):\n",
        "    return np.mean(np.abs(y - y_pred))"
      ],
      "metadata": {
        "id": "Q9wxHUDFGtiR"
      },
      "id": "Q9wxHUDFGtiR",
      "execution_count": null,
      "outputs": []
    },
    {
      "cell_type": "code",
      "source": [
        "mae_test = mean_absolute_error(y_test, y_pred_test)\n",
        "mae_train = mean_absolute_error(y_train, y_pred_train)"
      ],
      "metadata": {
        "id": "UrgrjKE9Hsy3"
      },
      "id": "UrgrjKE9Hsy3",
      "execution_count": null,
      "outputs": []
    },
    {
      "cell_type": "code",
      "source": [
        "print(f\"Mean absolute error untuk data tes = {mae_test}\")\n",
        "print(f\"Mean absolute error untuk data train = {mae_train}\")"
      ],
      "metadata": {
        "id": "c2HCOcYsGyT5",
        "colab": {
          "base_uri": "https://localhost:8080/"
        },
        "outputId": "b3f2e423-ac8a-4447-c2a3-985f9fb70de3"
      },
      "id": "c2HCOcYsGyT5",
      "execution_count": null,
      "outputs": [
        {
          "output_type": "stream",
          "name": "stdout",
          "text": [
            "Mean absolute error untuk data tes = 293.23764102660203\n",
            "Mean absolute error untuk data train = 243.5660407304566\n"
          ]
        }
      ]
    },
    {
      "cell_type": "markdown",
      "source": [
        "Tampak bahwa rata-rata selisih antara harga sewa aktual dan harga sewa hasil prediksi hanya sebesar 293 dollar untuk data test dan 243 dollar untuk data train. Hal tersebut menunjukkan bahwa error yang terjadi tidak terlalu besar dalam konteks harga sewa bangunan."
      ],
      "metadata": {
        "id": "FF-wq4FF_K5k"
      },
      "id": "FF-wq4FF_K5k"
    },
    {
      "cell_type": "markdown",
      "source": [
        "## **Root Mean Squared Error (RMSE)**\n",
        "RMSE bertujuan untuk menghitung akar kuadrat kesalahan antara harga sewa aktual dengan harga sewa hasil prediksi\n",
        "![image.png](data:image/png;base64,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)"
      ],
      "metadata": {
        "id": "1S5VmsH5Mr2c"
      },
      "id": "1S5VmsH5Mr2c"
    },
    {
      "cell_type": "code",
      "source": [
        "# Fungsi untuk menghitung besar Mean Absolute Error\n",
        "# Penjelasan parameter:\n",
        "# y: value aktual\n",
        "# y_pred: value hasil prediksi\n",
        "def root_mean_squared_error(y, y_pred):\n",
        "    return np.sqrt(np.mean((y - y_pred)**2))"
      ],
      "metadata": {
        "id": "W9TIupTAGctE"
      },
      "id": "W9TIupTAGctE",
      "execution_count": null,
      "outputs": []
    },
    {
      "cell_type": "code",
      "source": [
        "rmse_test = root_mean_squared_error(y_test, y_pred_test)\n",
        "rmse_train = root_mean_squared_error(y_train, y_pred_train)"
      ],
      "metadata": {
        "id": "S00fGQF-GtL3"
      },
      "id": "S00fGQF-GtL3",
      "execution_count": null,
      "outputs": []
    },
    {
      "cell_type": "code",
      "source": [
        "print(f\"Root mean squared error untuk data tes = {rmse_test}\")\n",
        "print(f\"Root mean squared error untuk data train = {rmse_train}\")"
      ],
      "metadata": {
        "id": "VO7SNQIRGwwK",
        "colab": {
          "base_uri": "https://localhost:8080/"
        },
        "outputId": "b627e770-4aa6-4950-8d07-6ca4232a9e37"
      },
      "id": "VO7SNQIRGwwK",
      "execution_count": null,
      "outputs": [
        {
          "output_type": "stream",
          "name": "stdout",
          "text": [
            "Root mean squared error untuk data tes = 409.0727709699441\n",
            "Root mean squared error untuk data train = 361.8778962759095\n"
          ]
        }
      ]
    },
    {
      "cell_type": "markdown",
      "source": [
        "Tampak bahwa RMSE untuk data tes adalah 409 dollar dan RMSE untuk data train sebesar 361 dollar. Hal tersebut membuktikan bahwa model mampu memprediksi harga sewa dengan baik karena besar errornya yang minim."
      ],
      "metadata": {
        "id": "UxRtI8Z6H6WU"
      },
      "id": "UxRtI8Z6H6WU"
    },
    {
      "cell_type": "markdown",
      "source": [
        "## **Mean Absolute Percentage Error (MAPE)**\n",
        "MAPE bertujuan untuk menghitung rata-rata persentase error antara harga sewa aktual dengan harga sewa hasil prediksi\n",
        "![image.png](data:image/png;base64,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)"
      ],
      "metadata": {
        "id": "Ay566wBKL1Q-"
      },
      "id": "Ay566wBKL1Q-"
    },
    {
      "cell_type": "code",
      "source": [
        "# Fungsi untuk menghitung Mean Absolute Percentage Error\n",
        "# Penjelasan parameter:\n",
        "# y: value aktual\n",
        "# y_pred: value hasil prediksi\n",
        "def mean_absolute_percentage_error(y, y_pred):\n",
        "    # Konversi ke array\n",
        "    actual = np.array(y)\n",
        "    predicted = np.array(y_pred)\n",
        "    \n",
        "    # Perhitungan MAPE\n",
        "    abs_percentage_error = np.abs((actual - predicted) / actual)\n",
        "    mape = np.mean(abs_percentage_error) * 100\n",
        "    \n",
        "    return mape"
      ],
      "metadata": {
        "id": "FNV-5cJtKEuM"
      },
      "id": "FNV-5cJtKEuM",
      "execution_count": null,
      "outputs": []
    },
    {
      "cell_type": "code",
      "source": [
        "mape_test = round(mean_absolute_percentage_error(y_test, y_pred_test), 2)\n",
        "mape_train = round(mean_absolute_percentage_error(y_train, y_pred_train), 2)"
      ],
      "metadata": {
        "id": "vTMvSwuYK2Yl"
      },
      "id": "vTMvSwuYK2Yl",
      "execution_count": null,
      "outputs": []
    },
    {
      "cell_type": "code",
      "source": [
        "print(f\"Mean absolute percentage error untuk data tes = {mape_test} %\")\n",
        "print(f\"Mean absolute percentage error untuk data train = {mape_train} %\")"
      ],
      "metadata": {
        "id": "G0Pzi3jbK9bF",
        "colab": {
          "base_uri": "https://localhost:8080/"
        },
        "outputId": "471a8454-2943-4848-e4ba-b5e24b6ae791"
      },
      "id": "G0Pzi3jbK9bF",
      "execution_count": null,
      "outputs": [
        {
          "output_type": "stream",
          "name": "stdout",
          "text": [
            "Mean absolute percentage error untuk data tes = 11.7 %\n",
            "Mean absolute percentage error untuk data train = 9.91 %\n"
          ]
        }
      ]
    },
    {
      "cell_type": "markdown",
      "source": [
        "Tampak bahwa persentase error pada antara harga sewa aktual dengan harga sewa hasil prediksi hanya sekitar 10 persen. Hal tersebut menunjukkan bahwa model dapat memprediksi harga sewa dengan baik."
      ],
      "metadata": {
        "id": "JUdSDXS7Lp9S"
      },
      "id": "JUdSDXS7Lp9S"
    },
    {
      "cell_type": "markdown",
      "source": [
        "# **Kesimpulan**\n",
        "* Terbukti bahwa projek ini mampu mengimplementasikan tema money (prediksi harga) dan investment (investasi real estate) yang dapat membantu para penyewa dan investor untuk mencari bangunan yang diinginkan. <br><br>\n",
        "* Terbukti bahwa penggunaan model linear regression yang dipadukan dengan gradient descent berhasil diterapkan pada prediksi harga sewa bangunan di dataset ini. <br><br>\n",
        "* Terbukti pula bahwa model yang dibuat mampu menghasilkan hasil prediksi harga sewa yang cukup akurat. Hal tersebut sudah dibuktikan dengan berbagai jenis evaluasi yang kami lakukan.\n"
      ],
      "metadata": {
        "id": "o2Wj_I0rdjPN"
      },
      "id": "o2Wj_I0rdjPN"
    },
    {
      "cell_type": "markdown",
      "source": [
        "# **Terima kasih atas perhatiannya.**"
      ],
      "metadata": {
        "id": "n4QozSG4eLtu"
      },
      "id": "n4QozSG4eLtu"
    }
  ],
  "metadata": {
    "kernelspec": {
      "display_name": "Python 3 (ipykernel)",
      "language": "python",
      "name": "python3"
    },
    "language_info": {
      "codemirror_mode": {
        "name": "ipython",
        "version": 3
      },
      "file_extension": ".py",
      "mimetype": "text/x-python",
      "name": "python",
      "nbconvert_exporter": "python",
      "pygments_lexer": "ipython3",
      "version": "3.9.5"
    },
    "colab": {
      "provenance": []
    }
  },
  "nbformat": 4,
  "nbformat_minor": 5
}